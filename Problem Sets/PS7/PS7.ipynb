{
 "cells": [
  {
   "cell_type": "code",
   "execution_count": 1,
   "id": "55266b60-4ebd-457c-ac82-263bfdd493fd",
   "metadata": {},
   "outputs": [],
   "source": [
    "import numpy as np\n",
    "import pandas as pd\n",
    "import matplotlib.pyplot as plt\n",
    "from sklearn.linear_model import LogisticRegression\n",
    "from sklearn.model_selection import train_test_split\n",
    "from sklearn.neighbors import KNeighborsRegressor\n",
    "from sklearn.metrics import f1_score\n",
    "np.random.seed(1)"
   ]
  },
  {
   "cell_type": "markdown",
   "id": "fcfd27f1-06b0-4273-a1ed-6f086947e29d",
   "metadata": {},
   "source": [
    "## 1. Prepare Data"
   ]
  },
  {
   "cell_type": "markdown",
   "id": "48b19bb1-ced9-48bc-8c03-ce9bfd3fb132",
   "metadata": {},
   "source": [
    "#### 1.1. Load data. The data should contain 303 rows, and 11 columns."
   ]
  },
  {
   "cell_type": "code",
   "execution_count": 2,
   "id": "28dbca2e-39eb-41de-9bfc-dba0b43d401b",
   "metadata": {},
   "outputs": [
    {
     "name": "stdout",
     "output_type": "stream",
     "text": [
      "Rows, Columns: (303, 11)\n",
      "\n"
     ]
    }
   ],
   "source": [
    "heart = pd.read_csv(\"heart.csv.bz2\", sep=\",\")\n",
    "heart = heart.drop(columns=[\"slp\", \"oldpeak\", \"thall\"])\n",
    "print(f\"Rows, Columns: {heart.shape}\\n\")"
   ]
  },
  {
   "cell_type": "markdown",
   "id": "ef1ee074-0370-474e-9d7e-615ff48f1a5b",
   "metadata": {},
   "source": [
    "#### 1.2. Do some basic checks. Do we have any missing values? What are the data types? What are ranges of numeric variables, and possible values of categorical variables? What is the percentage of heart attack among these patients? Compare the values with the documentation and comment what do you see."
   ]
  },
  {
   "cell_type": "code",
   "execution_count": 3,
   "id": "ab9e47a1-bdca-4ce7-bcbe-879c59f334de",
   "metadata": {},
   "outputs": [
    {
     "name": "stdout",
     "output_type": "stream",
     "text": [
      "Number of NaN values in each column:\n",
      "age         0\n",
      "sex         0\n",
      "cp          0\n",
      "trtbps      0\n",
      "chol        0\n",
      "fbs         0\n",
      "restecg     0\n",
      "thalachh    0\n",
      "exng        0\n",
      "caa         0\n",
      "output      0\n",
      "dtype: int64\n",
      "\n",
      "Data Type:\n",
      "age         int64\n",
      "sex         int64\n",
      "cp          int64\n",
      "trtbps      int64\n",
      "chol        int64\n",
      "fbs         int64\n",
      "restecg     int64\n",
      "thalachh    int64\n",
      "exng        int64\n",
      "caa         int64\n",
      "output      int64\n",
      "dtype: object\n",
      "\n",
      "Numerical Variables (range):\n",
      "age: 29 - 77\n",
      "trtbps: 94 - 200\n",
      "chol: 126 - 564\n",
      "thalachh: 71 - 202\n",
      "\n",
      "Categorical Variables (values):\n",
      "sex: [0 1]\n",
      "cp: [0 1 2 3]\n",
      "fbs: [0 1]\n",
      "restecg: [0 1 2]\n",
      "exng: [0 1]\n",
      "caa: [0 1 2 3 4]\n",
      "output: [0 1]\n",
      "Percent Heart Attack: 54.45544554455446%\n"
     ]
    }
   ],
   "source": [
    "print(\"Number of NaN values in each column:\")\n",
    "print(heart.isna().sum())\n",
    "print(\"\\nData Type:\")\n",
    "print(heart.dtypes)\n",
    "n_var = [\"age\", \"trtbps\", \"chol\", \"thalachh\"]\n",
    "c_var = [\"sex\", \"cp\", \"fbs\", \"restecg\", \"exng\", \"caa\", \"output\"]\n",
    "print(\"\\nNumerical Variables (range):\")\n",
    "for i in n_var:\n",
    "    print(f\"{i}: {np.min(heart[i])} - {np.max(heart[i])}\")\n",
    "print(\"\\nCategorical Variables (values):\")\n",
    "for i in c_var:\n",
    "    print(f\"{i}: {np.arange(np.min(heart[i]), np.max(heart[i])+1)}\")\n",
    "per_ha = heart[heart.output == 1].shape[0]\n",
    "print(f\"Percent Heart Attack: {per_ha/303 * 100}%\")"
   ]
  },
  {
   "cell_type": "markdown",
   "id": "c75e146b-0e33-4bae-a05a-559696f03b58",
   "metadata": {},
   "source": [
    "For a few of the categorical values, there was actually more values in the data for the category than stated in the documentation. For example caa was supposed to have 0-3, but the data turned out to be 0-4. The same happens for cp."
   ]
  },
  {
   "cell_type": "markdown",
   "id": "c9c7ff06-7816-4235-8878-82c08aacf38c",
   "metadata": {},
   "source": [
    "#### 1.3. You probably noticed that all the above variables are coded as numbers. However, not all of these are in fact of numeric (interval, ratio) measure type. Which variables above are inherently non numeric (nominal or ordinal)?"
   ]
  },
  {
   "cell_type": "markdown",
   "id": "c38f1979-d67e-4e59-8d21-a4b0b1e51bc0",
   "metadata": {},
   "source": [
    "The categorical values are non numeric, with sex, fbs, and exng being nominal, and cp, restecg, and caa being ordinal."
   ]
  },
  {
   "cell_type": "markdown",
   "id": "00a31db0-81e1-4589-8341-c9c8d0cd03cc",
   "metadata": {},
   "source": [
    "#### We are going to use sklearn library. Construct the outcome vector y and the design matrix X. It should include all explanatory variable (but not output!). The variables that are inherently categorical should be converted to categorical. How many columns do you get?"
   ]
  },
  {
   "cell_type": "code",
   "execution_count": 4,
   "id": "3cc22bff-c73e-4a5a-a2d8-00404c2ba033",
   "metadata": {},
   "outputs": [
    {
     "name": "stdout",
     "output_type": "stream",
     "text": [
      "     age  sex  trtbps  chol  fbs  thalachh  exng  cp_1  cp_2  cp_3  restecg_1  \\\n",
      "0     63    1     145   233    1       150     0     0     0     1          0   \n",
      "1     37    1     130   250    0       187     0     0     1     0          1   \n",
      "2     41    0     130   204    0       172     0     1     0     0          0   \n",
      "3     56    1     120   236    0       178     0     1     0     0          1   \n",
      "4     57    0     120   354    0       163     1     0     0     0          1   \n",
      "..   ...  ...     ...   ...  ...       ...   ...   ...   ...   ...        ...   \n",
      "298   57    0     140   241    0       123     1     0     0     0          1   \n",
      "299   45    1     110   264    0       132     0     0     0     1          1   \n",
      "300   68    1     144   193    1       141     0     0     0     0          1   \n",
      "301   57    1     130   131    0       115     1     0     0     0          1   \n",
      "302   57    0     130   236    0       174     0     1     0     0          0   \n",
      "\n",
      "     restecg_2  caa_1  caa_2  caa_3  caa_4  \n",
      "0            0      0      0      0      0  \n",
      "1            0      0      0      0      0  \n",
      "2            0      0      0      0      0  \n",
      "3            0      0      0      0      0  \n",
      "4            0      0      0      0      0  \n",
      "..         ...    ...    ...    ...    ...  \n",
      "298          0      0      0      0      0  \n",
      "299          0      0      0      0      0  \n",
      "300          0      0      1      0      0  \n",
      "301          0      1      0      0      0  \n",
      "302          0      1      0      0      0  \n",
      "\n",
      "[303 rows x 16 columns]\n"
     ]
    }
   ],
   "source": [
    "y = heart[\"output\"]\n",
    "X = heart.drop(columns=[\"output\"])\n",
    "X = pd.get_dummies(X, columns=[\"cp\", \"restecg\", \"caa\"], drop_first = True)\n",
    "print(X)"
   ]
  },
  {
   "cell_type": "markdown",
   "id": "4182ced7-b6d7-4ee4-a3a3-f5dcc048f348",
   "metadata": {},
   "source": [
    "I have 16 columns"
   ]
  },
  {
   "cell_type": "markdown",
   "id": "1ea02f8c-39e9-4470-aa35-9019516bb2a2",
   "metadata": {},
   "source": [
    "#### 1.5. Split data (both y and X) into work and testing chunks (80/20). Do not look at the testing chunk. Your work data should be 242 and test data 61 rows or so."
   ]
  },
  {
   "cell_type": "code",
   "execution_count": 5,
   "id": "29009419-9ec2-4ed4-9dcb-3412f950f09a",
   "metadata": {},
   "outputs": [
    {
     "name": "stdout",
     "output_type": "stream",
     "text": [
      "(242, 16)\n",
      "(61, 16)\n"
     ]
    }
   ],
   "source": [
    "Xwk, Xtst, ywk, ytst = train_test_split(X, y, test_size=0.2)\n",
    "print(Xwk.shape)\n",
    "print(Xtst.shape)"
   ]
  },
  {
   "cell_type": "markdown",
   "id": "99226f6a-be30-4386-836f-061a2a872096",
   "metadata": {},
   "source": [
    "#### 1.6. Save your test data (both y and X to a file to be used later. Delete all datasets that contain the testing data from memory. This includes the original data frame, X, and y, and the test data itself."
   ]
  },
  {
   "cell_type": "code",
   "execution_count": 6,
   "id": "2457742b-a841-4eba-bc58-9f6920e82355",
   "metadata": {},
   "outputs": [],
   "source": [
    "Xtst.to_csv(\"xtest.csv\")\n",
    "ytst.to_csv(\"ytest.csv\")\n",
    "del heart, X, y, Xtst, ytst"
   ]
  },
  {
   "cell_type": "markdown",
   "id": "3490516e-8832-4e87-b692-beb57046b3b5",
   "metadata": {},
   "source": [
    "#### 1.7. Split your work data into training and validation chunks (80/20). Below, you will only need thesetwo chunks, until the very last question."
   ]
  },
  {
   "cell_type": "code",
   "execution_count": 7,
   "id": "2a7f8616-a3c9-4620-afc0-8f96e1d7d5d4",
   "metadata": {},
   "outputs": [
    {
     "name": "stdout",
     "output_type": "stream",
     "text": [
      "(193, 16)\n",
      "(49, 16)\n"
     ]
    }
   ],
   "source": [
    "Xtr, Xval, ytr, yval = train_test_split(Xwk, ywk, test_size=0.2)\n",
    "print(Xtr.shape)\n",
    "print(Xval.shape)"
   ]
  },
  {
   "cell_type": "markdown",
   "id": "d576610c-f20f-42b9-9fe7-0b96c8cfa9b3",
   "metadata": {},
   "source": [
    "## 2. Logistic Regression"
   ]
  },
  {
   "cell_type": "markdown",
   "id": "fbeab193-4f40-40b9-80f5-78f879cf3827",
   "metadata": {},
   "source": [
    "#### 2.1. What do you think, which measure–precision, recall, or F-score–will be most relevant in order to make this model more applicable in medicine? Explain!"
   ]
  },
  {
   "cell_type": "markdown",
   "id": "803afab9-a80a-42b4-8de0-229ed845e4eb",
   "metadata": {},
   "source": [
    "In the field of medicine I think that it is better to be safe than sorry, which means assuming that having a heart attack is the positive that I believe that minimizing false negatives is more important than false positives. Therefor I think that recall would be better than precision. However, I also believe in not wasting medical resources, therefore choosing the F-score as my measure of precision would be most relevant in making this model more applicable since the F-Score attempt to find the balance between precision and recall."
   ]
  },
  {
   "cell_type": "markdown",
   "id": "14811601-fee3-4d5a-ab9b-06fca84964d7",
   "metadata": {},
   "source": [
    "#### 2.2. First, imagine we create a very simple model (“naive model”) that predicts everyone the same result (attack or no attack), whichever category is more common in data (the majority category). How would the confusion matrix of this model look like? What are the corresponding accuracy, precision and recall? Show this confusion matrix and explain!"
   ]
  },
  {
   "cell_type": "code",
   "execution_count": 8,
   "id": "6ad68faa-b404-442e-ac6f-ffb372c40bd0",
   "metadata": {
    "tags": []
   },
   "outputs": [
    {
     "name": "stdout",
     "output_type": "stream",
     "text": [
      "Cases with No HA: 108\n",
      "Cases with HA: 134\n"
     ]
    }
   ],
   "source": [
    "print(f\"Cases with No HA: {len(ywk[ywk == 0])}\")\n",
    "print(f\"Cases with HA: {len(ywk[ywk == 1])}\")"
   ]
  },
  {
   "cell_type": "markdown",
   "id": "46717515-5fbe-4b82-a356-6c49e185a013",
   "metadata": {},
   "source": [
    "| | | | |\n",
    "| -------- | ------------: | ------:| -----:|\n",
    "|**Actual/Predicted** | No HA | HA | Total |\n",
    "| No HA | 0 | 118 | 118 |\n",
    "| HA | 0 | 124 | 124 | \n",
    "| | 0 | 242 | 242 |"
   ]
  },
  {
   "cell_type": "code",
   "execution_count": 9,
   "id": "bcfa2153-f76e-4908-b567-e99c9a5ea209",
   "metadata": {},
   "outputs": [],
   "source": [
    "TN = 0\n",
    "FP = 118\n",
    "FN = 0\n",
    "TP = 124\n",
    "T = 242"
   ]
  },
  {
   "cell_type": "code",
   "execution_count": 10,
   "id": "9a08863b-4eef-4f42-8efc-5672d4f77f0a",
   "metadata": {},
   "outputs": [],
   "source": [
    "def metrics_summary(TN, FP, FN, TP, T):\n",
    "    A = (TN+TP)/T\n",
    "    P = TP/(TP+FP)\n",
    "    R = TP/(TP+FN)\n",
    "    F = 2/(1/P + 1/R)\n",
    "    return (A, P, R, F)"
   ]
  },
  {
   "cell_type": "code",
   "execution_count": 11,
   "id": "fb474cc5-7b69-4ee0-971f-d64de7e677d3",
   "metadata": {},
   "outputs": [
    {
     "name": "stdout",
     "output_type": "stream",
     "text": [
      "Accuracy: 0.512396694214876\n",
      "Precision: 0.512396694214876\n",
      "Recall: 1.0\n",
      "F-Score: 0.6775956284153004\n"
     ]
    }
   ],
   "source": [
    "summary = metrics_summary(TN, FP, FN, TP, T)\n",
    "print(f\"Accuracy: {summary[0]}\")\n",
    "print(f\"Precision: {summary[1]}\")\n",
    "print(f\"Recall: {summary[2]}\")\n",
    "print(f\"F-Score: {summary[3]}\")"
   ]
  },
  {
   "cell_type": "markdown",
   "id": "3facb17e-324e-44c0-a8f4-5b38761296f4",
   "metadata": {},
   "source": [
    "The accuracy is the percentage of correctly predicted values, because having a heart attack is the majority category, therefore we predict all to be heart attack. This means that the cases without heart attack are predicted wrong, hence only 51.239% of the cases are predicted correctly. Precision will be the same value because precision is the percentages of predicted positives that turn out to be correct, since we predicted all to be positive, the recall would be 51.239% as well. The recall is 1 because we predicted all cases to be positive, therefore all actual positive cases are correctly identified."
   ]
  },
  {
   "cell_type": "markdown",
   "id": "3812d04a-c95d-4306-9dd7-f727908ac14d",
   "metadata": {},
   "source": [
    "#### 2.3. Construct a logistic regression model in sklearn and fit it with your training data"
   ]
  },
  {
   "cell_type": "code",
   "execution_count": 12,
   "id": "2a236c4d-2bf7-46eb-9394-ca9bc62aaeca",
   "metadata": {},
   "outputs": [],
   "source": [
    "mlogi = LogisticRegression(max_iter = 1000)\n",
    "_ = mlogi.fit(Xtr, ytr)"
   ]
  },
  {
   "cell_type": "markdown",
   "id": "41f1397b-f53c-49d8-9e1b-0b91745861e9",
   "metadata": {},
   "source": [
    "#### 2.4. Use your validation data to predict the outcome—that is, whether someone has heart attack or not. Print out the first 10 labels. Which values denote attack, which ones non-attack?"
   ]
  },
  {
   "cell_type": "code",
   "execution_count": 13,
   "id": "05903493-0e3a-426f-b4bd-c70001194491",
   "metadata": {},
   "outputs": [
    {
     "name": "stdout",
     "output_type": "stream",
     "text": [
      "Value 1: Attack\n",
      "Value 2: Non-Attack\n",
      "Value 3: Attack\n",
      "Value 4: Attack\n",
      "Value 5: Non-Attack\n",
      "Value 6: Attack\n",
      "Value 7: Attack\n",
      "Value 8: Attack\n",
      "Value 9: Attack\n",
      "Value 10: Non-Attack\n"
     ]
    }
   ],
   "source": [
    "predictions = mlogi.predict(Xval)\n",
    "first10 = predictions[:10]\n",
    "j = 1\n",
    "for i in first10:\n",
    "    if i == 1:\n",
    "        print(f\"Value {j}: Attack\")\n",
    "    else:\n",
    "        print(f\"Value {j}: Non-Attack\")\n",
    "    j+=1"
   ]
  },
  {
   "cell_type": "markdown",
   "id": "9a23fd18-c97e-47e9-91b9-155bc026ebec",
   "metadata": {},
   "source": [
    "#### 2.5. Display the confusion matrix."
   ]
  },
  {
   "cell_type": "code",
   "execution_count": 14,
   "id": "938b4fe4-2867-4209-b891-0c04fa2e15f1",
   "metadata": {},
   "outputs": [
    {
     "name": "stdout",
     "output_type": "stream",
     "text": [
      "[[13  8]\n",
      " [ 2 26]]\n"
     ]
    }
   ],
   "source": [
    "from sklearn.metrics import confusion_matrix\n",
    "def convert(pre):\n",
    "    y_predict = []\n",
    "    for i in pre:\n",
    "        if i > 0.5:\n",
    "            y_predict.append(1)\n",
    "        else:\n",
    "            y_predict.append(0)\n",
    "    return y_predict\n",
    "print(confusion_matrix(yval, predictions))\n",
    "TP = 26\n",
    "FN = 2\n",
    "FP = 8\n",
    "TN = 13\n",
    "T = 49"
   ]
  },
  {
   "cell_type": "markdown",
   "id": "fcec86eb-ac81-4d5e-89e4-817b550b74fd",
   "metadata": {},
   "source": [
    "| | | | |\n",
    "| -------- | ------------: | ------:| -----:|\n",
    "|**Actual/Predicted** | No HA | HA | Total |\n",
    "| No HA | 13 | 8 | 21|\n",
    "| HA | 2 | 26 | 28 | \n",
    "| | 15 | 34 | 49 |"
   ]
  },
  {
   "cell_type": "markdown",
   "id": "46e28196-c157-4d53-b625-6ce20f41d3a6",
   "metadata": {},
   "source": [
    "#### 2.6. Compute and display accuracy and the measure you suggested in 1. How do these results compare to the naive model?"
   ]
  },
  {
   "cell_type": "code",
   "execution_count": 31,
   "id": "a8ac91fd-db76-456a-a410-eb46d02906af",
   "metadata": {},
   "outputs": [
    {
     "name": "stdout",
     "output_type": "stream",
     "text": [
      "Accuracy: 0.7959183673469388\n",
      "F-Score: 0.8387096774193549\n"
     ]
    }
   ],
   "source": [
    "summary = metrics_summary(TN, FP, FN, TP, T)\n",
    "print(f\"Accuracy: {summary[0]}\")\n",
    "print(f\"F-Score: {summary[3]}\")"
   ]
  },
  {
   "cell_type": "markdown",
   "id": "14ab6b4e-1ac6-47e9-956b-39e71b5199c4",
   "metadata": {},
   "source": [
    "The accuracy and F-Score is both higher in the logistic regression model than in the naive model. The naive model has an accuracy of of 0.51239 which means it only got 51.239% of the cases correct, however in the logistic regression model the accuracy is 0.79591 which means the model got 79.591% of the cases correct. The F-score takes the harmonic mean of both the precision and recall, and a higher F-Score means that the model performs well in both precision and recall, the F-Score of the naive model is 0.67759 while the F-Score of the logistic model is 0.83871 which means the logistic model performs better in both precision and recall."
   ]
  },
  {
   "cell_type": "markdown",
   "id": "45ed85a2-ae59-4b11-bd57-f770ba3fc3a8",
   "metadata": {},
   "source": [
    "## 3. Other ML methods"
   ]
  },
  {
   "cell_type": "markdown",
   "id": "d4045800-1aee-4a02-9868-fea836a6da26",
   "metadata": {},
   "source": [
    "### 3.1. Nearest Neighbors"
   ]
  },
  {
   "cell_type": "markdown",
   "id": "b461abc7-e26d-4290-ba9d-190165a9ed47",
   "metadata": {
    "tags": []
   },
   "source": [
    "#### 3.1.1. Loop over different number of neighbors k (from a single neighbor to all data points). For each k value: \n",
    "#### • train the model on training data and\n",
    "#### • compute the performance (accuracy and your suggested measure) on training data\n",
    "#### • compute the performance (accuracy and your suggested measure) on validation data \n",
    "#### • store the performance value(s)"
   ]
  },
  {
   "cell_type": "code",
   "execution_count": 16,
   "id": "e46432d3-de1f-4a4b-a9dd-581460b550c7",
   "metadata": {},
   "outputs": [],
   "source": [
    "kval = range(1, len(Xtr))\n",
    "acc_tr = []\n",
    "acc_val = []\n",
    "fscore_tr = []\n",
    "fscore_val = []\n",
    "for k in kval:\n",
    "    mNeigh = KNeighborsRegressor(k)\n",
    "    _ = mNeigh.fit(Xtr, ytr)\n",
    "    predictions_tr = mNeigh.predict(Xtr)\n",
    "    predictions_val = mNeigh.predict(Xval)\n",
    "    acc_tr.append(mNeigh.score(Xtr, ytr))\n",
    "    fscore_tr.append(f1_score(ytr, convert(predictions_tr)))\n",
    "    acc_val.append(mNeigh.score(Xval, yval))\n",
    "    fscore_val.append(f1_score(yval, convert(predictions_val)))"
   ]
  },
  {
   "cell_type": "markdown",
   "id": "eec83093-99da-4b16-9d0e-c6a993b6ee0f",
   "metadata": {},
   "source": [
    "#### 3.1.2. Make a plot where you show both the training and validation performance as a function of k"
   ]
  },
  {
   "cell_type": "code",
   "execution_count": 17,
   "id": "18862ab2-2370-40ec-aa61-594a2e356773",
   "metadata": {},
   "outputs": [
    {
     "data": {
      "image/png": "[encoded data removed]",
      "text/plain": [
       "<Figure size 432x288 with 1 Axes>"
      ]
     },
     "metadata": {
      "needs_background": "light"
     },
     "output_type": "display_data"
    },
    {
     "data": {
      "image/png": "[encoded data removed]",
      "text/plain": [
       "<Figure size 432x288 with 1 Axes>"
      ]
     },
     "metadata": {
      "needs_background": "light"
     },
     "output_type": "display_data"
    }
   ],
   "source": [
    "_ = plt.plot(kval, acc_tr)\n",
    "_ = plt.plot(kval, acc_val)\n",
    "plt.xlabel(\"k value\")\n",
    "plt.ylabel(\"performance\")\n",
    "plt.title(label = \"Performance vs K\")\n",
    "plt.legend([\"Training Acc\", \"Validation Acc\"])\n",
    "plt.show()\n",
    "_2 = plt.plot(kval, fscore_tr)\n",
    "_2 = plt.plot(kval, fscore_val)\n",
    "plt.xlabel(\"k value\")\n",
    "plt.ylabel(\"performance\")\n",
    "plt.title(label = \"Performance vs K\")\n",
    "plt.legend([\"Training FScore\", \"Validation Fscore\"])\n",
    "plt.show()"
   ]
  },
  {
   "cell_type": "markdown",
   "id": "4c3cc3c6-f2e0-4eb6-bcc4-6e921d408ebc",
   "metadata": {},
   "source": [
    "#### 3.1.3. Find the k value that gives you the best performance (both accuracy and your suggested measure). How good measures do you get? How do they compare with the naive model? How do they compare with logistic regression?"
   ]
  },
  {
   "cell_type": "code",
   "execution_count": 18,
   "id": "2e307526-36e5-43ae-8e4d-c6614894505d",
   "metadata": {},
   "outputs": [
    {
     "name": "stdout",
     "output_type": "stream",
     "text": [
      "The K value with the best accuracy is 25 with 0.2334666666666666\n",
      "The K value with the best Fscore is 30 with 0.819672131147541\n"
     ]
    }
   ],
   "source": [
    "index_acc = np.argmax(acc_val)\n",
    "index_fscore = np.argmax(fscore_val)\n",
    "print(f\"The K value with the best accuracy is {index_acc + 1} with {acc_val[index_acc]}\")\n",
    "print(f\"The K value with the best Fscore is {index_fscore + 1} with {fscore_val[index_fscore]}\")\n"
   ]
  },
  {
   "cell_type": "markdown",
   "id": "b7d15eff-3810-44f5-9f07-4f07205bdb11",
   "metadata": {},
   "source": [
    "The accuracy is lower than both the naive model and the logistic model with 0.23346 at k value = 25 which is a really low accuracy. While the F-Score is better than the naive model but worse than the logistic model with 0.81967 at k value = 30, which is not a bad value for F-Score."
   ]
  },
  {
   "cell_type": "markdown",
   "id": "3202eb2b-8a81-4bac-9645-67305042b22d",
   "metadata": {},
   "source": [
    "#### 3.1.4. Which k values (if any) are overfitting, which ones underfitting? Why do the model performance measure flatten out when k is very large?"
   ]
  },
  {
   "cell_type": "markdown",
   "id": "7f21ad15-a554-4072-b465-2b78753baf20",
   "metadata": {},
   "source": [
    "For the accuracy, the k values at the beginning around 1 to 15 are over fitting meaning large training acc but low validation acc. After the two accuracy coverges, the k values of the model is underfitting, having both low training acc and low validation acc. Performance flattens out when k is large because the model becomes more stable due to having a larger portion of the dataset."
   ]
  },
  {
   "cell_type": "markdown",
   "id": "81266f9b-7063-4758-a8d3-66d2787e2218",
   "metadata": {},
   "source": [
    "### 3.2. Decision trees"
   ]
  },
  {
   "cell_type": "markdown",
   "id": "5e8626dc-caa4-4645-b4c0-317fc2807495",
   "metadata": {},
   "source": [
    "#### 3.2.1. Loop over different values of max depth, from 1 to 10. For each max depth value:\n",
    "#### • train the model on training data and . . .\n",
    "#### • . . . compute the performance (accuracy and your suggested measure) on training data\n",
    "#### • compute the performance (accuracy and your suggested measure) on validation data \n",
    "#### • store the performance value(s) in a list or array"
   ]
  },
  {
   "cell_type": "code",
   "execution_count": 19,
   "id": "af01f85c-1e9e-4c78-822c-08d314250d0e",
   "metadata": {},
   "outputs": [],
   "source": [
    "from sklearn.tree import DecisionTreeClassifier\n",
    "acc_tr = []\n",
    "acc_val = []\n",
    "fscore_tr = []\n",
    "fscore_val = []\n",
    "for d in range(1,10):\n",
    "    mTree = DecisionTreeClassifier(max_depth = d).fit(Xtr, ytr)\n",
    "    predictions_tr = mTree.predict(Xtr)\n",
    "    predictions_val = mTree.predict(Xval)\n",
    "    acc_tr.append(mTree.score(Xtr, ytr))\n",
    "    fscore_tr.append(f1_score(ytr, convert(predictions_tr)))\n",
    "    acc_val.append(mTree.score(Xval, yval))\n",
    "    fscore_val.append(f1_score(yval, convert(predictions_val)))"
   ]
  },
  {
   "cell_type": "markdown",
   "id": "c27b3341-dc0a-493d-9f4e-1db3caaf73c8",
   "metadata": {},
   "source": [
    "#### 3.2.2. Make a plot where you show both the training and validation performance as a function of k."
   ]
  },
  {
   "cell_type": "code",
   "execution_count": 20,
   "id": "7a7fde44-500d-4336-890d-3e1d6ebe393e",
   "metadata": {},
   "outputs": [
    {
     "data": {
      "image/png": "[encoded data removed]",
      "text/plain": [
       "<Figure size 432x288 with 1 Axes>"
      ]
     },
     "metadata": {
      "needs_background": "light"
     },
     "output_type": "display_data"
    },
    {
     "data": {
      "image/png": "[encoded data removed]",
      "text/plain": [
       "<Figure size 432x288 with 1 Axes>"
      ]
     },
     "metadata": {
      "needs_background": "light"
     },
     "output_type": "display_data"
    }
   ],
   "source": [
    "kval = kval = range(1, 10)\n",
    "_ = plt.plot(kval, acc_tr)\n",
    "_ = plt.plot(kval, acc_val)\n",
    "plt.xlabel(\"k value\")\n",
    "plt.ylabel(\"performance\")\n",
    "plt.title(label = \"Performance vs K\")\n",
    "plt.legend([\"Training Acc\", \"Validation Acc\"])\n",
    "plt.show()\n",
    "_2 = plt.plot(kval, fscore_tr)\n",
    "_2 = plt.plot(kval, fscore_val)\n",
    "plt.xlabel(\"k value\")\n",
    "plt.ylabel(\"performance\")\n",
    "plt.title(label = \"Performance vs K\")\n",
    "plt.legend([\"Training FScore\", \"Validation Fscore\"])\n",
    "plt.show()"
   ]
  },
  {
   "cell_type": "markdown",
   "id": "0d38b24c-3993-4581-bdde-57aad0c47cc8",
   "metadata": {},
   "source": [
    "#### 3.2.3. Find the k value that gives you the best performance (both accuracy and your suggested measure). How good measures do you get? How do they compare with the naive model? How do they compare with logistic regression?"
   ]
  },
  {
   "cell_type": "code",
   "execution_count": 21,
   "id": "ca3cf0fa-1eaa-4559-b787-b951a14673e0",
   "metadata": {},
   "outputs": [
    {
     "name": "stdout",
     "output_type": "stream",
     "text": [
      "The K value with the best accuracy is 2 with 0.7346938775510204\n",
      "The K value with the best Fscore is 2 with 0.7999999999999999\n"
     ]
    }
   ],
   "source": [
    "index_acc = np.argmax(acc_val)\n",
    "index_fscore = np.argmax(fscore_val)\n",
    "print(f\"The K value with the best accuracy is {index_acc + 1} with {acc_val[index_acc]}\")\n",
    "print(f\"The K value with the best Fscore is {index_fscore + 1} with {fscore_val[index_fscore]}\")"
   ]
  },
  {
   "cell_type": "markdown",
   "id": "230cf11a-64b3-4fbf-98d4-85fed7c6894c",
   "metadata": {},
   "source": [
    "The accuracy is lower than the logistic model but better than the naive model with 0.73469 at depth 2. The Fscore is lower than the logistic model and the naive model with 0.79999 at depth 2 as well."
   ]
  },
  {
   "cell_type": "markdown",
   "id": "0a151dc5-0555-4b52-ac29-653dd49edef3",
   "metadata": {},
   "source": [
    "#### 3.2.4. Which k values (if any) are overfitting, which ones underfitting?"
   ]
  },
  {
   "cell_type": "markdown",
   "id": "bb284a74-e926-4942-8e75-052a97517e0e",
   "metadata": {},
   "source": [
    "The larger k values after depth 2 start to become over fitting, there wasn't any k values that seemed underfitting."
   ]
  },
  {
   "cell_type": "markdown",
   "id": "0a3116b7-7cb7-4238-9fb6-9a574d4c0d20",
   "metadata": {},
   "source": [
    "#### 3.2.5. Out of the models you tried–logistic, k-NN, and trees–which is the best model in terms of validation accuracy? How much was the accuracy over what the naive model gave you? In the next two questions you are using just that model."
   ]
  },
  {
   "cell_type": "markdown",
   "id": "bfd7f585-1dce-403c-95b1-0bb212245404",
   "metadata": {},
   "source": [
    "The logistic method gave me the best validation accuracy of 0.79591 which is 0.28352 greater than 0.51239 of the naive model accuracy, the most out of the three models"
   ]
  },
  {
   "cell_type": "markdown",
   "id": "89f2a3ab-25cb-4596-a9db-0fb181ff4543",
   "metadata": {},
   "source": [
    "## 4. How confident are we in the results?"
   ]
  },
  {
   "cell_type": "markdown",
   "id": "4a5fe802-a11c-4019-b5aa-d37f1d14d425",
   "metadata": {},
   "source": [
    "#### 4.1. Predict the probability of having a heart attack Pr(output = 1|x) for everyone in data. Print out the first 10 probabilities."
   ]
  },
  {
   "cell_type": "code",
   "execution_count": 26,
   "id": "50e54968-dcec-4529-a883-85a49769100c",
   "metadata": {},
   "outputs": [
    {
     "name": "stdout",
     "output_type": "stream",
     "text": [
      "[0.12246894472578673, 0.8264417178857605, 0.34115978102859823, 0.2892198608751202, 0.7049578810003357, 0.2845246783221389, 0.07097046066697099, 0.3288103829925796, 0.3843599641228227, 0.9707239825793716]\n"
     ]
    }
   ],
   "source": [
    "predictions = mlogi.predict_proba(Xval)\n",
    "pre = mlogi.predict(Xval)\n",
    "print([i[1] for i in predictions[:10]])"
   ]
  },
  {
   "cell_type": "markdown",
   "id": "6973c626-4444-4be3-a4e2-0e7e87b5f4a7",
   "metadata": {},
   "source": [
    "#### 4.2. Make a histogram of your predictions. What do you see–are the predicted probabilities more extreme (either 0 or 1) or in the middle (around 0.5)?"
   ]
  },
  {
   "cell_type": "code",
   "execution_count": 27,
   "id": "ebe64980-d509-4934-b585-c1ec1b661255",
   "metadata": {},
   "outputs": [
    {
     "data": {
      "image/png": "[encoded data removed]",
      "text/plain": [
       "<Figure size 432x288 with 1 Axes>"
      ]
     },
     "metadata": {
      "needs_background": "light"
     },
     "output_type": "display_data"
    }
   ],
   "source": [
    "_ = plt.hist([i[1] for i in predictions], edgecolor = \"w\")"
   ]
  },
  {
   "cell_type": "markdown",
   "id": "28c1c252-28be-4277-b3b4-63e94b35241c",
   "metadata": {},
   "source": [
    "The predicted values are more extreme towards 1"
   ]
  },
  {
   "cell_type": "markdown",
   "id": "95fd38ed-123b-4ea9-bfb5-1cdb5b8ad5cd",
   "metadata": {},
   "source": [
    "#### 4.3. Why does predicted probability around 0.5 indicate that the results are uncertain?"
   ]
  },
  {
   "cell_type": "markdown",
   "id": "82e31018-f1ea-4a1d-ba5d-754724a98d3b",
   "metadata": {},
   "source": [
    "Because that means that both cases are plausible and equally likely to happen, which then the would make the model uncertain about which case it belongs to."
   ]
  },
  {
   "cell_type": "markdown",
   "id": "c43a8c7c-4802-4c15-b772-d7d54d7bce6a",
   "metadata": {},
   "source": [
    "## 5. Final model goodness"
   ]
  },
  {
   "cell_type": "markdown",
   "id": "11e450b2-f232-4c54-84cd-60da20f77f93",
   "metadata": {},
   "source": [
    "#### 5.1. Take your best model, the one you used in Question 4. But now fit it with complete work data, notjust with your training data."
   ]
  },
  {
   "cell_type": "code",
   "execution_count": 29,
   "id": "a59b9a82-639a-41af-a7ff-7320ff61d035",
   "metadata": {},
   "outputs": [],
   "source": [
    "mlogi = LogisticRegression(max_iter = 1000)\n",
    "_ = mlogi.fit(Xwk, ywk)"
   ]
  },
  {
   "cell_type": "markdown",
   "id": "b6aa9ef3-7620-4a72-bb1c-83c7201c207d",
   "metadata": {},
   "source": [
    "#### 5.2. Load your test data, the one you saved earlier. Use the test data to compute test accuracy. This is your final model performance measure. Show it!"
   ]
  },
  {
   "cell_type": "code",
   "execution_count": 34,
   "id": "1a5257f3-84a2-430c-9ea0-6521e5d8dc09",
   "metadata": {},
   "outputs": [
    {
     "name": "stdout",
     "output_type": "stream",
     "text": [
      "    Unnamed: 0  output\n",
      "0          204       0\n",
      "1          159       1\n",
      "2          219       0\n",
      "3          174       0\n",
      "4          184       0\n",
      "..         ...     ...\n",
      "56           0       1\n",
      "57         288       0\n",
      "58         259       0\n",
      "59         179       0\n",
      "60         110       1\n",
      "\n",
      "[61 rows x 2 columns]\n"
     ]
    },
    {
     "name": "stderr",
     "output_type": "stream",
     "text": [
      "/opt/conda/lib/python3.9/site-packages/sklearn/base.py:488: FutureWarning: The feature names should match those that were passed during fit. Starting version 1.2, an error will be raised.\n",
      "Feature names unseen at fit time:\n",
      "- Unnamed: 0\n",
      "Feature names must be in the same order as they were in fit.\n",
      "\n",
      "  warnings.warn(message, FutureWarning)\n"
     ]
    },
    {
     "ename": "ValueError",
     "evalue": "X has 17 features, but LogisticRegression is expecting 16 features as input.",
     "output_type": "error",
     "traceback": [
      "\u001b[0;31m---------------------------------------------------------------------------\u001b[0m",
      "\u001b[0;31mValueError\u001b[0m                                Traceback (most recent call last)",
      "\u001b[0;32m/tmp/ipykernel_2717/3803533695.py\u001b[0m in \u001b[0;36m<module>\u001b[0;34m\u001b[0m\n\u001b[1;32m      2\u001b[0m \u001b[0mytest\u001b[0m \u001b[0;34m=\u001b[0m \u001b[0mpd\u001b[0m\u001b[0;34m.\u001b[0m\u001b[0mread_csv\u001b[0m\u001b[0;34m(\u001b[0m\u001b[0;34m\"ytest.csv\"\u001b[0m\u001b[0;34m)\u001b[0m\u001b[0;34m\u001b[0m\u001b[0;34m\u001b[0m\u001b[0m\n\u001b[1;32m      3\u001b[0m \u001b[0mprint\u001b[0m\u001b[0;34m(\u001b[0m\u001b[0mytest\u001b[0m\u001b[0;34m)\u001b[0m\u001b[0;34m\u001b[0m\u001b[0;34m\u001b[0m\u001b[0m\n\u001b[0;32m----> 4\u001b[0;31m \u001b[0mmlogi\u001b[0m\u001b[0;34m.\u001b[0m\u001b[0mpredict\u001b[0m\u001b[0;34m(\u001b[0m\u001b[0mxtest\u001b[0m\u001b[0;34m)\u001b[0m\u001b[0;34m\u001b[0m\u001b[0;34m\u001b[0m\u001b[0m\n\u001b[0m\u001b[1;32m      5\u001b[0m \u001b[0mmlogi\u001b[0m\u001b[0;34m.\u001b[0m\u001b[0mscore\u001b[0m\u001b[0;34m(\u001b[0m\u001b[0mxtest\u001b[0m\u001b[0;34m,\u001b[0m \u001b[0mytest\u001b[0m\u001b[0;34m)\u001b[0m\u001b[0;34m\u001b[0m\u001b[0;34m\u001b[0m\u001b[0m\n",
      "\u001b[0;32m/opt/conda/lib/python3.9/site-packages/sklearn/linear_model/_base.py\u001b[0m in \u001b[0;36mpredict\u001b[0;34m(self, X)\u001b[0m\n\u001b[1;32m    423\u001b[0m             \u001b[0mPredicted\u001b[0m \u001b[0;32mclass\u001b[0m \u001b[0mlabel\u001b[0m \u001b[0mper\u001b[0m \u001b[0msample\u001b[0m\u001b[0;34m.\u001b[0m\u001b[0;34m\u001b[0m\u001b[0;34m\u001b[0m\u001b[0m\n\u001b[1;32m    424\u001b[0m         \"\"\"\n\u001b[0;32m--> 425\u001b[0;31m         \u001b[0mscores\u001b[0m \u001b[0;34m=\u001b[0m \u001b[0mself\u001b[0m\u001b[0;34m.\u001b[0m\u001b[0mdecision_function\u001b[0m\u001b[0;34m(\u001b[0m\u001b[0mX\u001b[0m\u001b[0;34m)\u001b[0m\u001b[0;34m\u001b[0m\u001b[0;34m\u001b[0m\u001b[0m\n\u001b[0m\u001b[1;32m    426\u001b[0m         \u001b[0;32mif\u001b[0m \u001b[0mlen\u001b[0m\u001b[0;34m(\u001b[0m\u001b[0mscores\u001b[0m\u001b[0;34m.\u001b[0m\u001b[0mshape\u001b[0m\u001b[0;34m)\u001b[0m \u001b[0;34m==\u001b[0m \u001b[0;36m1\u001b[0m\u001b[0;34m:\u001b[0m\u001b[0;34m\u001b[0m\u001b[0;34m\u001b[0m\u001b[0m\n\u001b[1;32m    427\u001b[0m             \u001b[0mindices\u001b[0m \u001b[0;34m=\u001b[0m \u001b[0;34m(\u001b[0m\u001b[0mscores\u001b[0m \u001b[0;34m>\u001b[0m \u001b[0;36m0\u001b[0m\u001b[0;34m)\u001b[0m\u001b[0;34m.\u001b[0m\u001b[0mastype\u001b[0m\u001b[0;34m(\u001b[0m\u001b[0mint\u001b[0m\u001b[0;34m)\u001b[0m\u001b[0;34m\u001b[0m\u001b[0;34m\u001b[0m\u001b[0m\n",
      "\u001b[0;32m/opt/conda/lib/python3.9/site-packages/sklearn/linear_model/_base.py\u001b[0m in \u001b[0;36mdecision_function\u001b[0;34m(self, X)\u001b[0m\n\u001b[1;32m    405\u001b[0m         \u001b[0mcheck_is_fitted\u001b[0m\u001b[0;34m(\u001b[0m\u001b[0mself\u001b[0m\u001b[0;34m)\u001b[0m\u001b[0;34m\u001b[0m\u001b[0;34m\u001b[0m\u001b[0m\n\u001b[1;32m    406\u001b[0m \u001b[0;34m\u001b[0m\u001b[0m\n\u001b[0;32m--> 407\u001b[0;31m         \u001b[0mX\u001b[0m \u001b[0;34m=\u001b[0m \u001b[0mself\u001b[0m\u001b[0;34m.\u001b[0m\u001b[0m_validate_data\u001b[0m\u001b[0;34m(\u001b[0m\u001b[0mX\u001b[0m\u001b[0;34m,\u001b[0m \u001b[0maccept_sparse\u001b[0m\u001b[0;34m=\u001b[0m\u001b[0;34m\"csr\"\u001b[0m\u001b[0;34m,\u001b[0m \u001b[0mreset\u001b[0m\u001b[0;34m=\u001b[0m\u001b[0;32mFalse\u001b[0m\u001b[0;34m)\u001b[0m\u001b[0;34m\u001b[0m\u001b[0;34m\u001b[0m\u001b[0m\n\u001b[0m\u001b[1;32m    408\u001b[0m         \u001b[0mscores\u001b[0m \u001b[0;34m=\u001b[0m \u001b[0msafe_sparse_dot\u001b[0m\u001b[0;34m(\u001b[0m\u001b[0mX\u001b[0m\u001b[0;34m,\u001b[0m \u001b[0mself\u001b[0m\u001b[0;34m.\u001b[0m\u001b[0mcoef_\u001b[0m\u001b[0;34m.\u001b[0m\u001b[0mT\u001b[0m\u001b[0;34m,\u001b[0m \u001b[0mdense_output\u001b[0m\u001b[0;34m=\u001b[0m\u001b[0;32mTrue\u001b[0m\u001b[0;34m)\u001b[0m \u001b[0;34m+\u001b[0m \u001b[0mself\u001b[0m\u001b[0;34m.\u001b[0m\u001b[0mintercept_\u001b[0m\u001b[0;34m\u001b[0m\u001b[0;34m\u001b[0m\u001b[0m\n\u001b[1;32m    409\u001b[0m         \u001b[0;32mreturn\u001b[0m \u001b[0mscores\u001b[0m\u001b[0;34m.\u001b[0m\u001b[0mravel\u001b[0m\u001b[0;34m(\u001b[0m\u001b[0;34m)\u001b[0m \u001b[0;32mif\u001b[0m \u001b[0mscores\u001b[0m\u001b[0;34m.\u001b[0m\u001b[0mshape\u001b[0m\u001b[0;34m[\u001b[0m\u001b[0;36m1\u001b[0m\u001b[0;34m]\u001b[0m \u001b[0;34m==\u001b[0m \u001b[0;36m1\u001b[0m \u001b[0;32melse\u001b[0m \u001b[0mscores\u001b[0m\u001b[0;34m\u001b[0m\u001b[0;34m\u001b[0m\u001b[0m\n",
      "\u001b[0;32m/opt/conda/lib/python3.9/site-packages/sklearn/base.py\u001b[0m in \u001b[0;36m_validate_data\u001b[0;34m(self, X, y, reset, validate_separately, **check_params)\u001b[0m\n\u001b[1;32m    578\u001b[0m \u001b[0;34m\u001b[0m\u001b[0m\n\u001b[1;32m    579\u001b[0m         \u001b[0;32mif\u001b[0m \u001b[0;32mnot\u001b[0m \u001b[0mno_val_X\u001b[0m \u001b[0;32mand\u001b[0m \u001b[0mcheck_params\u001b[0m\u001b[0;34m.\u001b[0m\u001b[0mget\u001b[0m\u001b[0;34m(\u001b[0m\u001b[0;34m\"ensure_2d\"\u001b[0m\u001b[0;34m,\u001b[0m \u001b[0;32mTrue\u001b[0m\u001b[0;34m)\u001b[0m\u001b[0;34m:\u001b[0m\u001b[0;34m\u001b[0m\u001b[0;34m\u001b[0m\u001b[0m\n\u001b[0;32m--> 580\u001b[0;31m             \u001b[0mself\u001b[0m\u001b[0;34m.\u001b[0m\u001b[0m_check_n_features\u001b[0m\u001b[0;34m(\u001b[0m\u001b[0mX\u001b[0m\u001b[0;34m,\u001b[0m \u001b[0mreset\u001b[0m\u001b[0;34m=\u001b[0m\u001b[0mreset\u001b[0m\u001b[0;34m)\u001b[0m\u001b[0;34m\u001b[0m\u001b[0;34m\u001b[0m\u001b[0m\n\u001b[0m\u001b[1;32m    581\u001b[0m \u001b[0;34m\u001b[0m\u001b[0m\n\u001b[1;32m    582\u001b[0m         \u001b[0;32mreturn\u001b[0m \u001b[0mout\u001b[0m\u001b[0;34m\u001b[0m\u001b[0;34m\u001b[0m\u001b[0m\n",
      "\u001b[0;32m/opt/conda/lib/python3.9/site-packages/sklearn/base.py\u001b[0m in \u001b[0;36m_check_n_features\u001b[0;34m(self, X, reset)\u001b[0m\n\u001b[1;32m    393\u001b[0m \u001b[0;34m\u001b[0m\u001b[0m\n\u001b[1;32m    394\u001b[0m         \u001b[0;32mif\u001b[0m \u001b[0mn_features\u001b[0m \u001b[0;34m!=\u001b[0m \u001b[0mself\u001b[0m\u001b[0;34m.\u001b[0m\u001b[0mn_features_in_\u001b[0m\u001b[0;34m:\u001b[0m\u001b[0;34m\u001b[0m\u001b[0;34m\u001b[0m\u001b[0m\n\u001b[0;32m--> 395\u001b[0;31m             raise ValueError(\n\u001b[0m\u001b[1;32m    396\u001b[0m                 \u001b[0;34mf\"X has {n_features} features, but {self.__class__.__name__} \"\u001b[0m\u001b[0;34m\u001b[0m\u001b[0;34m\u001b[0m\u001b[0m\n\u001b[1;32m    397\u001b[0m                 \u001b[0;34mf\"is expecting {self.n_features_in_} features as input.\"\u001b[0m\u001b[0;34m\u001b[0m\u001b[0;34m\u001b[0m\u001b[0m\n",
      "\u001b[0;31mValueError\u001b[0m: X has 17 features, but LogisticRegression is expecting 16 features as input."
     ]
    }
   ],
   "source": [
    "xtest = pd.read_csv(\"xtest.csv\")\n",
    "ytest = pd.read_csv(\"ytest.csv\")\n",
    "xtest\n",
    "mlogi.predict(xtest)\n",
    "mlogi.score(xtest, ytest)"
   ]
  },
  {
   "cell_type": "code",
   "execution_count": null,
   "id": "656ec8f8-b97c-4ee5-a12f-10880cb5fe30",
   "metadata": {},
   "outputs": [],
   "source": []
  }
 ],
 "metadata": {
  "kernelspec": {
   "display_name": "Python 3 (ipykernel)",
   "language": "python",
   "name": "python3"
  },
  "language_info": {
   "codemirror_mode": {
    "name": "ipython",
    "version": 3
   },
   "file_extension": ".py",
   "mimetype": "text/x-python",
   "name": "python",
   "nbconvert_exporter": "python",
   "pygments_lexer": "ipython3",
   "version": "3.9.7"
  }
 },
 "nbformat": 4,
 "nbformat_minor": 5
}
