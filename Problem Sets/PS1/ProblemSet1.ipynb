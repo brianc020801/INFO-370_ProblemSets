{
 "cells": [
  {
   "cell_type": "markdown",
   "id": "9f170e6d-98d9-48c8-930c-77c293f3ce59",
   "metadata": {
    "tags": []
   },
   "source": [
    "## 1. Base Python"
   ]
  },
  {
   "cell_type": "markdown",
   "id": "d09e2f4e-fc7f-471d-bd03-8889c74791c2",
   "metadata": {},
   "source": [
    "### 1.1 Computing"
   ]
  },
  {
   "cell_type": "markdown",
   "id": "bf3cff2c-e111-4f31-a5f4-644159ef0c17",
   "metadata": {},
   "source": [
    "1. How many seconds are there in year?"
   ]
  },
  {
   "cell_type": "code",
   "execution_count": 1,
   "id": "a72576d3-a2b8-47f9-8f0f-f164ea2989bc",
   "metadata": {},
   "outputs": [
    {
     "name": "stdout",
     "output_type": "stream",
     "text": [
      "31536000\n"
     ]
    }
   ],
   "source": [
    "secInYear = 60 * 60 * 24 *365\n",
    "print(secInYear)"
   ]
  },
  {
   "cell_type": "markdown",
   "id": "7849afa0-4f70-4d8e-8963-3f98ff8e83fe",
   "metadata": {},
   "source": [
    "3153600 seconds in a year"
   ]
  },
  {
   "cell_type": "markdown",
   "id": "51c7079c-bf49-42eb-855e-f3c91e6bd3e6",
   "metadata": {},
   "source": [
    "2. How many seonds is a typical human lifetime? Use the previously computed seconds in year."
   ]
  },
  {
   "cell_type": "code",
   "execution_count": 2,
   "id": "58a50477-d0d6-4b12-8f79-6faa2c4e0124",
   "metadata": {},
   "outputs": [
    {
     "name": "stdout",
     "output_type": "stream",
     "text": [
      "2349432000.0\n"
     ]
    }
   ],
   "source": [
    "secInLifetime = secInYear * 74.5\n",
    "print(secInLifetime)"
   ]
  },
  {
   "cell_type": "markdown",
   "id": "2da12cca-4e0b-4845-908d-ca9186db2495",
   "metadata": {},
   "source": [
    "About 2349432000 seconds in a typical 74.5 years lifespan"
   ]
  },
  {
   "cell_type": "markdown",
   "id": "28310718-0ba6-4d40-ab98-582d218d2691",
   "metadata": {},
   "source": [
    "3. What is your age in seconds? Compute this based on your age."
   ]
  },
  {
   "cell_type": "code",
   "execution_count": 3,
   "id": "bad38487-b6e7-4385-9079-be4f1e0a451b",
   "metadata": {},
   "outputs": [
    {
     "name": "stdout",
     "output_type": "stream",
     "text": [
      "630720000\n"
     ]
    }
   ],
   "source": [
    "secInMyAge = secInYear * 20\n",
    "print(secInMyAge)"
   ]
  },
  {
   "cell_type": "markdown",
   "id": "1b3afaa7-bc73-41d2-8dfd-01429b3fc5a8",
   "metadata": {},
   "source": [
    "My age in seconds is 630720000 seconds."
   ]
  },
  {
   "cell_type": "markdown",
   "id": "02edbd23-6db2-4473-9f10-0aee752aebee",
   "metadata": {},
   "source": [
    "4. Create a logical variable that is true if you are more than 700M seconds old. Use logical operators, not if/else!"
   ]
  },
  {
   "cell_type": "code",
   "execution_count": 4,
   "id": "5dcc8b31-d4b8-4df3-850e-d7f7de61776a",
   "metadata": {},
   "outputs": [
    {
     "name": "stdout",
     "output_type": "stream",
     "text": [
      "False\n"
     ]
    }
   ],
   "source": [
    "isMoreThanSevenMil = secInMyAge > 700000000\n",
    "print(isMoreThanSevenMil)"
   ]
  },
  {
   "cell_type": "markdown",
   "id": "115f7271-e31e-47b9-a204-fecd3c106e77",
   "metadata": {},
   "source": [
    "5. Compute the following mathematical formulas"
   ]
  },
  {
   "cell_type": "code",
   "execution_count": 5,
   "id": "2043d74b-4174-4885-9328-4eb6caccd215",
   "metadata": {
    "tags": []
   },
   "outputs": [
    {
     "name": "stdout",
     "output_type": "stream",
     "text": [
      "0.24\n",
      "0.058527663465935076\n"
     ]
    }
   ],
   "source": [
    "p = 0.4\n",
    "firstQ = p * (1 - p)\n",
    "print(firstQ)\n",
    "alpha = 3\n",
    "x0 = 2\n",
    "x = 2.5\n",
    "secondQ = (alpha / x0) * ((1 + (x / x0)) ** (-alpha - 1))\n",
    "print(secondQ)"
   ]
  },
  {
   "cell_type": "markdown",
   "id": "9376d07c-cea1-4e33-a7e5-f447da07ba2a",
   "metadata": {},
   "source": [
    "### 1.2 Lists"
   ]
  },
  {
   "cell_type": "markdown",
   "id": "84df1d10-bf63-4078-8cab-cda599d6a4a0",
   "metadata": {},
   "source": [
    "1. Create a list ‘movies‘ that contains the names of at least six movies you like"
   ]
  },
  {
   "cell_type": "code",
   "execution_count": 6,
   "id": "493baf86-d601-4237-811a-8a7979fb52f8",
   "metadata": {},
   "outputs": [
    {
     "name": "stdout",
     "output_type": "stream",
     "text": [
      "['Inception', 'Spiderman', 'Fast Five', 'Star Wars: A New Hope', 'Kung Fu Panda', 'Jurassic Park']\n"
     ]
    }
   ],
   "source": [
    "favMovies = [\"Inception\", \"Spiderman\", \"Fast Five\", \"Star Wars: A New Hope\", \"Kung Fu Panda\", \"Jurassic Park\"]\n",
    "print(favMovies)"
   ]
  },
  {
   "cell_type": "markdown",
   "id": "257af30e-8a67-4bf1-a2ac-a357abac7f48",
   "metadata": {},
   "source": [
    "2. Using indexing and slicing, Create a list of three first movies in the list"
   ]
  },
  {
   "cell_type": "code",
   "execution_count": 7,
   "id": "51d3070f-5a07-47b6-813c-55d636443d21",
   "metadata": {},
   "outputs": [
    {
     "name": "stdout",
     "output_type": "stream",
     "text": [
      "['Inception', 'Spiderman', 'Fast Five']\n"
     ]
    }
   ],
   "source": [
    "firstThreeMovies = favMovies[:3]\n",
    "print(firstThreeMovies)"
   ]
  },
  {
   "cell_type": "markdown",
   "id": "4c4cda44-7539-4a1d-83a7-33713676b739",
   "metadata": {},
   "source": [
    "3. Use slicing and list concatenation to create a list of the first two and the last two movies"
   ]
  },
  {
   "cell_type": "code",
   "execution_count": 8,
   "id": "4d14c6d2-7d34-4d53-8ae2-51e1b2eed8b8",
   "metadata": {},
   "outputs": [
    {
     "name": "stdout",
     "output_type": "stream",
     "text": [
      "['Inception', 'Spiderman', 'Kung Fu Panda', 'Jurassic Park']\n"
     ]
    }
   ],
   "source": [
    "firstTwoLastTwo = favMovies[:2] + favMovies[-2:]\n",
    "print(firstTwoLastTwo)"
   ]
  },
  {
   "cell_type": "markdown",
   "id": "cf351b30-c5be-4403-8745-435b2567c991",
   "metadata": {},
   "source": [
    "4. Use slicing to list the movies in the opposite order"
   ]
  },
  {
   "cell_type": "code",
   "execution_count": 9,
   "id": "e88a5621-9dd3-4ba9-88b2-521f6f328cec",
   "metadata": {},
   "outputs": [
    {
     "name": "stdout",
     "output_type": "stream",
     "text": [
      "['Jurassic Park', 'Kung Fu Panda', 'Star Wars: A New Hope', 'Fast Five', 'Spiderman', 'Inception']\n"
     ]
    }
   ],
   "source": [
    "reverseMovieList = favMovies[::-1]\n",
    "print(reverseMovieList)"
   ]
  },
  {
   "cell_type": "markdown",
   "id": "0014b61e-588b-42ec-a24f-b21665410412",
   "metadata": {},
   "source": [
    "### 1.3 Loops"
   ]
  },
  {
   "cell_type": "markdown",
   "id": "927c2eb3-7f7a-47a9-a2e4-70cabcab755f",
   "metadata": {},
   "source": [
    "1. Create a list ‘numbers‘ that is the numbers 70 through 79 in the following manner: create an empty list and add numbers to it in a loop (do not use list comprehension or ‘list‘ function here!)"
   ]
  },
  {
   "cell_type": "code",
   "execution_count": 10,
   "id": "c2b058ba-f545-4ba4-866f-22a85fd20d30",
   "metadata": {},
   "outputs": [
    {
     "name": "stdout",
     "output_type": "stream",
     "text": [
      "[70, 71, 72, 73, 74, 75, 76, 77, 78, 79]\n"
     ]
    }
   ],
   "source": [
    "numList = []\n",
    "for x in range(10):\n",
    "    numList.append(70 + x)\n",
    "print(numList)"
   ]
  },
  {
   "cell_type": "markdown",
   "id": "aacb4ab0-68ed-452c-94cf-dca546c6cc44",
   "metadata": {},
   "source": [
    "2. Use a loop to compute the mean value of the list: add the values to their sum in a loop, and at the end divide the sum by the number of the values. (Do not use mean function!)"
   ]
  },
  {
   "cell_type": "code",
   "execution_count": 11,
   "id": "8661707e-25c1-4e48-97c1-b2c8f9e46a1a",
   "metadata": {},
   "outputs": [
    {
     "name": "stdout",
     "output_type": "stream",
     "text": [
      "74.5\n"
     ]
    }
   ],
   "source": [
    "total = 0\n",
    "for x in numList:\n",
    "    total += x\n",
    "avg = total/len(numList)\n",
    "print(avg)"
   ]
  },
  {
   "cell_type": "markdown",
   "id": "ac485d20-8af0-405f-a96b-77aa36efb64e",
   "metadata": {},
   "source": [
    "The average from 70-79 is 74.5"
   ]
  },
  {
   "cell_type": "markdown",
   "id": "56b5dcc3-6b31-4097-967b-d5a239a3b713",
   "metadata": {},
   "source": [
    "3. Use loop to compute sum of all integers from 1 till 100"
   ]
  },
  {
   "cell_type": "code",
   "execution_count": 12,
   "id": "ceb73338-bcf9-4317-aada-5e91817abb9a",
   "metadata": {},
   "outputs": [
    {
     "name": "stdout",
     "output_type": "stream",
     "text": [
      "5050\n"
     ]
    }
   ],
   "source": [
    "total = 0\n",
    "for x in range(100):\n",
    "    total += (1 + x)\n",
    "print(total)"
   ]
  },
  {
   "cell_type": "markdown",
   "id": "4859603c-8bde-43f9-aa27-b5637462f419",
   "metadata": {},
   "source": [
    "The sum from 1 - 100 is 5050."
   ]
  },
  {
   "cell_type": "markdown",
   "id": "256ee593-abad-4c13-bcdb-c0cea6a8ba34",
   "metadata": {},
   "source": [
    "4. Assign people to seats. Consider names Adam, Ashin, Inukai, Tanaka, and Ikki; and seats 33, 12, 45, 2 and 17. Print seat assignments by assigning each name to the corresponding seat."
   ]
  },
  {
   "cell_type": "code",
   "execution_count": 13,
   "id": "ae9aa0b4-e87f-4425-a0be-ab80d21432a1",
   "metadata": {},
   "outputs": [
    {
     "name": "stdout",
     "output_type": "stream",
     "text": [
      "Adam: 33\n",
      "Ashin: 12\n",
      "Inukai: 45\n",
      "Tanaka: 2\n",
      "Ikki: 17\n"
     ]
    }
   ],
   "source": [
    "name = [\"Adam\", \"Ashin\", \"Inukai\", \"Tanaka\", \"Ikki\"]\n",
    "seats = [33, 12, 45, 2, 17]\n",
    "for x in range(len(name)):\n",
    "    print(name[x] + \": \" + str(seats[x]))"
   ]
  },
  {
   "cell_type": "markdown",
   "id": "d6546555-f1d9-4455-bba2-a944c15a2d0a",
   "metadata": {},
   "source": [
    "### 1.4 Dicts"
   ]
  },
  {
   "cell_type": "markdown",
   "id": "1652a803-f7d4-45fe-84d8-20dbca0cdd78",
   "metadata": {},
   "source": [
    "1. Create a word frequency table using dicts that takes a looong string (feel free to copy-paste some text here), splits it into individual words, and counts the number of occurrencies of each word (and prints the result). Let’s ignore punctuation. Your code should run over individual words and increase the counter for that word, stored in a list. It has to check if a word exists in the dictionary, and if not, take an appropriate action."
   ]
  },
  {
   "cell_type": "code",
   "execution_count": 14,
   "id": "e2a93baa-ce0f-42c3-9edb-6b26d067379b",
   "metadata": {},
   "outputs": [
    {
     "name": "stdout",
     "output_type": "stream",
     "text": [
      "{'he': 1, 'likes': 2, 'a': 2, 'dog': 2, 'who': 1, 'to': 1, 'eat': 1, 'hot': 1}\n"
     ]
    }
   ],
   "source": [
    "testString = \"He likes a dog who likes to eat a hot dog\"\n",
    "\n",
    "def wordTable(sentence):\n",
    "    wordList = sentence.lower().split()\n",
    "    wordDict = {}\n",
    "    for w in wordList:\n",
    "        if w not in wordDict.keys():\n",
    "            wordDict[w] = 1\n",
    "        else:\n",
    "            wordDict[w] = wordDict[w] + 1\n",
    "    return wordDict\n",
    "\n",
    "print(wordTable(testString))"
   ]
  },
  {
   "cell_type": "markdown",
   "id": "0ce0d61b-74db-4d28-9b30-a468109548b9",
   "metadata": {},
   "source": [
    "### 1.5 Functions and data transformation"
   ]
  },
  {
   "cell_type": "markdown",
   "id": "80ed0415-6b1b-4a78-adc2-ae3d8a5e07ef",
   "metadata": {},
   "source": [
    "1. Write a function that takes in time in the numeric form (i.e. not a string) of HHMM (hours- minutes), and returns it in the numeric form of HH.HH (hours + fractions of hours). For instance, 1015 → 10.25 (10 hrs 15 mins → 10.25 hrs). Demonstrate it works using values 1015 and 345"
   ]
  },
  {
   "cell_type": "code",
   "execution_count": 15,
   "id": "4db4063d-07c4-4a8f-988c-a29eeb3232bf",
   "metadata": {},
   "outputs": [
    {
     "name": "stdout",
     "output_type": "stream",
     "text": [
      "10.25\n",
      "3.75\n"
     ]
    }
   ],
   "source": [
    "def hourTransformation(time):\n",
    "    minutes = time % 100 / 60\n",
    "    hours = time // 100\n",
    "    return hours + minutes\n",
    "\n",
    "print(hourTransformation(1015))\n",
    "print(hourTransformation(345))"
   ]
  },
  {
   "cell_type": "markdown",
   "id": "07bdd0bc-2e70-463a-8337-8bcf19190094",
   "metadata": {},
   "source": [
    "10.25 hr\n",
    "3.75 hr"
   ]
  },
  {
   "cell_type": "markdown",
   "id": "a5f6fe3b-d8cb-4165-9fcb-8b93b14a6f12",
   "metadata": {},
   "source": [
    "## 2. Basic data frames"
   ]
  },
  {
   "cell_type": "markdown",
   "id": "f95baf31-89c8-4556-8dc0-2d90d2a2a52a",
   "metadata": {},
   "source": [
    "### 2.1 Setup"
   ]
  },
  {
   "cell_type": "markdown",
   "id": "f49ce7c9-a824-4e4a-bd4e-53088701d16a",
   "metadata": {},
   "source": [
    "1. Load the data"
   ]
  },
  {
   "cell_type": "code",
   "execution_count": 16,
   "id": "eb005c62-a7ff-4120-b5a4-22d82d253173",
   "metadata": {},
   "outputs": [],
   "source": [
    "import numpy as np\n",
    "import pandas as pd"
   ]
  },
  {
   "cell_type": "code",
   "execution_count": 17,
   "id": "4b205e33-ab68-41fa-8cbb-08a8d2024450",
   "metadata": {},
   "outputs": [],
   "source": [
    "nycflights = pd.read_csv('PS 1/nycflights13.csv.bz2', sep=\"\\t\")"
   ]
  },
  {
   "cell_type": "markdown",
   "id": "7cdc1eb7-6d19-4801-ad7f-650da7da9d36",
   "metadata": {},
   "source": [
    "2a. How many variables (columns) is there in the data? Ensure you know the variables in the data. Keep the documentation nearby."
   ]
  },
  {
   "cell_type": "code",
   "execution_count": 18,
   "id": "1dfee20b-6bf2-48b8-a44e-662fec8588ec",
   "metadata": {},
   "outputs": [
    {
     "name": "stdout",
     "output_type": "stream",
     "text": [
      "(336776, 19)\n"
     ]
    }
   ],
   "source": [
    "print(nycflights.shape)"
   ]
  },
  {
   "cell_type": "markdown",
   "id": "a751c629-3878-4322-9bb0-6c92cfa58b5f",
   "metadata": {},
   "source": [
    "19 variables"
   ]
  },
  {
   "cell_type": "markdown",
   "id": "98b666de-6dd7-447e-80ca-af9956749023",
   "metadata": {},
   "source": [
    "2b. How many rows of data is there?"
   ]
  },
  {
   "cell_type": "markdown",
   "id": "0d8d792d-bdee-46f5-82b4-f36861f750ba",
   "metadata": {},
   "source": [
    "336776 rows of data"
   ]
  },
  {
   "cell_type": "markdown",
   "id": "e38aafca-d888-4c7a-8490-5a93ef3448be",
   "metadata": {},
   "source": [
    "2c. print the first few lines of data. Does it look reasonable?"
   ]
  },
  {
   "cell_type": "code",
   "execution_count": 19,
   "id": "06067b66-a406-4453-8b03-fd4772923b15",
   "metadata": {},
   "outputs": [
    {
     "name": "stdout",
     "output_type": "stream",
     "text": [
      "        year  month  day  dep_time  sched_dep_time  dep_delay  arr_time  \\\n",
      "189814  2013      4   27     557.0             600       -3.0     851.0   \n",
      "287283  2013      8    8    1743.0            1709       34.0     111.0   \n",
      "271132  2013      7   22       NaN            2000        NaN       NaN   \n",
      "\n",
      "        sched_arr_time  arr_delay carrier  flight tailnum origin dest  \\\n",
      "189814             854       -3.0      B6     501  N639JB    JFK  FLL   \n",
      "287283            2035        NaN      UA    1284  N37456    EWR  SFO   \n",
      "271132            2136        NaN      UA    1128     NaN    LGA  ORD   \n",
      "\n",
      "        air_time  distance  hour  minute             time_hour  \n",
      "189814     145.0      1069     6       0  2013-04-27T10:00:00Z  \n",
      "287283       NaN      2565    17       9  2013-08-08T21:00:00Z  \n",
      "271132       NaN       733    20       0  2013-07-23T00:00:00Z  \n"
     ]
    }
   ],
   "source": [
    "print(nycflights.sample(3))"
   ]
  },
  {
   "cell_type": "markdown",
   "id": "7b82b1fd-40b6-47f5-a92f-b18c210527f7",
   "metadata": {},
   "source": [
    "The data set looks reasonable, although I did notice some NaN values in other rows."
   ]
  },
  {
   "cell_type": "markdown",
   "id": "83158313-a4f5-4c06-ba25-529986068035",
   "metadata": {},
   "source": [
    "### 2.2 Basic Data Exploration"
   ]
  },
  {
   "cell_type": "markdown",
   "id": "90231c98-5474-4022-83b8-731b9cb1accb",
   "metadata": {},
   "source": [
    "1. How many NYC airports are included in this data? Which airports are these?"
   ]
  },
  {
   "cell_type": "code",
   "execution_count": 20,
   "id": "32b0ab0b-63f2-4d84-86fe-98aecd8e2676",
   "metadata": {},
   "outputs": [
    {
     "name": "stdout",
     "output_type": "stream",
     "text": [
      "['EWR' 'LGA' 'JFK']\n",
      "3\n"
     ]
    }
   ],
   "source": [
    "uniqueAirports = nycflights.origin.unique()\n",
    "print(uniqueAirports)\n",
    "print(len(uniqueAirports))"
   ]
  },
  {
   "cell_type": "markdown",
   "id": "c6d83628-6f82-437e-b1db-4dc8391b8760",
   "metadata": {},
   "source": [
    "There are three NYC airports EWR, LGA, and JFK"
   ]
  },
  {
   "cell_type": "markdown",
   "id": "1960039e-a725-4150-8303-3e176b418d69",
   "metadata": {},
   "source": [
    "2. Into how many airports did the airlines fly from NYC in 2013?"
   ]
  },
  {
   "cell_type": "code",
   "execution_count": 21,
   "id": "92d753cf-196e-435d-bfc7-58409d7d2310",
   "metadata": {},
   "outputs": [
    {
     "name": "stdout",
     "output_type": "stream",
     "text": [
      "105\n"
     ]
    }
   ],
   "source": [
    "uniqueDestAirports = nycflights.dest.unique()\n",
    "print(len(uniqueDestAirports))"
   ]
  },
  {
   "cell_type": "markdown",
   "id": "93a0087e-a6d0-4931-b040-f96eee32633a",
   "metadata": {},
   "source": [
    "There are 105 airports that NYC flights fly into"
   ]
  },
  {
   "cell_type": "markdown",
   "id": "942d6cc5-19a1-4a67-a715-b15797a5d539",
   "metadata": {},
   "source": [
    "3. How many flights were there from NYC to Seattle (airport code SEA)?"
   ]
  },
  {
   "cell_type": "code",
   "execution_count": 22,
   "id": "12f3b2e3-e76f-42ca-80a0-29727af49139",
   "metadata": {},
   "outputs": [
    {
     "name": "stdout",
     "output_type": "stream",
     "text": [
      "3923\n"
     ]
    }
   ],
   "source": [
    "flightsToSea = nycflights[nycflights.dest == \"SEA\"].copy()\n",
    "print(len(flightsToSea.index))"
   ]
  },
  {
   "cell_type": "markdown",
   "id": "3b467a95-1681-4bcc-8648-1e00a0baf596",
   "metadata": {},
   "source": [
    "There were 3923 flights into Seattle."
   ]
  },
  {
   "cell_type": "markdown",
   "id": "3db98dce-393e-4a8a-8530-77fe6f56b674",
   "metadata": {},
   "source": [
    "4. Were there any flights from NYC to Spokane (GEG)?"
   ]
  },
  {
   "cell_type": "code",
   "execution_count": 23,
   "id": "8636ab46-719f-4243-b1d9-f57cf09f8d34",
   "metadata": {},
   "outputs": [
    {
     "name": "stdout",
     "output_type": "stream",
     "text": [
      "0\n"
     ]
    }
   ],
   "source": [
    "flightsToGEG = nycflights[nycflights.dest == \"GEG\"].copy()\n",
    "print(len(flightsToGEG.index))"
   ]
  },
  {
   "cell_type": "markdown",
   "id": "8f57f012-541d-4159-af14-89580368dee0",
   "metadata": {},
   "source": [
    "There were 0 flights from NYC to Spokane."
   ]
  },
  {
   "cell_type": "markdown",
   "id": "bbf59bce-a5f8-406a-91d8-cc0e737c6d9e",
   "metadata": {},
   "source": [
    "### 2.3 Compute new variables"
   ]
  },
  {
   "cell_type": "markdown",
   "id": "24990c06-1113-47ed-bd3a-0bc89ecb2e4f",
   "metadata": {},
   "source": [
    "1. Create new column for the flight data–flight duration in hours. Use variables “arr time” and “dep time”, not “air time”."
   ]
  },
  {
   "cell_type": "code",
   "execution_count": 24,
   "id": "be65bae6-e2fd-4b71-9175-d055bc224a6a",
   "metadata": {},
   "outputs": [],
   "source": [
    "nycflightsWithDuration = nycflights.copy()\n",
    "nycflightsWithDuration[\"flightDuration\"] = hourTransformation(nycflightsWithDuration[\"arr_time\"] - nycflightsWithDuration[\"dep_time\"])"
   ]
  },
  {
   "cell_type": "markdown",
   "id": "acf9e54b-791d-46e6-9910-ad4c73b2a105",
   "metadata": {},
   "source": [
    "2. What is the minimum value of the duration you computed? Explain why do you get negative values!"
   ]
  },
  {
   "cell_type": "code",
   "execution_count": 25,
   "id": "bbece8d6-0425-4477-90b6-c057191bf0d6",
   "metadata": {},
   "outputs": [
    {
     "name": "stdout",
     "output_type": "stream",
     "text": [
      "266385   -23.1\n",
      "Name: flightDuration, dtype: float64\n"
     ]
    }
   ],
   "source": [
    "minFlightDuration = nycflightsWithDuration[nycflightsWithDuration.flightDuration == nycflightsWithDuration.flightDuration.min()]\n",
    "print(minFlightDuration.flightDuration)"
   ]
  },
  {
   "cell_type": "markdown",
   "id": "30e24cbe-c7b8-4e96-bb06-298d27756a9c",
   "metadata": {},
   "source": [
    "The minimum value for flight duration is -23.1. We get negative values if the arrive time is AM of the next day since AM time values would be less than PM time values."
   ]
  },
  {
   "cell_type": "markdown",
   "id": "2cbc8a8a-6f1e-4931-ac38-8ac176d6a5e3",
   "metadata": {},
   "source": [
    "### 2.4 Flight delays"
   ]
  },
  {
   "cell_type": "markdown",
   "id": "2300af7e-45bd-411d-af26-63cc96d8b473",
   "metadata": {},
   "source": [
    "1. Create a new data frame, a subset of the flights data that only contains two variables: departure delay and arrival delay."
   ]
  },
  {
   "cell_type": "code",
   "execution_count": 26,
   "id": "60cc0658-90e1-4d8e-8153-fd61f6fbfc96",
   "metadata": {},
   "outputs": [],
   "source": [
    "flightDelays = nycflights[[\"dep_delay\", \"arr_delay\"]].copy()"
   ]
  },
  {
   "cell_type": "markdown",
   "id": "673d1537-5e00-491d-bf55-3cdbd9fd3255",
   "metadata": {},
   "source": [
    "2. Print a small random sample of the delay data frame."
   ]
  },
  {
   "cell_type": "code",
   "execution_count": 27,
   "id": "6225d76a-7c18-408c-b872-36299264e206",
   "metadata": {},
   "outputs": [
    {
     "name": "stdout",
     "output_type": "stream",
     "text": [
      "        dep_delay  arr_delay\n",
      "304331       -5.0      -21.0\n",
      "178985       -7.0        3.0\n",
      "334441       -1.0      -28.0\n"
     ]
    }
   ],
   "source": [
    "print(flightDelays.sample(3))"
   ]
  },
  {
   "cell_type": "markdown",
   "id": "dfc2796a-eba5-43e0-a3f1-131ed9331ed0",
   "metadata": {},
   "source": [
    "3. What is the data type of the flight delay value?"
   ]
  },
  {
   "cell_type": "code",
   "execution_count": 28,
   "id": "f9231664-9d8c-496b-9890-627e8387613e",
   "metadata": {},
   "outputs": [
    {
     "name": "stdout",
     "output_type": "stream",
     "text": [
      "<class 'numpy.float64'>\n",
      "<class 'numpy.float64'>\n"
     ]
    }
   ],
   "source": [
    "print(type(flightDelays.iloc[0].dep_delay))\n",
    "print(type(flightDelays.iloc[0].arr_delay))"
   ]
  },
  {
   "cell_type": "markdown",
   "id": "f01bc94a-86bd-4bc2-b601-5eed2a30f9a5",
   "metadata": {},
   "source": [
    "The datatype for the two flight delay values is float64."
   ]
  },
  {
   "cell_type": "markdown",
   "id": "d574d91a-967c-41fe-a075-2932ddfaaae3",
   "metadata": {},
   "source": [
    "4. Filter to keep the “slow flights”: cases where the plane leaves early but arrives late. How many cases do you have?"
   ]
  },
  {
   "cell_type": "code",
   "execution_count": 29,
   "id": "4b4a5af3-7df0-4a9a-87ab-01cba956691f",
   "metadata": {},
   "outputs": [
    {
     "name": "stdout",
     "output_type": "stream",
     "text": [
      "35648\n"
     ]
    }
   ],
   "source": [
    "print(len(flightDelays.loc[(flightDelays[\"arr_delay\"] > 0) & (flightDelays[\"dep_delay\"] < 0)].index))"
   ]
  },
  {
   "cell_type": "markdown",
   "id": "bcf0a3c3-ab38-48ff-a21a-c1ff2afe995e",
   "metadata": {},
   "source": [
    "There are 35648 cases of slow flights."
   ]
  },
  {
   "cell_type": "markdown",
   "id": "bba71867-2b4a-43a3-9c44-4f74a33ae390",
   "metadata": {},
   "source": [
    "5. What is the longest “extra flight time”, i.e. difference between arrival delay and departure delay?"
   ]
  },
  {
   "cell_type": "code",
   "execution_count": 30,
   "id": "9d5cd0cb-ae51-451d-8c85-9a3947abe701",
   "metadata": {},
   "outputs": [
    {
     "name": "stdout",
     "output_type": "stream",
     "text": [
      "2.6\n"
     ]
    }
   ],
   "source": [
    "print(max(hourTransformation(flightDelays.arr_delay - flightDelays.dep_delay)))"
   ]
  },
  {
   "cell_type": "markdown",
   "id": "c5987398-bfe6-47a6-9ff9-41e85a0ff4d1",
   "metadata": {},
   "source": [
    "The longest extra flight time is 2.6 hours."
   ]
  },
  {
   "cell_type": "markdown",
   "id": "800217fc-2436-44a4-82ca-d8d2ab59f5e4",
   "metadata": {},
   "source": [
    "6. How many of flights were delayed (positive arrival delay)?"
   ]
  },
  {
   "cell_type": "code",
   "execution_count": 31,
   "id": "062d13e8-2a95-491d-b735-069184b87a32",
   "metadata": {},
   "outputs": [
    {
     "name": "stdout",
     "output_type": "stream",
     "text": [
      "133004\n"
     ]
    }
   ],
   "source": [
    "print(len(flightDelays.loc[flightDelays[\"arr_delay\"] > 0].index))"
   ]
  },
  {
   "cell_type": "markdown",
   "id": "b1dff44a-5188-48f3-b189-81ca5728c2aa",
   "metadata": {},
   "source": [
    "There are 133004 flights were delayed"
   ]
  },
  {
   "cell_type": "markdown",
   "id": "4afd31e0-f982-416a-a83b-118769688e0a",
   "metadata": {},
   "source": [
    "7. What percentage of flights were delayed by more than 15 minutes (at arrival)?"
   ]
  },
  {
   "cell_type": "code",
   "execution_count": 32,
   "id": "e8e92a67-fd6d-4ac1-80b4-f4ffbf7e166f",
   "metadata": {},
   "outputs": [
    {
     "name": "stdout",
     "output_type": "stream",
     "text": [
      "0.2305092999501152\n"
     ]
    }
   ],
   "source": [
    "numFlights15Delay = (len(flightDelays.loc[flightDelays[\"arr_delay\"] > 15].index))\n",
    "percent15Delay = numFlights15Delay/len(nycflights.index)\n",
    "print(percent15Delay)"
   ]
  },
  {
   "cell_type": "markdown",
   "id": "55ea28a0-d448-4504-8724-243e4970502e",
   "metadata": {},
   "source": [
    "About 23.05% of flights were delayed by more than 15 minutes."
   ]
  },
  {
   "cell_type": "markdown",
   "id": "0fd02153-d8a9-41ca-8dbc-fac283d259ab",
   "metadata": {},
   "source": [
    "## How much time did you spend?"
   ]
  },
  {
   "cell_type": "markdown",
   "id": "06aa0320-e937-49a9-b322-ee85b76bfc1a",
   "metadata": {},
   "source": [
    "1.5 hours"
   ]
  }
 ],
 "metadata": {
  "kernelspec": {
   "display_name": "Python 3 (ipykernel)",
   "language": "python",
   "name": "python3"
  },
  "language_info": {
   "codemirror_mode": {
    "name": "ipython",
    "version": 3
   },
   "file_extension": ".py",
   "mimetype": "text/x-python",
   "name": "python",
   "nbconvert_exporter": "python",
   "pygments_lexer": "ipython3",
   "version": "3.9.7"
  }
 },
 "nbformat": 4,
 "nbformat_minor": 5
}
