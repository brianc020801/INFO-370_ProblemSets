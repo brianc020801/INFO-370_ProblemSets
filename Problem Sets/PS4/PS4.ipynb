{
 "cells": [
  {
   "cell_type": "code",
   "execution_count": 1,
   "id": "27c0ae25-142f-4a7b-9a93-96254b09f70f",
   "metadata": {},
   "outputs": [],
   "source": [
    "import numpy as np\n",
    "import pandas as pd\n",
    "import matplotlib.pyplot as plt\n",
    "import math"
   ]
  },
  {
   "cell_type": "markdown",
   "id": "fd34b10a-9936-40a1-91d6-8ec8d7dc18e4",
   "metadata": {},
   "source": [
    "## 1. Explore Central Limit Theorem"
   ]
  },
  {
   "cell_type": "code",
   "execution_count": 2,
   "id": "4c82e9d5-2473-4515-bbf2-8c9a293225c9",
   "metadata": {},
   "outputs": [],
   "source": [
    "def makehist(S):\n",
    "    num_bins = math.ceil(math.sqrt(R))\n",
    "    print(num_bins)\n",
    "    np.random.seed(1)\n",
    "    mean = []\n",
    "    for i in range(R):\n",
    "        mean.append(np.mean(np.random.randint(0,2, size=S)*2-1))\n",
    "    plt.hist(mean, bins= 30, edgecolor=\"k\")\n",
    "    plt.show()\n",
    "    s_mean = np.mean(mean)\n",
    "    print(\"Sample Mean: \" + str(s_mean))\n",
    "    s_var = np.var(mean)\n",
    "    print(\"Sample Variance: \" + str(s_var) + \"\\n\")\n",
    "    print(\"Expected Value stays the same at \" + str(ex_v))\n",
    "    print(\"Variance of Pair Means is VarX * 1/S, which is \" + str(var/S) + \"\\n\")\n",
    "    print(\"Difference between Expected Value & Sample Mean: \" + str(ex_v - s_mean))\n",
    "    print(\"Difference between Variance & Sample Variance: \" + str(var/S - s_var))"
   ]
  },
  {
   "cell_type": "markdown",
   "id": "14f19330-bc55-4d3b-8551-8e131c9f19ae",
   "metadata": {},
   "source": [
    "#### 1.1. What is Random Variable (RV)? What makes X a RV?"
   ]
  },
  {
   "cell_type": "markdown",
   "id": "fbaeb126-baf5-4d5d-900a-cf883dc7d7d9",
   "metadata": {},
   "source": [
    "RV is a phenomenon or experiment with well-defined properties and a rule how to assign numeric labels to the events in that phenonmenon. In this case X is a RV because it assigns the values -1 and 1 respectively to the events of flipping a Tails or a Head."
   ]
  },
  {
   "cell_type": "markdown",
   "id": "81d444a6-3742-4350-af8f-3999cfead108",
   "metadata": {},
   "source": [
    "#### 1.2. Calculate the expected value and variance of this random variable. Explain what is the difference between expected value and the sample mean."
   ]
  },
  {
   "cell_type": "code",
   "execution_count": 3,
   "id": "71b9dad2-043a-4bd7-bf72-5cd9027e4eb0",
   "metadata": {},
   "outputs": [
    {
     "name": "stdout",
     "output_type": "stream",
     "text": [
      "Expected Value: 0.0\n",
      "Variance: 1.0\n"
     ]
    }
   ],
   "source": [
    "ex_v = -1*0.5 + 0.5*1\n",
    "print(\"Expected Value: \" + str(ex_v))\n",
    "var = (0.5 * 1) + (0.5 *1) - (0**2)\n",
    "print(\"Variance: \" + str(var))"
   ]
  },
  {
   "cell_type": "markdown",
   "id": "aa24c04e-2fe0-46b0-9843-5831c54a7bfb",
   "metadata": {},
   "source": [
    "The difference between expected value and the sample mean is that the expected value is a theoretical value calculated using the probability and the denoted values, while sample mean is just the average of a realization. Key difference is just one is theoretical and the other one is calulated."
   ]
  },
  {
   "cell_type": "markdown",
   "id": "0ae4bb57-f0c0-422b-a826-f84474184c36",
   "metadata": {},
   "source": [
    "#### 1.3. Choose your number of repetitions R. 1000 is a good number but you can also take 10,000 or 100,000 to get smoother histograms."
   ]
  },
  {
   "cell_type": "code",
   "execution_count": 4,
   "id": "33235cb3-bc3b-47b0-b887-dd2dae17d8df",
   "metadata": {},
   "outputs": [],
   "source": [
    "R = 10000"
   ]
  },
  {
   "cell_type": "markdown",
   "id": "ec4ef6c6-ced9-4290-a6d6-c309286a61a8",
   "metadata": {},
   "source": [
    "#### 1.4. Create a vector of R random realizations of X. Make a histogram of those. Comment the shape of the histogram."
   ]
  },
  {
   "cell_type": "code",
   "execution_count": 5,
   "id": "b0037ddf-bf80-4ae9-be19-f05112ecdd6f",
   "metadata": {},
   "outputs": [
    {
     "data": {
      "image/png": "[encoded data removed]",
      "text/plain": [
       "<Figure size 432x288 with 1 Axes>"
      ]
     },
     "metadata": {
      "needs_background": "light"
     },
     "output_type": "display_data"
    }
   ],
   "source": [
    "S = 1\n",
    "np.random.seed(1)\n",
    "realizations = []\n",
    "for i in range(R):\n",
    "    realizations.append(np.random.randint(0,2, size=S)[0]*2-1)\n",
    "plt.hist(realizations, bins=30, edgecolor=\"k\")\n",
    "plt.show()"
   ]
  },
  {
   "cell_type": "markdown",
   "id": "a80daf6c-20e8-49dd-8c2f-3c1edee2e881",
   "metadata": {},
   "source": [
    "The histogram just has two bars, one for each value stated in the RV."
   ]
  },
  {
   "cell_type": "markdown",
   "id": "027749d5-6fc6-4c64-931c-8e569c799810",
   "metadata": {},
   "source": [
    "#### 1.5. Compute and report mean and variance of the sample you created (just use np.mean and np.var). NB! Here we talk about sample mean and sample variance. Compare these numbers with the theoretical values computed in question 2 above."
   ]
  },
  {
   "cell_type": "code",
   "execution_count": 6,
   "id": "9cb5adbb-ffcc-464f-b8f9-2f06d6c32069",
   "metadata": {},
   "outputs": [
    {
     "name": "stdout",
     "output_type": "stream",
     "text": [
      "Sample Mean: -0.0012\n",
      "Sample Variance: 0.9999985600000002\n",
      "\n",
      "Difference between Expected Value & Sample Mean: 0.0012\n",
      "Difference between Variance & Sample Variance: 1.439999999797159e-06\n"
     ]
    }
   ],
   "source": [
    "s_mean = np.mean(realizations)\n",
    "print(\"Sample Mean: \" + str(s_mean))\n",
    "s_var = np.var(realizations)\n",
    "print(\"Sample Variance: \" + str(s_var) + \"\\n\")\n",
    "print(\"Difference between Expected Value & Sample Mean: \" + str(ex_v - s_mean))\n",
    "print(\"Difference between Variance & Sample Variance: \" + str(var - s_var))"
   ]
  },
  {
   "cell_type": "markdown",
   "id": "b335cd4d-8bb9-42f6-bec7-06cbc9580631",
   "metadata": {},
   "source": [
    "#### 1.6. Now create R pairs of random realizations of X (i.e. sample size S = 2). For each pair, compute its mean. You should have R mean values. Make the histogram. How does this look like?"
   ]
  },
  {
   "cell_type": "code",
   "execution_count": 7,
   "id": "683b7694-31f1-4bda-9ffa-94a5f9335de5",
   "metadata": {},
   "outputs": [
    {
     "data": {
      "image/png": "[encoded data removed]",
      "text/plain": [
       "<Figure size 432x288 with 1 Axes>"
      ]
     },
     "metadata": {
      "needs_background": "light"
     },
     "output_type": "display_data"
    }
   ],
   "source": [
    "S = 2\n",
    "np.random.seed(1)\n",
    "pair_means = []\n",
    "for i in range(R):\n",
    "    pair_means.append(np.mean(np.random.randint(0,2, size=S)*2-1))\n",
    "plt.hist(pair_means, bins=30, edgecolor=\"k\")\n",
    "plt.show()"
   ]
  },
  {
   "cell_type": "markdown",
   "id": "cbbea566-8947-4684-95da-13f2bbb0a723",
   "metadata": {},
   "source": [
    "The shape looks like a normal symmetrical distribution."
   ]
  },
  {
   "cell_type": "markdown",
   "id": "97038b62-305c-4f41-a21f-b2c177109fd4",
   "metadata": {},
   "source": [
    "#### 1.7. Compute and report mean of the R pair means, and variance of the means. NB! we talk about sample mean and sample variance again, where sample is your sample of R pair means."
   ]
  },
  {
   "cell_type": "code",
   "execution_count": 8,
   "id": "7a5b1ee7-a029-4acf-8eed-00076111aa11",
   "metadata": {},
   "outputs": [
    {
     "name": "stdout",
     "output_type": "stream",
     "text": [
      "Sample Mean: -0.005\n",
      "Sample Variance: 0.502175\n",
      "\n"
     ]
    }
   ],
   "source": [
    "p_mean = np.mean(pair_means)\n",
    "print(\"Sample Mean: \" + str(p_mean))\n",
    "p_var = np.var(pair_means)\n",
    "print(\"Sample Variance: \" + str(p_var) + \"\\n\")"
   ]
  },
  {
   "cell_type": "markdown",
   "id": "56f454b5-211d-4662-893a-fabb20edea8c",
   "metadata": {},
   "source": [
    "#### 1.8. Compute the expected value and variance of the pair means, i.e. the theoretical concepts. This mirrors what you did in 2."
   ]
  },
  {
   "cell_type": "code",
   "execution_count": 9,
   "id": "250de8b2-51aa-46de-97b4-131e211c403b",
   "metadata": {},
   "outputs": [
    {
     "name": "stdout",
     "output_type": "stream",
     "text": [
      "Expected Value stays the same at 0.0\n",
      "Variance of Pair Means is VarX * 1/S, which is 0.5\n"
     ]
    }
   ],
   "source": [
    "print(\"Expected Value stays the same at \" + str(ex_v))\n",
    "print(\"Variance of Pair Means is VarX * 1/S, which is \" + str(var/2))"
   ]
  },
  {
   "cell_type": "markdown",
   "id": "04eced1c-d446-4d0a-9bfc-f02ba897c372",
   "metadata": {},
   "source": [
    "#### 1.9. Now instead of pairs of random numbers, repeat this with 5-tuples of random numbers (i.e. S = 5 random numbers per one repetition, and still the same R = 1000 or whatever you chose repetitions in total). Compare the theoretical and sample version of mean and variance of 5-tuples. Are they similar? Do you spot any noticeable differences in the histogram compared to your previous histogram?"
   ]
  },
  {
   "cell_type": "code",
   "execution_count": 10,
   "id": "fe444fae-94ab-4119-a8be-35598abe2c0b",
   "metadata": {},
   "outputs": [
    {
     "name": "stdout",
     "output_type": "stream",
     "text": [
      "100\n"
     ]
    },
    {
     "data": {
      "image/png": "[encoded data removed]",
      "text/plain": [
       "<Figure size 432x288 with 1 Axes>"
      ]
     },
     "metadata": {
      "needs_background": "light"
     },
     "output_type": "display_data"
    },
    {
     "name": "stdout",
     "output_type": "stream",
     "text": [
      "Sample Mean: 0.007519999999999999\n",
      "Sample Variance: 0.2002634496\n",
      "\n",
      "Expected Value stays the same at 0.0\n",
      "Variance of Pair Means is VarX * 1/S, which is 0.2\n",
      "\n",
      "Difference between Expected Value & Sample Mean: -0.007519999999999999\n",
      "Difference between Variance & Sample Variance: -0.00026344959999999307\n"
     ]
    }
   ],
   "source": [
    "makehist(5)"
   ]
  },
  {
   "cell_type": "markdown",
   "id": "ea95d803-b551-4e37-90cf-a720b5139daf",
   "metadata": {},
   "source": [
    "The histogram is still normal and symmetrical, but there are more possible values compared to when sample size is 2."
   ]
  },
  {
   "cell_type": "markdown",
   "id": "43d490e6-aa8b-4d28-8d34-a86e89e250ee",
   "metadata": {},
   "source": [
    "#### 1.10. Repeat with 25-tuples... (Also compute the expectation and theoretical variance, and compare those with sample mean, sample variance)"
   ]
  },
  {
   "cell_type": "code",
   "execution_count": 11,
   "id": "221e7ab1-180b-4553-b1d5-935f25ddc2b1",
   "metadata": {},
   "outputs": [
    {
     "name": "stdout",
     "output_type": "stream",
     "text": [
      "100\n"
     ]
    },
    {
     "data": {
      "image/png": "[encoded data removed]",
      "text/plain": [
       "<Figure size 432x288 with 1 Axes>"
      ]
     },
     "metadata": {
      "needs_background": "light"
     },
     "output_type": "display_data"
    },
    {
     "name": "stdout",
     "output_type": "stream",
     "text": [
      "Sample Mean: -0.0016720000000000003\n",
      "Sample Variance: 0.040694804416000006\n",
      "\n",
      "Expected Value stays the same at 0.0\n",
      "Variance of Pair Means is VarX * 1/S, which is 0.04\n",
      "\n",
      "Difference between Expected Value & Sample Mean: 0.0016720000000000003\n",
      "Difference between Variance & Sample Variance: -0.0006948044160000055\n"
     ]
    }
   ],
   "source": [
    "makehist(25)"
   ]
  },
  {
   "cell_type": "markdown",
   "id": "98e955ad-0137-46f8-86ae-42c92826860a",
   "metadata": {},
   "source": [
    "#### 1.11. and with 1000-tuples. Do not forget to compare with theoretical results."
   ]
  },
  {
   "cell_type": "code",
   "execution_count": 12,
   "id": "9b211a52-6e2c-4951-8b5a-12e40cd389e7",
   "metadata": {},
   "outputs": [
    {
     "name": "stdout",
     "output_type": "stream",
     "text": [
      "100\n"
     ]
    },
    {
     "data": {
      "image/png": "[encoded data removed]",
      "text/plain": [
       "<Figure size 432x288 with 1 Axes>"
      ]
     },
     "metadata": {
      "needs_background": "light"
     },
     "output_type": "display_data"
    },
    {
     "name": "stdout",
     "output_type": "stream",
     "text": [
      "Sample Mean: 3.9400000000000056e-05\n",
      "Sample Variance: 0.00100089564764\n",
      "\n",
      "Expected Value stays the same at 0.0\n",
      "Variance of Pair Means is VarX * 1/S, which is 0.001\n",
      "\n",
      "Difference between Expected Value & Sample Mean: -3.9400000000000056e-05\n",
      "Difference between Variance & Sample Variance: -8.956476399998945e-07\n"
     ]
    }
   ],
   "source": [
    "makehist(1000)"
   ]
  },
  {
   "cell_type": "markdown",
   "id": "0637c29c-126a-49c1-bd0e-c00902987246",
   "metadata": {},
   "source": [
    "#### 1.12. Comment on the tuple size, and how the shape of the histogram changes when the tuple size increases."
   ]
  },
  {
   "cell_type": "markdown",
   "id": "cccbf172-e7c0-4267-ba0c-087e96187a42",
   "metadata": {},
   "source": [
    "The histogram is still normal and symmetrical, but there are more possible values compared to when sample size is smaller, hence there being more bars in the histogram."
   ]
  },
  {
   "cell_type": "markdown",
   "id": "127cc3a9-2808-4c7f-a9bc-11bbb04e1fac",
   "metadata": {},
   "source": [
    "#### 1.13. Explain why do the histograms resemble normal distribution as S grows. In particular, explain what happens when we move from single values S = 1 to pairs S = 2. Why did two equal peaks turn into a “山”-shaped histogram?"
   ]
  },
  {
   "cell_type": "markdown",
   "id": "dd6c0ca6-8827-4822-8e11-94b8fe3ebe94",
   "metadata": {},
   "source": [
    "According to Central Limit Theorem, it is more likely for the results to be near the middle number than the edge numbers, which means that the values will pile up in the center as it is less likely for all of the values to be 0 or all of them to be 1. At S = 1, there is an equal chance of the toss being heads as well as tails, thats why it's two peaks, but at S = 2, it is more likely that the tosses would be 1 head and 1 tail, rather than both heads or both tails, which is why it turns into a “山”-shaped histogram."
   ]
  },
  {
   "cell_type": "markdown",
   "id": "c7b7c159-5e6f-41cf-a61c-534bc0029453",
   "metadata": {},
   "source": [
    "#### 1.14. Explain what is the difference between R and S. How do changing these values affect the histograms?"
   ]
  },
  {
   "cell_type": "markdown",
   "id": "7d945417-d240-4ba2-b378-b11f6a72dab6",
   "metadata": {},
   "source": [
    "R would is the number of realizations we coduct while S is the size of each realization. S effects the shape of the histogram, as S increases the histogram becomes more normally distributed. As R increases, we would get a smoother histogram as we get more data to plot."
   ]
  },
  {
   "cell_type": "markdown",
   "id": "e0a00916-9b5f-4dd0-90d2-8d639a88fc66",
   "metadata": {},
   "source": [
    "## 2. Is povery in Azraq refugee camp falling?"
   ]
  },
  {
   "cell_type": "markdown",
   "id": "70e84727-ef7b-4608-9a26-a019767d3d22",
   "metadata": {},
   "source": [
    "### 2.1. Background"
   ]
  },
  {
   "cell_type": "markdown",
   "id": "07d23ae9-ca70-4203-9fce-8d3f17edff2b",
   "metadata": {},
   "source": [
    "#### 2.1.1. What was the abject poverty in Azraq camp in Q1 and Q2 2022 (when including all assistance)? Lets call these variables p1 and p2."
   ]
  },
  {
   "cell_type": "code",
   "execution_count": 13,
   "id": "4be2e8cb-c437-4e62-828d-775b61e5734b",
   "metadata": {},
   "outputs": [],
   "source": [
    "p1 = 0.66\n",
    "p2 = 0.51"
   ]
  },
  {
   "cell_type": "markdown",
   "id": "1a877eae-25a2-45bc-bbd5-60851f8a1f4e",
   "metadata": {},
   "source": [
    "For Q1 of 2022 the abject poverty line is 66%, while for Q2, the abject poverty line is 51%"
   ]
  },
  {
   "cell_type": "markdown",
   "id": "2999014f-fca9-4498-94af-174cefb36363",
   "metadata": {},
   "source": [
    "#### 2.1.2. How many households were surveyed in the camp? Call this sample size S."
   ]
  },
  {
   "cell_type": "code",
   "execution_count": 14,
   "id": "5f39f3a6-8e65-4ba8-a76a-2ea449b3d4aa",
   "metadata": {},
   "outputs": [],
   "source": [
    "S = 325"
   ]
  },
  {
   "cell_type": "markdown",
   "id": "5e8f4ea1-2c4c-46c6-a5fc-a91b7bb80b92",
   "metadata": {},
   "source": [
    "There are 325 households surveyed in the Azraq Camp."
   ]
  },
  {
   "cell_type": "markdown",
   "id": "bdb8d75a-89f4-42b9-90c6-cec5f8159a12",
   "metadata": {},
   "source": [
    "### 2.2. Simulations"
   ]
  },
  {
   "cell_type": "markdown",
   "id": "136e3a31-442d-4d50-8844-32c0953df5a7",
   "metadata": {},
   "source": [
    "#### 2.2.1. Create a random sample using the correct values of S and p2 you found in 2.1 above."
   ]
  },
  {
   "cell_type": "code",
   "execution_count": 15,
   "id": "98630ee9-4398-47e1-890d-95303bf55499",
   "metadata": {},
   "outputs": [],
   "source": [
    "np.random.seed(1)\n",
    "sample = np.random.binomial(1, p2, size=S)"
   ]
  },
  {
   "cell_type": "markdown",
   "id": "60da600d-fc77-4f4d-b03b-524e4049f430",
   "metadata": {},
   "source": [
    "#### 2.2.2 Compute the sample mean and compare it with p1 and p2 above. How close is it to these figures?"
   ]
  },
  {
   "cell_type": "code",
   "execution_count": 16,
   "id": "d6427313-cd0d-4aea-a513-3d80c704dc89",
   "metadata": {},
   "outputs": [
    {
     "name": "stdout",
     "output_type": "stream",
     "text": [
      "Sample Mean: 0.47384615384615386\n",
      "Difference from p1: 0.18615384615384617\n",
      "Difference from p2: 0.03615384615384615\n"
     ]
    }
   ],
   "source": [
    "mean = np.mean(sample)\n",
    "print(\"Sample Mean: \" + str(mean))\n",
    "print(\"Difference from p1: \" + str(p1-mean))\n",
    "print(\"Difference from p2: \" + str(p2-mean))"
   ]
  },
  {
   "cell_type": "markdown",
   "id": "4d84573b-3034-472e-83e5-c2d0d77b241e",
   "metadata": {},
   "source": [
    "The sample mean is closer to P2"
   ]
  },
  {
   "cell_type": "markdown",
   "id": "1f342d2f-0f5a-433a-a762-7f709df1831c",
   "metadata": {},
   "source": [
    "#### 2.2.3. Pick your number of replications R (something like 1000 or 10,000 are good numbers)."
   ]
  },
  {
   "cell_type": "code",
   "execution_count": 17,
   "id": "e871d117-0215-4183-bd32-9af13ba53083",
   "metadata": {},
   "outputs": [],
   "source": [
    "R = 10000"
   ]
  },
  {
   "cell_type": "markdown",
   "id": "e788f993-2e3f-45ae-88c4-06a7bc60d38f",
   "metadata": {},
   "source": [
    "#### 2.2.4. Repeat the points 1 and 2 for R times: create the sample, compute the average, but also store the average in an array. You should have R averages now."
   ]
  },
  {
   "cell_type": "code",
   "execution_count": 18,
   "id": "102e898a-b896-4e82-b5f8-63de8745457f",
   "metadata": {},
   "outputs": [],
   "source": [
    "means = []\n",
    "np.random.seed(1)\n",
    "for i in range(R):\n",
    "    means.append(np.mean(np.random.binomial(1, p2, size=S)))"
   ]
  },
  {
   "cell_type": "markdown",
   "id": "6c65c19c-a413-4ed4-b70a-d25cc5cc9049",
   "metadata": {},
   "source": [
    "#### 2.2.5. What is the average of the averages? Which probability from 1 does it resemble? Why?"
   ]
  },
  {
   "cell_type": "code",
   "execution_count": 19,
   "id": "990f184c-82ea-4ad3-aede-8e489ba2bf4b",
   "metadata": {},
   "outputs": [
    {
     "name": "stdout",
     "output_type": "stream",
     "text": [
      "Mean: 0.5101381538461538\n",
      "Difference from p1: 0.14986184615384623\n",
      "Difference from p2: -0.0001381538461537879\n"
     ]
    }
   ],
   "source": [
    "m_mean = np.mean(means)\n",
    "print(\"Mean: \" + str(m_mean))\n",
    "print(\"Difference from p1: \" + str(p1-m_mean))\n",
    "print(\"Difference from p2: \" + str(p2-m_mean))"
   ]
  },
  {
   "cell_type": "markdown",
   "id": "867e8366-958f-4329-9264-f3ad98375821",
   "metadata": {},
   "source": [
    "It is closer to p2, this is because we used the probability of p2 as the probability of the binomial that has the value of 1 and p1 as the probability of the event with value of 0, which means that the expected value would be p2."
   ]
  },
  {
   "cell_type": "markdown",
   "id": "934d0e1b-e536-4292-a76e-ea46c1110f7f",
   "metadata": {},
   "source": [
    "#### 2.2.6. Plot a histogram of the averages. Which distribution does it resemble? What do you say, by just eyeballing the plot, what are the largest and smallest values that are “reasonably” common?"
   ]
  },
  {
   "cell_type": "code",
   "execution_count": 20,
   "id": "93b815b6-b039-4805-b1c1-51769c23c5a0",
   "metadata": {},
   "outputs": [
    {
     "data": {
      "image/png": "[encoded data removed]",
      "text/plain": [
       "<Figure size 432x288 with 1 Axes>"
      ]
     },
     "metadata": {
      "needs_background": "light"
     },
     "output_type": "display_data"
    }
   ],
   "source": [
    "plt.hist(means, bins = 100, edgecolor = \"k\")\n",
    "plt.show()"
   ]
  },
  {
   "cell_type": "markdown",
   "id": "6023d066-d5b1-4f46-b1ec-31e1856df647",
   "metadata": {},
   "source": [
    "The smallest reasonably common value would be around 0.48 while the largest would be around 0.53."
   ]
  },
  {
   "cell_type": "markdown",
   "id": "39d4d7dd-eb91-40d6-8100-f1f5bac4fada",
   "metadata": {},
   "source": [
    "#### 2.2.7. Finally, compute 2.5th and 97.5th percentile and the 95% confidence intervals. Does the Q1 poverty value fall into this interval?"
   ]
  },
  {
   "cell_type": "code",
   "execution_count": 21,
   "id": "d80c61e5-3609-4d76-8ea5-45cbb6c020a9",
   "metadata": {},
   "outputs": [
    {
     "name": "stdout",
     "output_type": "stream",
     "text": [
      "Confidence Interval: [0.4553846153846154, 0.5661538461538461]\n"
     ]
    }
   ],
   "source": [
    "p_25, p_975 = np.percentile(means, (2.5, 97.5))\n",
    "print(\"Confidence Interval: \" + str([p_25, p_975]))"
   ]
  },
  {
   "cell_type": "markdown",
   "id": "2ad7778e-0cb9-4d65-8e45-2d87c50ae21d",
   "metadata": {},
   "source": [
    "The Q1 Value does not fall into this interval."
   ]
  },
  {
   "cell_type": "markdown",
   "id": "7aa58b9d-9dfa-489f-b17e-2f80e266db5d",
   "metadata": {},
   "source": [
    "### 2.3 Theoretical CI"
   ]
  },
  {
   "cell_type": "markdown",
   "id": "8211a20e-d8c7-4eca-ad75-485c7174a3d2",
   "metadata": {},
   "source": [
    "#### 2.3.1. Compute variance of your sample of X. You can use the Bernoulli variance formula Var X = p(1 − p). You can also use the sample you created in 2.2.1, or create a new sample, and find the sample variance."
   ]
  },
  {
   "cell_type": "code",
   "execution_count": 22,
   "id": "fa6e55c1-6437-47d9-bacc-e0b00d7e71f0",
   "metadata": {},
   "outputs": [
    {
     "name": "stdout",
     "output_type": "stream",
     "text": [
      "Variance: 0.2499\n"
     ]
    }
   ],
   "source": [
    "var_x = p2*(1 - p2)\n",
    "print(\"Variance: \" + str(var_x))"
   ]
  },
  {
   "cell_type": "markdown",
   "id": "e1a11925-0e04-42f3-b7a8-406b805cecd0",
   "metadata": {},
   "source": [
    "#### 2.3.2. But this was variance of X (or sample variance if that was what you computed). What we need is variance of sample mean. What does CLT tell about relationship b/w sample variance and variance of the sample mean?"
   ]
  },
  {
   "cell_type": "markdown",
   "id": "61b3752d-c6d7-416a-8b73-a59241f9da90",
   "metadata": {},
   "source": [
    "Based on CLT, variance of the sample mean = 1/s * sample variance"
   ]
  },
  {
   "cell_type": "code",
   "execution_count": 23,
   "id": "97f3169b-dafd-482d-bfed-2a290562c787",
   "metadata": {},
   "outputs": [
    {
     "name": "stdout",
     "output_type": "stream",
     "text": [
      "Variance of Sample Mean: 0.000768923076923077\n"
     ]
    }
   ],
   "source": [
    "var_smean = var_x/S\n",
    "print(\"Variance of Sample Mean: \" + str(var_smean))"
   ]
  },
  {
   "cell_type": "markdown",
   "id": "e9bd62a1-a0a5-4caf-a66f-9adef31f55b5",
   "metadata": {},
   "source": [
    "#### 2.3.3. Compute the standard deviation of sample mean using CLT"
   ]
  },
  {
   "cell_type": "markdown",
   "id": "949900a5-b4b9-41c0-a810-f6ff658d7ee2",
   "metadata": {},
   "source": [
    "Standard deviation is the sqrt of the variance of the sample mean"
   ]
  },
  {
   "cell_type": "code",
   "execution_count": 24,
   "id": "a3018cd5-78f5-409c-b86f-1e2a51a0265f",
   "metadata": {},
   "outputs": [
    {
     "name": "stdout",
     "output_type": "stream",
     "text": [
      "Standard Deviation of Sample Mean (CLT): 0.02772946225448804\n"
     ]
    }
   ],
   "source": [
    "print(\"Standard Deviation of Sample Mean (CLT): \" + str(math.sqrt(var_smean)))"
   ]
  },
  {
   "cell_type": "markdown",
   "id": "1335fa96-2e73-4c02-990a-855e0977ba2c",
   "metadata": {},
   "source": [
    "#### 2.3.4. Compare the standard deviation you got here with the standard deviation of the sample of averages you computed in 2.2.4."
   ]
  },
  {
   "cell_type": "code",
   "execution_count": 25,
   "id": "44699ee6-9bd2-4551-acf1-bffef3a340f8",
   "metadata": {},
   "outputs": [
    {
     "name": "stdout",
     "output_type": "stream",
     "text": [
      "Standard Deviation of Sample Mean (np.var): 0.02803481081899439\n",
      "Difference between CLT and np.var: -0.00030534856450634834\n"
     ]
    }
   ],
   "source": [
    "std_smean = np.std(means)\n",
    "print(\"Standard Deviation of Sample Mean (np.var): \" + str(std_smean))\n",
    "print(\"Difference between CLT and np.var: \" + str(math.sqrt(var_smean) - std_smean))"
   ]
  },
  {
   "cell_type": "markdown",
   "id": "2beeba15-6ba9-4d64-8975-6558c7f6052e",
   "metadata": {},
   "source": [
    "#### 2.3.5. Use this standard deviation to compute the confidence interval. Compare it to what you got in 2.2.7. Does p1 falls inside or outside of this interval?"
   ]
  },
  {
   "cell_type": "code",
   "execution_count": 27,
   "id": "f171ad92-e6d9-468c-9f57-80e6d6bfefbb",
   "metadata": {},
   "outputs": [
    {
     "name": "stdout",
     "output_type": "stream",
     "text": [
      "Confidence Interval: [0.45565025398120346, 0.5643497460187966]\n"
     ]
    }
   ],
   "source": [
    "q_25 = 0.51-1.96*math.sqrt(var_smean)\n",
    "q_975 = 0.51+1.96*math.sqrt(var_smean)\n",
    "print(\"Confidence Interval: \" + str([q_25, q_975]))"
   ]
  },
  {
   "cell_type": "markdown",
   "id": "55bb2c62-50f4-435b-81cc-6d4d597c1258",
   "metadata": {},
   "source": [
    "No, P1 does not fall inside this interval."
   ]
  }
 ],
 "metadata": {
  "kernelspec": {
   "display_name": "Python 3 (ipykernel)",
   "language": "python",
   "name": "python3"
  },
  "language_info": {
   "codemirror_mode": {
    "name": "ipython",
    "version": 3
   },
   "file_extension": ".py",
   "mimetype": "text/x-python",
   "name": "python",
   "nbconvert_exporter": "python",
   "pygments_lexer": "ipython3",
   "version": "3.9.7"
  }
 },
 "nbformat": 4,
 "nbformat_minor": 5
}
