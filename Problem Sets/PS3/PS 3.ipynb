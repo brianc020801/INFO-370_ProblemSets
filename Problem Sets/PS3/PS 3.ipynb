{
 "cells": [
  {
   "cell_type": "code",
   "execution_count": 1,
   "id": "59a4bf20-cb18-4963-8e83-ea4103161307",
   "metadata": {},
   "outputs": [],
   "source": [
    "import numpy as np\n",
    "import matplotlib.pyplot as plt\n",
    "import seaborn as sns\n",
    "import pandas as pd\n",
    "import math"
   ]
  },
  {
   "cell_type": "markdown",
   "id": "8268c32f-bdf6-483d-848d-e29e9184e791",
   "metadata": {},
   "source": [
    "## 1. Binomial Distribution"
   ]
  },
  {
   "cell_type": "markdown",
   "id": "0ef58863-b064-4560-aac8-5da9f2508512",
   "metadata": {},
   "source": [
    "#### 1.1. What is the expected value of this RV E X?"
   ]
  },
  {
   "cell_type": "markdown",
   "id": "98b41017-728f-4574-953a-b822e2d5c391",
   "metadata": {},
   "source": [
    "The expected value is the sum of the probability multiplied by the z"
   ]
  },
  {
   "cell_type": "code",
   "execution_count": 2,
   "id": "f862e4fd-afb6-42b6-8789-de79e80a9373",
   "metadata": {},
   "outputs": [
    {
     "name": "stdout",
     "output_type": "stream",
     "text": [
      "1.7999999999999998\n"
     ]
    }
   ],
   "source": [
    "S = 3\n",
    "p = 0.6\n",
    "EX = 0.6 + 0.6 + 0.6\n",
    "print(EX)"
   ]
  },
  {
   "cell_type": "markdown",
   "id": "cd6bf281-1545-4885-a660-9dcffa8606eb",
   "metadata": {},
   "source": [
    "The expected value is 1.8"
   ]
  },
  {
   "cell_type": "markdown",
   "id": "581902c6-c6a7-4244-9258-8e7260179534",
   "metadata": {},
   "source": [
    "#### 1.2. What is the probability your get 0, 1, 2 or 3 “successes”?"
   ]
  },
  {
   "cell_type": "markdown",
   "id": "d0da347a-2990-418f-aa7f-0379fb21996a",
   "metadata": {},
   "source": [
    "First we find the P(single scenario) using the formula: $$ p^k (1-p)^{n-k} $$"
   ]
  },
  {
   "cell_type": "code",
   "execution_count": 3,
   "id": "b3b783ed-c7e5-4040-8df4-10029b50a7cf",
   "metadata": {},
   "outputs": [
    {
     "name": "stdout",
     "output_type": "stream",
     "text": [
      "3 Successes: 0.21599999999999997\n",
      "2 Successes: 0.144\n",
      "1 Successes: 0.09600000000000002\n",
      "0 Successes: 0.06400000000000002\n"
     ]
    }
   ],
   "source": [
    "# 3 Successes\n",
    "p_3suc = (p**3)*(0.4**(S-3))\n",
    "# 2 Successes\n",
    "p_2suc = (p**2)*(0.4**(S-2))\n",
    "# 1 Success\n",
    "p_1suc = (p**1)*(0.4**(S-1))\n",
    "# 0 Success\n",
    "p_0suc = (p**0)*(0.4**(S-0))\n",
    "print(\"3 Successes: \" + str(p_3suc))\n",
    "print(\"2 Successes: \" + str(p_2suc))\n",
    "print(\"1 Successes: \" + str(p_1suc))\n",
    "print(\"0 Successes: \" + str(p_0suc))"
   ]
  },
  {
   "cell_type": "markdown",
   "id": "430bf016-4d5a-4561-af2e-e367e148c56f",
   "metadata": {},
   "source": [
    "Then we find the number of possible scenarios for each success case using the formula: $$ \\frac{n!}{k!(n-k!)} $$"
   ]
  },
  {
   "cell_type": "code",
   "execution_count": 4,
   "id": "0281fc71-22b2-495f-a015-510199315401",
   "metadata": {},
   "outputs": [
    {
     "name": "stdout",
     "output_type": "stream",
     "text": [
      "3 Successes: 1.0\n",
      "2 Successes: 3.0\n",
      "1 Successes: 3.0\n",
      "0 Successes: 1.0\n"
     ]
    }
   ],
   "source": [
    "n_fac = np.math.factorial(3)\n",
    "s_3suc = n_fac/((3*2*1)*(1))\n",
    "s_2suc = n_fac/((2*1)*(1))\n",
    "s_1suc = n_fac/((1)*(2*1))\n",
    "s_0suc = n_fac/((1)*(3*2*1))\n",
    "\n",
    "print(\"3 Successes: \" + str(s_3suc))\n",
    "print(\"2 Successes: \" + str(s_2suc))\n",
    "print(\"1 Successes: \" + str(s_1suc))\n",
    "print(\"0 Successes: \" + str(s_0suc))"
   ]
  },
  {
   "cell_type": "markdown",
   "id": "c5679e28-da21-4c51-bee4-0be8b4ae9d33",
   "metadata": {},
   "source": [
    "Finally we multiply the P(Single Scenario) by the number of scenarios to get the probability of each number of success."
   ]
  },
  {
   "cell_type": "code",
   "execution_count": 5,
   "id": "207ccf1f-31d0-4056-987d-fbdec07d8518",
   "metadata": {},
   "outputs": [
    {
     "name": "stdout",
     "output_type": "stream",
     "text": [
      "3 Successes: 21.599999999999998%\n",
      "2 Successes: 43.199999999999996%\n",
      "1 Successes: 28.800000000000004%\n",
      "0 Successes: 6.400000000000001%\n"
     ]
    }
   ],
   "source": [
    "prob_3suc = p_3suc * s_3suc\n",
    "prob_2suc = p_2suc * s_2suc\n",
    "prob_1suc = p_1suc * s_1suc\n",
    "prob_0suc = p_0suc * s_0suc\n",
    "\n",
    "print(\"3 Successes: \" + str(prob_3suc * 100) + \"%\")\n",
    "print(\"2 Successes: \" + str(prob_2suc * 100) + \"%\")\n",
    "print(\"1 Successes: \" + str(prob_1suc * 100) + \"%\")\n",
    "print(\"0 Successes: \" + str(prob_0suc * 100) + \"%\")"
   ]
  },
  {
   "cell_type": "markdown",
   "id": "eea319b2-a16c-401f-80d1-5bdeb06f4c08",
   "metadata": {},
   "source": [
    "#### 1.3. What is variance of this RV Var X?"
   ]
  },
  {
   "cell_type": "markdown",
   "id": "bb529bb9-e778-424e-af7b-0d8db0b964a8",
   "metadata": {},
   "source": [
    "Variance is found using the formula: $$np(1-p)$$ where n is sample size and p is success rate"
   ]
  },
  {
   "cell_type": "code",
   "execution_count": 6,
   "id": "3fc6d340-816c-460b-9b00-c6ffccd79ebf",
   "metadata": {},
   "outputs": [
    {
     "name": "stdout",
     "output_type": "stream",
     "text": [
      "0.72\n"
     ]
    }
   ],
   "source": [
    "variance = S * p * (1-p)\n",
    "print(variance)"
   ]
  },
  {
   "cell_type": "markdown",
   "id": "f8e41b03-ecd8-4777-b276-1c8edb8b62f9",
   "metadata": {},
   "source": [
    "#### 1.4. Now pick a sample size R (1000...100,000 are good numbers) and create a sample of size R of such random values."
   ]
  },
  {
   "cell_type": "code",
   "execution_count": 7,
   "id": "b7c3e72b-a6c9-415c-a35b-7717d70fab53",
   "metadata": {},
   "outputs": [
    {
     "name": "stdout",
     "output_type": "stream",
     "text": [
      "[2 3 2 2 3 3 1 1 2 2 2 1 3 1 1 2 3 2 3 0 1 2 2 1 2 2 2 1 2 2 1 1 2 1 2 3 2\n",
      " 2 1 2 2 1 0 3 2 3 3 2 1 3 2 1 3 3 3 1 2 3 2 2 2 2 1 1 1 2 2 1 3 3 3 2 1 3\n",
      " 1 3 2 3 1 2 2 3 1 2 1 0 2 1 2 2 1 2 2 1 2 3 2 1 1 0 3 3 2 1 2 0 2 3 3 2 1\n",
      " 2 1 2 2 1 1 1 1 2 1 2 3 1 3 1 2 3 0 1 2 2 2 1 2 3 3 2 1 2 3 0 2 1 3 1 3 2\n",
      " 1 2 2 3 3 2 3 1 2 1 1 2 2 1 3 2 2 2 3 2 2 3 3 2 2 3 3 1 2 0 2 3 1 1 3 3 2\n",
      " 2 3 1 3 3 3 1 1 1 1 1 3 3 1 1 1 1 1 2 2 3 1 2 1 1 1 3 3 2 2 2 2 1 2 2 2 2\n",
      " 3 3 3 3 1 3 2 2 2 1 2 3 3 3 2 2 2 1 2 2 2 2 2 2 2 1 2 1 2 1 3 3 1 1 1 1 3\n",
      " 2 3 2 0 2 2 2 3 2 1 1 2 1 1 3 1 1 0 1 1 2 1 3 2 2 1 2 2 2 1 2 2 2 2 2 2 2\n",
      " 2 3 0 1 2 3 3 2 1 2 2 1 3 1 3 1 1 1 1 3 2 2 1 3 1 2 3 1 0 2 3 2 2 3 2 1 0\n",
      " 0 2 2 2 3 2 2 0 2 2 3 1 2 3 2 2 1 2 3 3 3 2 1 2 1 1 3 2 2 2 3 2 2 2 2 2 2\n",
      " 2 1 3 2 2 2 2 1 1 1 3 2 0 1 2 2 3 3 2 1 0 2 1 2 2 1 1 3 2 1 1 1 3 2 2 1 3\n",
      " 1 2 2 2 2 0 0 1 3 3 2 2 2 2 2 2 1 2 3 1 2 2 2 1 2 1 3 2 2 1 1 2 2 3 0 1 2\n",
      " 0 0 1 2 3 1 3 3 0 2 2 2 2 1 2 2 3 1 2 2 1 1 1 3 2 2 1 3 1 2 0 3 2 1 1 1 2\n",
      " 0 3 3 2 1 2 1 2 1 1 2 2 3 1 3 3 3 2 2 2 0 1 2 1 1 2 2 0 2 1 1 1 2 1 2 2 2\n",
      " 0 1 2 2 2 2 1 3 1 2 2 1 3 1 3 0 2 2 2 2 2 3 3 1 0 3 1 2 2 2 0 2 2 1 1 0 3\n",
      " 2 2 1 3 2 1 2 1 2 1 1 3 0 1 3 2 2 1 2 2 1 2 2 3 1 3 3 1 2 3 1 1 2 1 1 0 1\n",
      " 2 3 1 1 1 1 2 2 1 3 3 2 2 1 1 3 1 3 1 2 3 2 2 1 1 0 2 2 3 2 1 2 2 2 3 1 3\n",
      " 3 2 3 2 2 1 1 3 1 2 2 1 2 1 3 3 1 3 3 2 2 2 3 1 3 1 2 1 2 1 0 2 2 2 3 2 2\n",
      " 1 2 1 1 3 1 1 2 1 1 2 3 3 2 0 1 0 3 2 3 2 1 1 3 0 0 1 2 1 2 0 1 2 2 1 1 1\n",
      " 2 3 1 2 3 2 1 2 2 2 1 0 2 2 2 2 2 3 3 2 3 1 1 3 2 3 2 2 2 2 2 3 3 2 2 2 2\n",
      " 3 1 2 2 1 3 2 1 3 2 1 2 3 1 2 0 2 2 1 2 3 3 1 1 2 1 2 0 2 2 1 1 2 1 3 3 0\n",
      " 1 0 2 3 1 1 1 1 2 1 0 1 2 2 2 2 1 2 3 2 3 0 1 2 1 2 1 1 3 3 3 3 0 3 2 1 2\n",
      " 1 3 3 1 2 2 3 2 1 3 0 2 1 2 1 2 2 1 2 2 2 2 1 2 2 3 2 3 1 2 0 1 2 1 2 1 1\n",
      " 2 3 2 2 2 2 3 2 3 1 2 3 3 3 2 2 2 2 3 1 2 2 2 3 1 3 2 2 2 1 2 1 2 1 3 0 2\n",
      " 3 3 1 2 3 2 1 1 2 3 3 3 1 2 1 2 1 3 3 2 3 2 3 0 2 1 1 2 2 2 3 2 2 3 0 1 3\n",
      " 2 3 1 0 1 1 1 2 1 1 1 1 1 1 1 2 0 1 2 1 1 1 1 1 1 2 3 1 2 2 2 0 1 2 2 2 2\n",
      " 2 2 1 3 1 2 2 1 2 3 3 2 2 2 1 2 1 2 2 3 3 2 2 1 2 2 2 2 2 2 3 1 2 3 2 2 2\n",
      " 2]\n"
     ]
    }
   ],
   "source": [
    "sample = np.random.binomial(3, 0.6, size=1000)\n",
    "print(sample)"
   ]
  },
  {
   "cell_type": "markdown",
   "id": "b354a12e-fae7-47f4-a4fd-18287058bcbe",
   "metadata": {},
   "source": [
    "#### 1.5. Compute the mean of your sample."
   ]
  },
  {
   "cell_type": "code",
   "execution_count": 8,
   "id": "9739834a-7875-48fc-ac7a-21014fb7ae3c",
   "metadata": {},
   "outputs": [
    {
     "name": "stdout",
     "output_type": "stream",
     "text": [
      "Mean: 1.802\n"
     ]
    }
   ],
   "source": [
    "sample_mean = np.mean(sample)\n",
    "print(\"Mean: \" + str(sample_mean))"
   ]
  },
  {
   "cell_type": "markdown",
   "id": "f32f7c6f-38f2-4f55-af57-83c19133ceac",
   "metadata": {},
   "source": [
    "#### 1.6. Compute the variance of your sample."
   ]
  },
  {
   "cell_type": "code",
   "execution_count": 9,
   "id": "a1cf4e8b-36d1-4c3d-9b77-dac920e80fc1",
   "metadata": {},
   "outputs": [
    {
     "name": "stdout",
     "output_type": "stream",
     "text": [
      "Sample Variance: 0.7055015015015055\n"
     ]
    }
   ],
   "source": [
    "sample_v = sum(np.power(np.subtract(sample, sample_mean),2))/999\n",
    "print(\"Sample Variance: \" + str(sample_v))"
   ]
  },
  {
   "cell_type": "markdown",
   "id": "c3b15a25-ba3f-4675-a030-a5587c331237",
   "metadata": {},
   "source": [
    "#### 1.7. Given your sample size, what are the expected number of cases with 0, 1, 2, and 3 successes?"
   ]
  },
  {
   "cell_type": "code",
   "execution_count": 10,
   "id": "d8117a60-fcd5-4e22-ae0a-16ce00056ba4",
   "metadata": {},
   "outputs": [
    {
     "name": "stdout",
     "output_type": "stream",
     "text": [
      "3 Successes: 215.99999999999997 cases\n",
      "2 Successes: 431.99999999999994 cases\n",
      "1 Successes: 288.00000000000006 cases\n",
      "0 Successes: 64.00000000000001 cases\n"
     ]
    }
   ],
   "source": [
    "n_3suc = prob_3suc * 1000\n",
    "n_2suc = prob_2suc * 1000\n",
    "n_1suc = prob_1suc * 1000\n",
    "n_0suc = prob_0suc * 1000\n",
    "\n",
    "print(\"3 Successes: \" + str(n_3suc) + \" cases\")\n",
    "print(\"2 Successes: \" + str(n_2suc) + \" cases\")\n",
    "print(\"1 Successes: \" + str(n_1suc) + \" cases\")\n",
    "print(\"0 Successes: \" + str(n_0suc) + \" cases\")"
   ]
  },
  {
   "cell_type": "markdown",
   "id": "8a4a98ed-9052-4ca1-b36c-b4d3e63b72ec",
   "metadata": {},
   "source": [
    "#### 1.8. Make a histogram of your sample. Add the expected number of cases to your histogram."
   ]
  },
  {
   "cell_type": "code",
   "execution_count": 11,
   "id": "0230dba6-77df-4e9c-a904-c5fc37a783d9",
   "metadata": {},
   "outputs": [
    {
     "data": {
      "text/plain": [
       "<matplotlib.legend.Legend at 0x7f9831476d00>"
      ]
     },
     "execution_count": 11,
     "metadata": {},
     "output_type": "execute_result"
    },
    {
     "data": {
      "image/png": "[encoded data removed]",
      "text/plain": [
       "<Figure size 432x288 with 1 Axes>"
      ]
     },
     "metadata": {
      "needs_background": "light"
     },
     "output_type": "display_data"
    }
   ],
   "source": [
    "plt.scatter([0, 1, 2, 3], [n_0suc, n_1suc, n_2suc, n_3suc], c=\"red\", zorder=2)\n",
    "plt.hist(sample, bins=7, edgecolor=\"w\", zorder=1)\n",
    "plt.title(\"Sample Size 1000\")\n",
    "plt.xlabel(\"Number of Successes\")\n",
    "plt.ylabel(\"Counts\")\n",
    "plt.legend([\"Expected Counts\"])"
   ]
  },
  {
   "cell_type": "markdown",
   "id": "4775c595-b26d-4104-93c8-d6aeba8b4d1f",
   "metadata": {},
   "source": [
    "The histogram matches pretty well with the expected values, there wasn't any extreme differences between the histogram and the expected values that could be observed."
   ]
  },
  {
   "cell_type": "markdown",
   "id": "945530cc-9d3d-4a26-b81a-6b47bb0b56f0",
   "metadata": {},
   "source": [
    "## 2. Log-normal Distribution"
   ]
  },
  {
   "cell_type": "markdown",
   "id": "e5bbc45a-1298-483a-8c49-bcc1ad3e82b2",
   "metadata": {},
   "source": [
    "#### 2.1. Choose your sample size S. 10,000 is a good number."
   ]
  },
  {
   "cell_type": "code",
   "execution_count": 12,
   "id": "52dd7c56-e59f-4c97-b721-79779d1f3ac5",
   "metadata": {},
   "outputs": [],
   "source": [
    "S_lnd = 10000"
   ]
  },
  {
   "cell_type": "markdown",
   "id": "8535d4da-3564-4909-9b08-702e0007fba5",
   "metadata": {},
   "source": [
    "#### 2.2. Explore the shape of the distribution: draw S random numbers from LN(0, 0.2) (i.e. μ = 0 and σ = 0.2), LN(0, 0.5) and LN(0, 1.68). Display all these samples on a histogram while labeling clearly which one is which one. Do the histograms in two ways: a) linear-linear scale, and b) log-linear (x is log and y is linear). You can just do histogram of log x instead of x (you can also set log scale in matplotlib, but the bin widths will look weird). Comment the shape of histograms: do they look skewed? Do they look normal?"
   ]
  },
  {
   "cell_type": "code",
   "execution_count": 13,
   "id": "e63a264a-1ac1-4d28-8a4b-935d2c9edea4",
   "metadata": {},
   "outputs": [],
   "source": [
    "mu = 0\n",
    "sigma_1 = 0.2\n",
    "sigma_2 = 0.5\n",
    "sigma_3 = 1.68\n",
    "sample_sigma1 = np.random.lognormal(mu, sigma_1, size = S_lnd)\n",
    "sample_sigma2 = np.random.lognormal(mu, sigma_2, size = S_lnd)\n",
    "sample_sigma3 = np.random.lognormal(mu, sigma_3, size = S_lnd)"
   ]
  },
  {
   "cell_type": "code",
   "execution_count": 14,
   "id": "6bc6f68c-3622-4cff-8308-c7c80e375822",
   "metadata": {},
   "outputs": [
    {
     "data": {
      "image/png": "[encoded data removed]",
      "text/plain": [
       "<Figure size 1224x720 with 6 Axes>"
      ]
     },
     "metadata": {
      "needs_background": "light"
     },
     "output_type": "display_data"
    }
   ],
   "source": [
    "plt.rcParams[\"figure.figsize\"] = [17,10]\n",
    "\n",
    "plt.subplot(2,3,1)\n",
    "plt_sigma1 = plt.hist(sample_sigma1, edgecolor=\"w\")\n",
    "plt_sigma1 = plt.title(\"LN(0,0.2) Linear Linear\")\n",
    "plt_sigma1 = plt.xlabel(\"Value\")\n",
    "plt_sigma1 = plt.ylabel(\"Count\")\n",
    "\n",
    "plt.subplot(2,3,2)\n",
    "plt_sigma2 = plt.hist(sample_sigma2, edgecolor=\"w\")\n",
    "plt_sigma2 = plt.title(\"LN(0,0.5) Linear Linear\")\n",
    "plt_sigma2 = plt.xlabel(\"Value\")\n",
    "plt_sigma2 = plt.ylabel(\"Count\")\n",
    "\n",
    "plt.subplot(2,3,3)\n",
    "plt_sigma3 = plt.hist(sample_sigma3, edgecolor=\"w\")\n",
    "plt_sigma3 = plt.title(\"LN(0,1.68) Linear Linear\")\n",
    "plt_sigma3 = plt.xlabel(\"Value\")\n",
    "plt_sigma3 = plt.ylabel(\"Count\")\n",
    "\n",
    "plt.subplot(2,3,4)\n",
    "plt_sigma1 = plt.hist(np.log10(sample_sigma1), edgecolor=\"w\")\n",
    "plt_sigma1 = plt.title(\"LN(0,0.2) Log Linear\")\n",
    "plt_sigma1 = plt.xlabel(\"log(Value)\")\n",
    "plt_sigma1 = plt.ylabel(\"Count\")\n",
    "\n",
    "plt.subplot(2,3,5)\n",
    "plt_sigma2 = plt.hist(np.log10(sample_sigma2), edgecolor=\"w\")\n",
    "plt_sigma2 = plt.title(\"LN(0,0.5) Log Linear\")\n",
    "plt_sigma2 = plt.xlabel(\"log(Value)\")\n",
    "plt_sigma2 = plt.ylabel(\"Count\")\n",
    "\n",
    "plt.subplot(2,3,6)\n",
    "plt_sigma3 = plt.hist(np.log10(sample_sigma3), edgecolor=\"w\")\n",
    "plt_sigma3 = plt.title(\"LN(0,1.68) Log Linear\")\n",
    "plt_sigma3 = plt.xlabel(\"log(Value)\")\n",
    "plt_sigma3 = plt.ylabel(\"Count\")"
   ]
  },
  {
   "cell_type": "markdown",
   "id": "29195536-834c-4a39-aa12-aaed9310a45a",
   "metadata": {},
   "source": [
    "The shapes of the linear linear histograms are typically skewed right, especially the LN(0,1.68) histogram, which all of the data are in one bin. However, the shapes of the log linear histograms all resemble the symmetrical shape, also especially the log linear of the LN(0,1.68) histogram."
   ]
  },
  {
   "cell_type": "markdown",
   "id": "2b1f8abe-f755-4d86-b0cf-07e3c6bab0ca",
   "metadata": {},
   "source": [
    "#### 2.3. Look at the histograms and tell-what do you think, which one describes the least unequal distribution, and which one the most unequal distribution?"
   ]
  },
  {
   "cell_type": "markdown",
   "id": "5e01089c-ec75-4546-b147-9fdcd1061794",
   "metadata": {},
   "source": [
    "The histogram with the least unequal distribution would be the log linear histogram of LN(0, 1.68). On the other hand, the most unequal distribution would be the linear linear histogram of LN(0, 1.68)."
   ]
  },
  {
   "cell_type": "markdown",
   "id": "baca9f09-f227-4f5f-89d8-4e33b5e3a90e",
   "metadata": {},
   "source": [
    "#### 2.4. Compute sample means and variance (just use np.mean and such functions), and compare those with what you get using the corresponding theoretical formulas (2) and (3). Are these similar?"
   ]
  },
  {
   "cell_type": "code",
   "execution_count": 15,
   "id": "50eaa897-d810-4113-a6d2-ddd6bafe0b29",
   "metadata": {},
   "outputs": [
    {
     "name": "stdout",
     "output_type": "stream",
     "text": [
      "Sample Mean (np.mean())\n",
      "Sigma 1: 1.02343699373861\n",
      "Sigma 2: 1.13554652624661\n",
      "Sigma 3: 4.2616854270708595\n",
      "\n",
      "\n",
      "Variance (np.var())\n",
      "Sigma 1: 0.04373302202710488\n",
      "Sigma 2: 0.3809895640920754\n",
      "Sigma 3: 278.92339296503246\n"
     ]
    }
   ],
   "source": [
    "smean_sigma1 = np.mean(sample_sigma1)\n",
    "smean_sigma2 = np.mean(sample_sigma2)\n",
    "smean_sigma3 = np.mean(sample_sigma3)\n",
    "print(\"Sample Mean (np.mean())\")\n",
    "print(\"Sigma 1: \" + str(smean_sigma1))\n",
    "print(\"Sigma 2: \" + str(smean_sigma2))\n",
    "print(\"Sigma 3: \" + str(smean_sigma3))\n",
    "print(\"\\n\")\n",
    "svar_sigma1 = np.var(sample_sigma1)\n",
    "svar_sigma2 = np.var(sample_sigma2)\n",
    "svar_sigma3 = np.var(sample_sigma3)\n",
    "print(\"Variance (np.var())\")\n",
    "print(\"Sigma 1: \" + str(svar_sigma1))\n",
    "print(\"Sigma 2: \" + str(svar_sigma2))\n",
    "print(\"Sigma 3: \" + str(svar_sigma3))"
   ]
  },
  {
   "cell_type": "markdown",
   "id": "0a329433-a9fb-4503-8bbd-3884a796dfe5",
   "metadata": {},
   "source": [
    "Using the formulas:\n",
    "Expected Values: $$EX = e^{u+\\frac{1}{2}o^2}$$\n",
    "Variance: $$VarX = e^{2u+o^2}(e^{o^2}-1)$$"
   ]
  },
  {
   "cell_type": "code",
   "execution_count": 16,
   "id": "d2d82621-b56d-4337-9c93-1aa553cd87b6",
   "metadata": {},
   "outputs": [
    {
     "name": "stdout",
     "output_type": "stream",
     "text": [
      "Theoretical Mean\n",
      "Sigma 1: 1.0202013400267558\n",
      "Sigma 2: 1.1331484530668263\n",
      "Sigma 3: 4.1008735008239405\n",
      "\n",
      "\n",
      "Theoretical Variance\n",
      "Sigma 1: -0.573144347182479\n",
      "Sigma 2: -0.5052246336163366\n",
      "Sigma 3: 16.377861022478598\n"
     ]
    }
   ],
   "source": [
    "ev_sigma1 = math.e**(mu + ((sigma_1**2)/2))\n",
    "ev_sigma2 = math.e**(mu + ((sigma_2**2)/2))\n",
    "ev_sigma3 = math.e**(mu + ((sigma_3**2)/2))\n",
    "print(\"Theoretical Mean\")\n",
    "print(\"Sigma 1: \" + str(ev_sigma1))\n",
    "print(\"Sigma 2: \" + str(ev_sigma2))\n",
    "print(\"Sigma 3: \" + str(ev_sigma3))\n",
    "print(\"\\n\")\n",
    "print(\"Theoretical Variance\")\n",
    "tv_sigma1 = (math.e**((2*mu) + (sigma_1**2))) * (math.e**(sigma_1-1**2) - 1)\n",
    "tv_sigma2 = (math.e**((2*mu) + (sigma_2**2))) * (math.e**(sigma_2-1**2) - 1)\n",
    "tv_sigma3 = (math.e**((2*mu) + (sigma_3**2))) * (math.e**(sigma_3-1**2) - 1)\n",
    "print(\"Sigma 1: \" + str(tv_sigma1))\n",
    "print(\"Sigma 2: \" + str(tv_sigma2))\n",
    "print(\"Sigma 3: \" + str(tv_sigma3))"
   ]
  },
  {
   "cell_type": "markdown",
   "id": "66b58c1e-b3ef-406d-aea8-7e67e2a0f9be",
   "metadata": {},
   "source": [
    "The sample mean and the theoretical mean are really closes, but the sample variance and the theoretical variance are really different, which is correct with the graph since LN(0, 1.68) is very inequal and also yields the most difference between theoretical variance and sample variance. While the LN(0, 0.2) and LN(0, 0.5) are about the same inequality which yields roughly the same difference of sample mean and theoretical mean."
   ]
  },
  {
   "cell_type": "markdown",
   "id": "7e06674e-0101-4080-841f-c535e4e975b2",
   "metadata": {},
   "source": [
    "#### 2.5. Compute the Pareto ratio of all three samples. (This is the same Pareto ratio you did in PS2 3.6, you can copy-paste code from there). Comment the results. Which distribution is the most unequal one? Which one the most equal one? Does this corresponds to what did you guessed based on the the histograms?"
   ]
  },
  {
   "cell_type": "code",
   "execution_count": 17,
   "id": "0afcb865-c19b-4604-b3db-de33351b5473",
   "metadata": {},
   "outputs": [],
   "source": [
    "def pareto(data):\n",
    "    total = np.sum(data)\n",
    "    threshold = np.percentile(data, 80)\n",
    "    top20 = np.sum(data[data > threshold])\n",
    "    share = top20/total\n",
    "    return share/(1-share)"
   ]
  },
  {
   "cell_type": "code",
   "execution_count": 18,
   "id": "ba527b07-d1fe-41b9-872c-df65ad617bfe",
   "metadata": {},
   "outputs": [
    {
     "name": "stdout",
     "output_type": "stream",
     "text": [
      "Sigma 1: 0.3537064363021543\n",
      "Sigma 2: 0.5846073541637251\n",
      "Sigma 3: 4.144219675522543\n"
     ]
    }
   ],
   "source": [
    "pareto_sigma1 = pareto(sample_sigma1)\n",
    "pareto_sigma2 = pareto(sample_sigma2)\n",
    "pareto_sigma3 = pareto(sample_sigma3)\n",
    "print(\"Sigma 1: \" + str(pareto_sigma1))\n",
    "print(\"Sigma 2: \" + str(pareto_sigma2))\n",
    "print(\"Sigma 3: \" + str(pareto_sigma3))"
   ]
  },
  {
   "cell_type": "markdown",
   "id": "398fa29c-e16b-4155-8b74-cfab6a29eea3",
   "metadata": {},
   "source": [
    "The most unequal distribution is the LN(0, 1.68) because it as a Pareto of 3.96 which is close to the 80/20 rule. While the other two has a pareto ration of less than 1. This corresponds to what we guessed from the histogram since the LN(0, 1.68) linear linear histogram is extremely right skewed."
   ]
  },
  {
   "cell_type": "markdown",
   "id": "dbe4ea0f-4041-49e1-b08e-8b3043c70bff",
   "metadata": {},
   "source": [
    "## 3. Inequality In Data"
   ]
  },
  {
   "cell_type": "markdown",
   "id": "32686e00-36c2-4a06-a246-6851689ec704",
   "metadata": {},
   "source": [
    "#### 3.1. Load both datasets and do basic checks—do the values of interest (number of citations and income) look reasonable?"
   ]
  },
  {
   "cell_type": "code",
   "execution_count": 19,
   "id": "d6860af0-bde7-4830-97cb-f919e7e02139",
   "metadata": {},
   "outputs": [
    {
     "name": "stdout",
     "output_type": "stream",
     "text": [
      "1564    23269.80\n",
      "200      1152.63\n",
      "1048    39817.30\n",
      "1362    26599.10\n",
      "854         0.00\n",
      "2401    14777.30\n",
      "434     25860.20\n",
      "10          0.00\n",
      "1968        0.00\n",
      "2076    36943.20\n",
      "Name: re78, dtype: float64\n",
      "22052     12\n",
      "26787      0\n",
      "2465       1\n",
      "25232     51\n",
      "18205     37\n",
      "17013    129\n",
      "29399      0\n",
      "20560      0\n",
      "21171      2\n",
      "6418       1\n",
      "Name: citations, dtype: int64\n"
     ]
    }
   ],
   "source": [
    "treatment = pd.read_csv('treatment.csv.bz2', sep=\"\\t\")\n",
    "income = treatment.re78\n",
    "print(income.sample(10))\n",
    "mag = pd.read_csv('mag-30k-citations.csv.bz2', sep=\"\\t\")\n",
    "citations = mag.citations\n",
    "print(citations.sample(10))"
   ]
  },
  {
   "cell_type": "markdown",
   "id": "ccfceb5b-e718-4693-9983-991e9750907d",
   "metadata": {},
   "source": [
    "The values look fine and reasonable"
   ]
  },
  {
   "cell_type": "markdown",
   "id": "6545fc2b-62dd-4c0a-b308-1a059417ae9f",
   "metadata": {},
   "source": [
    "#### 3.2. Show the distribution of income and citations on a histogram. As the histogram may not look good, do it in two ways: a) histogram of income/citations and b) histogram of log income/citations. In order to avoid issues with log of zero you can do log(1 + income) instead of log income."
   ]
  },
  {
   "cell_type": "code",
   "execution_count": 20,
   "id": "30ef2179-14a3-4262-83db-5c0d2d964814",
   "metadata": {},
   "outputs": [
    {
     "data": {
      "text/plain": [
       "Text(0, 0.5, 'Count')"
      ]
     },
     "execution_count": 20,
     "metadata": {},
     "output_type": "execute_result"
    },
    {
     "data": {
      "image/png": "[encoded data removed]",
      "text/plain": [
       "<Figure size 1224x720 with 4 Axes>"
      ]
     },
     "metadata": {
      "needs_background": "light"
     },
     "output_type": "display_data"
    }
   ],
   "source": [
    "plt.rcParams[\"figure.figsize\"] = [17,10]\n",
    "\n",
    "plt.subplot(2,2,1)\n",
    "plt.hist(income, edgecolor=\"w\")\n",
    "plt.title(\"Income Linear Linear\")\n",
    "plt.xlabel(\"Dollars\")\n",
    "plt.ylabel(\"Count\")\n",
    "\n",
    "plt.subplot(2,2,2)\n",
    "plt.hist(citations, edgecolor=\"w\")\n",
    "plt.title(\"Citations Linear Linear\")\n",
    "plt.xlabel(\"Number of Citations\")\n",
    "plt.ylabel(\"Count\")\n",
    "\n",
    "plt.subplot(2,2,3)\n",
    "plt.hist(np.log10(np.add(income, 1)), edgecolor=\"w\")\n",
    "plt.title(\"Income Log Linear\")\n",
    "plt.xlabel(\"log(Dollars + 1)\")\n",
    "plt.ylabel(\"Count\")\n",
    "\n",
    "plt.subplot(2,2,4)\n",
    "plt_sigma1 = plt.hist(np.log10(np.add(citations, 1)), edgecolor=\"w\")\n",
    "plt_sigma1 = plt.title(\"Citations Log Linear\")\n",
    "plt.xlabel(\"log(Number of Citations + 1)\")\n",
    "plt.ylabel(\"Count\")"
   ]
  },
  {
   "cell_type": "markdown",
   "id": "87b5f168-a785-4a0f-9d1e-0d5106f9c50c",
   "metadata": {},
   "source": [
    "#### 3.3. Compute sample mean and standard deviation for both datasets. Compare these: how much smaller (or larger) is std. dev compared to the mean?"
   ]
  },
  {
   "cell_type": "code",
   "execution_count": 21,
   "id": "b7794a97-878a-4e32-80ea-b0fc717fb033",
   "metadata": {},
   "outputs": [
    {
     "name": "stdout",
     "output_type": "stream",
     "text": [
      "Sample Mean (np.mean())\n",
      "Income: 20502.37607865417\n",
      "Citation: 15.605633333333333\n",
      "\n",
      "\n",
      "Standard Deviation (np.std())\n",
      "Income: 15629.597534767552\n",
      "Citation: 79.1767834759606\n",
      "\n",
      "\n",
      "Ratio Mean:Standard Deviation\n",
      "Income: 1.311766092060098\n",
      "Citations: 0.19709860199197743\n"
     ]
    }
   ],
   "source": [
    "income_mean = np.mean(income)\n",
    "citations_mean = np.mean(citations)\n",
    "print(\"Sample Mean (np.mean())\")\n",
    "print(\"Income: \" + str(income_mean))\n",
    "print(\"Citation: \" + str(citations_mean))\n",
    "print(\"\\n\")\n",
    "income_standev = np.std(income)\n",
    "citations_standev = np.std(citations)\n",
    "print(\"Standard Deviation (np.std())\")\n",
    "print(\"Income: \" + str(income_standev))\n",
    "print(\"Citation: \" + str(citations_standev))\n",
    "print(\"\\n\")\n",
    "print(\"Ratio Mean:Standard Deviation\")\n",
    "print(\"Income: \" + str(income_mean/income_standev))\n",
    "print(\"Citations: \" + str(citations_mean/citations_standev))"
   ]
  },
  {
   "cell_type": "markdown",
   "id": "fcc8985d-3fad-4d0f-b7d2-bda2d3104f1c",
   "metadata": {},
   "source": [
    "For income, the mean is 1.31 times larger than the standard deviation, while for the citation, the mean is 0.19 times larger than standard deviation, which means its smaller than standard deviation by 5.07 times. This means the citations has less variability of distribution compared to income distribution."
   ]
  },
  {
   "cell_type": "markdown",
   "id": "bf905b7f-b80b-4e1d-852b-f2e4c56e04ab",
   "metadata": {},
   "source": [
    "#### 3.4. Compute the Pareto ratio for both distributions."
   ]
  },
  {
   "cell_type": "code",
   "execution_count": 22,
   "id": "d603ff67-493d-4cbd-b653-b38ddc397f46",
   "metadata": {},
   "outputs": [
    {
     "name": "stdout",
     "output_type": "stream",
     "text": [
      "Income: 0.6810398132391002\n",
      "Citations: 6.15668709968357\n"
     ]
    }
   ],
   "source": [
    "pareto_income = pareto(income)\n",
    "pareto_citations = pareto(citations)\n",
    "print(\"Income: \"+ str(pareto_income))\n",
    "print(\"Citations: \" + str(pareto_citations))"
   ]
  },
  {
   "cell_type": "markdown",
   "id": "10bfdf24-fa39-4c4d-853b-701d15efb852",
   "metadata": {},
   "source": [
    "The pareto value of the income is 0.681, which is low, below the 80/20 rule and the pareto value of the citations is 6, which is pretty high, over the 80/20 rule."
   ]
  },
  {
   "cell_type": "markdown",
   "id": "547e712a-397e-4be1-b0ef-81a07108c4e9",
   "metadata": {},
   "source": [
    "## 4. Variance Of Mean"
   ]
  },
  {
   "cell_type": "markdown",
   "id": "2d95b30a-f07d-49ab-80ec-a12e58542284",
   "metadata": {},
   "source": [
    "#### 4.1. Pick your number of repetitions R (1000...100,000 are good numbers)."
   ]
  },
  {
   "cell_type": "code",
   "execution_count": 23,
   "id": "c9fb0cdf-3a8d-42a4-a04b-49d654f9b3dd",
   "metadata": {},
   "outputs": [],
   "source": [
    "R = 10000"
   ]
  },
  {
   "cell_type": "markdown",
   "id": "f7330b7a-1e0f-4554-ae3e-84ad33a12c63",
   "metadata": {},
   "source": [
    "#### 4.2. Now do R times in a loop: create a single realization of this RV. Store all these in a vector (list or np array). You should have a vector of R realizations."
   ]
  },
  {
   "cell_type": "code",
   "execution_count": 24,
   "id": "b603b794-cab7-44f2-92fa-63ff8f006911",
   "metadata": {},
   "outputs": [],
   "source": [
    "sample_single = []\n",
    "for i in range(10000):\n",
    "    sample_single.append(np.random.binomial(3, 0.6, size=1))"
   ]
  },
  {
   "cell_type": "markdown",
   "id": "b63c97a9-6f6a-4c3f-9f0b-7970a52ebbfb",
   "metadata": {},
   "source": [
    "#### 4.3. Compute variance of your sample."
   ]
  },
  {
   "cell_type": "code",
   "execution_count": 25,
   "id": "1a119406-e61e-431d-b13f-6e3b5c2677ec",
   "metadata": {},
   "outputs": [
    {
     "name": "stdout",
     "output_type": "stream",
     "text": [
      "Variance (Single Realization): 0.72038751\n"
     ]
    }
   ],
   "source": [
    "single_var = np.var(sample_single)\n",
    "print(\"Variance (Single Realization): \" + str(single_var))"
   ]
  },
  {
   "cell_type": "markdown",
   "id": "068c87a7-34c3-4472-a208-708e3716082a",
   "metadata": {},
   "source": [
    "#### 4.4. Now do a loop of R again, but this time create a pair of realizations (S = 2). Compute the pair mean, and store it in a vector. You should have R pair means."
   ]
  },
  {
   "cell_type": "code",
   "execution_count": 26,
   "id": "bbe59cb4-73fc-4231-b3fb-f5182dc748d6",
   "metadata": {},
   "outputs": [],
   "source": [
    "sample_pair = []\n",
    "mean_pair = []\n",
    "for i in range(10000):\n",
    "    pair = np.random.binomial(3, 0.6, size=2)\n",
    "    sample_pair.append(pair)\n",
    "    mean_pair.append(np.mean(pair))"
   ]
  },
  {
   "cell_type": "markdown",
   "id": "014d065f-6ba9-4bcb-8b50-2c8b22f88d1d",
   "metadata": {},
   "source": [
    "#### 4.5. Compute variance of your pair means."
   ]
  },
  {
   "cell_type": "code",
   "execution_count": 27,
   "id": "78bcdb1d-5b53-425e-ab67-fa270a9e4944",
   "metadata": {},
   "outputs": [
    {
     "name": "stdout",
     "output_type": "stream",
     "text": [
      "Variance (Pair Realization): 0.36115259750000006\n"
     ]
    }
   ],
   "source": [
    "pair_var = np.var(mean_pair)\n",
    "print(\"Variance (Pair Realization): \" + str(pair_var))"
   ]
  },
  {
   "cell_type": "markdown",
   "id": "499eff74-4a72-4c09-89c8-9b20b1cbf64d",
   "metadata": {},
   "source": [
    "#### 4.6. Repeat with S = 10-tuples (each time create 10 realizations in the loop and compute mean) and with S = 100-tuples. In both cases compute variance."
   ]
  },
  {
   "cell_type": "code",
   "execution_count": 28,
   "id": "573dcf4b-5a7d-443d-9a41-7704912ce2ec",
   "metadata": {},
   "outputs": [
    {
     "name": "stdout",
     "output_type": "stream",
     "text": [
      "Variance (10 Realization): 0.0705219431\n",
      "Variance (100 Realization): 0.007346659478999999\n"
     ]
    }
   ],
   "source": [
    "sample_10 = []\n",
    "sample_100 = []\n",
    "mean_10 = []\n",
    "mean_100 = []\n",
    "for i in range(10000):\n",
    "    realization10 = np.random.binomial(3, 0.6, size=10)\n",
    "    realization100 = np.random.binomial(3, 0.6, size=100)\n",
    "    sample_10.append(realization10)\n",
    "    sample_100.append(realization100)\n",
    "    mean_10.append(np.mean(realization10))\n",
    "    mean_100.append(np.mean(realization100))\n",
    "    \n",
    "var_10 = np.var(mean_10)\n",
    "var_100 = np.var(mean_100)\n",
    "print(\"Variance (10 Realization): \" + str(var_10))\n",
    "print(\"Variance (100 Realization): \" + str(var_100))"
   ]
  },
  {
   "cell_type": "markdown",
   "id": "45277bfa-f15b-4af0-a680-a2f5736a43e3",
   "metadata": {},
   "source": [
    "#### 4.7. Explain why variance of mean gets smaller when sample size S gets larger."
   ]
  },
  {
   "cell_type": "markdown",
   "id": "96fa0c30-9b4a-49bd-a948-9afa8cc20c0f",
   "metadata": {},
   "source": [
    "Variance of mean gets smaller when sample size gets larger is because a larger amount of data yields a more accurate result for example, when only doing single realization or double realizations, we can only get one or two possible results out of the 4 possible results (Successes: 0, 1, 2, 3), but if we increase the sample size to 10, or 100, we will have a higher chance that our data will cover all 4 possible results, which reduces the uncertainty, hence variance of mean gets smaller."
   ]
  }
 ],
 "metadata": {
  "kernelspec": {
   "display_name": "Python 3 (ipykernel)",
   "language": "python",
   "name": "python3"
  },
  "language_info": {
   "codemirror_mode": {
    "name": "ipython",
    "version": 3
   },
   "file_extension": ".py",
   "mimetype": "text/x-python",
   "name": "python",
   "nbconvert_exporter": "python",
   "pygments_lexer": "ipython3",
   "version": "3.9.7"
  }
 },
 "nbformat": 4,
 "nbformat_minor": 5
}
