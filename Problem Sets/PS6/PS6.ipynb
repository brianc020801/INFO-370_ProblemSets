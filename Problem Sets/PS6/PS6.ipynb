{
 "cells": [
  {
   "cell_type": "code",
   "execution_count": 1,
   "id": "5072db67-4729-4e9a-9e5e-e6e1bf462b01",
   "metadata": {},
   "outputs": [],
   "source": [
    "import numpy as np\n",
    "import pandas as pd\n",
    "import statsmodels.formula.api as smf\n",
    "import matplotlib.pyplot as plt"
   ]
  },
  {
   "cell_type": "markdown",
   "id": "5b9807ba-2558-4c91-a3d6-79c605021fa7",
   "metadata": {},
   "source": [
    "## 1. Who Will Win The Elections?"
   ]
  },
  {
   "cell_type": "markdown",
   "id": "c7e4ced0-9b72-49b4-9d91-5f74193eb7ce",
   "metadata": {},
   "source": [
    "### 1.1. Load and check"
   ]
  },
  {
   "cell_type": "markdown",
   "id": "0a7b4d60-5977-40ca-93e4-07c7efbdb14b",
   "metadata": {},
   "source": [
    "#### 1.1.1. Load data, and do the basic checks"
   ]
  },
  {
   "cell_type": "code",
   "execution_count": 2,
   "id": "4a35604e-b88e-44ad-801c-f2cafefd378f",
   "metadata": {},
   "outputs": [
    {
     "name": "stdout",
     "output_type": "stream",
     "text": [
      "Rows, Columns: (37390, 24)\n",
      "\n",
      "Number of NaN values in each column\n",
      "FIPS                 0\n",
      "year                 0\n",
      "state                0\n",
      "state2               0\n",
      "county               0\n",
      "office               0\n",
      "candidate            0\n",
      "party                0\n",
      "candidatevotes       4\n",
      "totalvotes           0\n",
      "income            6762\n",
      "population        6762\n",
      "LND010200D           0\n",
      "EDU695209D           0\n",
      "EDU600209D           0\n",
      "POP010210D           0\n",
      "POP220210D           0\n",
      "POP250210D           0\n",
      "POP320210D           0\n",
      "POP400210D           0\n",
      "PST110209D           0\n",
      "BIRTHS2020          20\n",
      "DEATHS2020          20\n",
      "region               0\n",
      "dtype: int64\n",
      "\n",
      "Sample\n",
      "        FIPS  year      state state2        county     office     candidate  \\\n",
      "25166  39163  2000       Ohio     OH        Vinton  President       Al Gore   \n",
      "13287  22043  2020  Louisiana     LA  Grant Parish  President  Joshep Biden   \n",
      "25237  39173  2020       Ohio     OH   Wood County  President  Joshep Biden   \n",
      "\n",
      "          party  candidatevotes  totalvotes  ...  EDU600209D  POP010210D  \\\n",
      "25166  democrat          2037.0        4946  ...        8884       13435   \n",
      "13287  democrat          1157.0        9392  ...       13433       22309   \n",
      "25237  democrat         30617.0       67597  ...       73013      125488   \n",
      "\n",
      "       POP220210D  POP250210D  POP320210D  POP400210D  PST110209D  BIRTHS2020  \\\n",
      "25166       13157          39          23          71         425        30.0   \n",
      "13287       18149        3470          59         931        1468        52.0   \n",
      "25237      116422        3022        1943        5663        4318       299.0   \n",
      "\n",
      "       DEATHS2020   region  \n",
      "25166        47.0  midwest  \n",
      "13287        57.0    south  \n",
      "25237       342.0  midwest  \n",
      "\n",
      "[3 rows x 24 columns]\n"
     ]
    }
   ],
   "source": [
    "election = pd.read_csv('us-elections_2000-2020.csv.bz2', sep=\"\\t\")\n",
    "print(f\"Rows, Columns: {election.shape}\\n\")\n",
    "print(\"Number of NaN values in each column\")\n",
    "print(election.isna().sum())\n",
    "print(\"\\nSample\")\n",
    "print(election.sample(3))"
   ]
  },
  {
   "cell_type": "markdown",
   "id": "2faeb114-9dbe-4d56-83fd-35fc956c32eb",
   "metadata": {},
   "source": [
    "Data looks fine, just a few columns with missing values, specifically income and population, both with 6762 missing values."
   ]
  },
  {
   "cell_type": "markdown",
   "id": "1ced4ac2-2239-4a41-9cb6-28505e5cab0d",
   "metadata": {},
   "source": [
    "### 1.2 Fill missings"
   ]
  },
  {
   "cell_type": "markdown",
   "id": "055d8a61-411a-4654-adbf-45c3127f157e",
   "metadata": {},
   "source": [
    "#### 1.2.1. print the rows of the data frame from index 6264 to 6271 (i.e. these index values of the data frame). For simplicity, you may only include variables fips, county, year and income."
   ]
  },
  {
   "cell_type": "code",
   "execution_count": 3,
   "id": "36480e7e-5507-4af1-b292-bc11219a1d84",
   "metadata": {},
   "outputs": [
    {
     "name": "stdout",
     "output_type": "stream",
     "text": [
      "       FIPS        county  year   income\n",
      "6264  15007         Kauai  2016  44958.0\n",
      "6265  15007         Kauai  2016  44958.0\n",
      "6266  15007  Kauai County  2020      NaN\n",
      "6267  15007  Kauai County  2020      NaN\n",
      "6268  15009          Maui  2000      NaN\n",
      "6269  15009          Maui  2000      NaN\n",
      "6270  15009          Maui  2004      NaN\n",
      "6271  15009          Maui  2004      NaN\n"
     ]
    }
   ],
   "source": [
    "ele_short = election[[\"FIPS\", \"county\", \"year\", \"income\"]].copy()\n",
    "rg = np.arange(6264,6272)\n",
    "print(ele_short.loc[rg])"
   ]
  },
  {
   "cell_type": "markdown",
   "id": "18aa0d4a-8180-4082-88ce-7335924dc98c",
   "metadata": {},
   "source": [
    "#### 1.2.2.a. Which values do you expect to see instead of NA-s in lines 6266, 6267, 6268 and 6269?"
   ]
  },
  {
   "cell_type": "markdown",
   "id": "343dfa49-5631-4daf-8195-1d6c5527bde5",
   "metadata": {},
   "source": [
    "I would expect to see the incomes of those counties at those years, but since those values are missing, I would expect to see the most recent values for the FIPS code."
   ]
  },
  {
   "cell_type": "markdown",
   "id": "bac581a1-7092-4546-8977-ed7962ad9df6",
   "metadata": {},
   "source": [
    "#### 1.2.2.b. How is it related to the non-missing income, county and fips values?"
   ]
  },
  {
   "cell_type": "markdown",
   "id": "5625396f-ebf3-4f36-8130-2db6b68385b1",
   "metadata": {},
   "source": [
    "Depending on whether or not the income rose or rise during those years, rows with the same FIPS values should have relatively similar/close income values."
   ]
  },
  {
   "cell_type": "markdown",
   "id": "1531392e-2100-49f0-bb77-6fc34af9bdb2",
   "metadata": {},
   "source": [
    "#### 1.2.2.c. What method would you use to fill in the missings (what computer code and variables)?"
   ]
  },
  {
   "cell_type": "markdown",
   "id": "b9b998bf-13a5-466c-8899-306c113b1475",
   "metadata": {},
   "source": [
    "I would first sort the values by year(sort_values(\"year\")), then group using the FIPS code (groupby(\"FIPS\")), then forward fill the na values(fillna(method = \"ffill\"))"
   ]
  },
  {
   "cell_type": "markdown",
   "id": "b5dc3ea7-383f-468b-99b3-53ee7a85f504",
   "metadata": {},
   "source": [
    "#### 1.2.3. Fill the missings in all columns you need (not only in income) with the most recent values that exist in the data. Ensure you do not fill missings with values from other counties."
   ]
  },
  {
   "cell_type": "code",
   "execution_count": 4,
   "id": "eb560258-eed2-4c2a-8df8-50bb38650b0e",
   "metadata": {},
   "outputs": [
    {
     "name": "stdout",
     "output_type": "stream",
     "text": [
      "Number of NaN values in each column\n",
      "FIPS                0\n",
      "year                0\n",
      "state               0\n",
      "state2              0\n",
      "county              0\n",
      "office              0\n",
      "candidate           0\n",
      "party               0\n",
      "candidatevotes      2\n",
      "totalvotes          0\n",
      "income            644\n",
      "population        644\n",
      "LND010200D          0\n",
      "EDU695209D          0\n",
      "EDU600209D          0\n",
      "POP010210D          0\n",
      "POP220210D          0\n",
      "POP250210D          0\n",
      "POP320210D          0\n",
      "POP400210D          0\n",
      "PST110209D          0\n",
      "BIRTHS2020         20\n",
      "DEATHS2020         20\n",
      "region              0\n",
      "dtype: int64\n"
     ]
    }
   ],
   "source": [
    "election[\"FIPS2\"] = election[\"FIPS\"]\n",
    "election_filled = election.sort_values(\"year\").groupby(\"FIPS2\").fillna(method=\"ffill\")\n",
    "print(\"Number of NaN values in each column\")\n",
    "print(election_filled.isna().sum())"
   ]
  },
  {
   "cell_type": "markdown",
   "id": "63f1ab87-bc9f-42b3-a9ca-4f4514c065a5",
   "metadata": {},
   "source": [
    "#### 1.2.4.Print out the same lines you did above in 1.1. Does it look what you expected? Pay close attention to the relationship between the FIPS code and the counties."
   ]
  },
  {
   "cell_type": "code",
   "execution_count": 5,
   "id": "ff8d841d-b43b-4f79-a60a-9729e09c1c74",
   "metadata": {},
   "outputs": [
    {
     "name": "stdout",
     "output_type": "stream",
     "text": [
      "       FIPS        county  year   income\n",
      "6264  15007         Kauai  2016  44958.0\n",
      "6265  15007         Kauai  2016  44958.0\n",
      "6266  15007  Kauai County  2020  44958.0\n",
      "6267  15007  Kauai County  2020  44958.0\n",
      "6268  15009          Maui  2000      NaN\n",
      "6269  15009          Maui  2000      NaN\n",
      "6270  15009          Maui  2004      NaN\n",
      "6271  15009          Maui  2004      NaN\n"
     ]
    }
   ],
   "source": [
    "ele_short = election_filled[[\"FIPS\", \"county\", \"year\", \"income\"]].copy()\n",
    "rg = np.arange(6264,6272)\n",
    "print(ele_short.loc[rg])"
   ]
  },
  {
   "cell_type": "markdown",
   "id": "ad3d2439-466c-4dca-8a1b-45c4247d370f",
   "metadata": {},
   "source": [
    "Kauai with FIPS code of 15007 was what I expected, they used the most recent year from 2020 (year 2016) to fill the NaN values. What I didn't expect was Maui to not be filled, but after filtering the income for Maui, I realized that all rows of Maui are NaN values."
   ]
  },
  {
   "cell_type": "markdown",
   "id": "b63ec87c-35b2-4bc4-85b0-20053f35e208",
   "metadata": {},
   "source": [
    "### 1.3. Feature Engineering"
   ]
  },
  {
   "cell_type": "markdown",
   "id": "0409135a-de7b-41df-aee3-da915f9cbc88",
   "metadata": {},
   "source": [
    "#### 1.3.1. Make a new data frame that only contains 2020 data, and that contains a binary variable: whether or not democrats won in that county in 2020."
   ]
  },
  {
   "cell_type": "code",
   "execution_count": 6,
   "id": "be1a7a9a-7a4f-4737-949a-1179ff7914f5",
   "metadata": {},
   "outputs": [
    {
     "name": "stdout",
     "output_type": "stream",
     "text": [
      "       FIPS  d_win\n",
      "0      1001      0\n",
      "1      1003      0\n",
      "2      1005      0\n",
      "3      1007      0\n",
      "4      1009      0\n",
      "...     ...    ...\n",
      "3106  56037      0\n",
      "3107  56039      1\n",
      "3108  56041      0\n",
      "3109  56043      0\n",
      "3110  56045      0\n",
      "\n",
      "[3111 rows x 2 columns]\n",
      "       FIPS           county       party  candidatevotes  totalvotes  d_win\n",
      "0      1001   Autauga County  republican         19838.0       27770      0\n",
      "1      1001   Autauga County    democrat          7503.0       27770      0\n",
      "2      1003   Baldwin County    democrat         24578.0      109679      0\n",
      "3      1003   Baldwin County  republican         83544.0      109679      0\n",
      "4      1005   Barbour County    democrat          4816.0       10518      0\n",
      "...     ...              ...         ...             ...         ...    ...\n",
      "6217  56041     Uinta County  republican          7496.0        9402      0\n",
      "6218  56043  Washakie County  republican          3245.0        4012      0\n",
      "6219  56043  Washakie County    democrat           651.0        4012      0\n",
      "6220  56045    Weston County  republican          3107.0        3542      0\n",
      "6221  56045    Weston County    democrat           360.0        3542      0\n",
      "\n",
      "[6222 rows x 6 columns]\n"
     ]
    }
   ],
   "source": [
    "election_2020 = election_filled[election_filled.year == 2020].sort_values(\"FIPS\").reset_index()\n",
    "elec_2020_d = election_2020[election_2020.party == \"democrat\"].sort_values(\"FIPS\").reset_index()\n",
    "elec_2020_r = election_2020[election_2020.party == \"republican\"].sort_values(\"FIPS\").reset_index()\n",
    "FIPS = np.sort(pd.unique(election_2020.FIPS))\n",
    "demo_win = np.where(elec_2020_d.candidatevotes > elec_2020_r.candidatevotes, 1, 0)\n",
    "fips_win = pd.DataFrame({\"FIPS\": FIPS, \"d_win\": demo_win})\n",
    "election_2020 = election_2020.merge(fips_win, left_on=\"FIPS\", right_on=\"FIPS\").copy().reset_index()\n",
    "print(fips_win)\n",
    "print(election_2020[[\"FIPS\", \"county\", \"party\", \"candidatevotes\", \"totalvotes\", \"d_win\"]])"
   ]
  },
  {
   "cell_type": "markdown",
   "id": "271ab6e2-90aa-45f0-a396-fd465a79ecc7",
   "metadata": {},
   "source": [
    "#### 1.3.2. Create auxiliary variables: population density (population divided by land area); and percentage of college graduates."
   ]
  },
  {
   "cell_type": "code",
   "execution_count": 7,
   "id": "2b7f8c21-ddc9-471c-b808-c9bb11de6030",
   "metadata": {},
   "outputs": [],
   "source": [
    "election_2020[\"popden\"] = (election_2020.population/1000)/election_2020.LND010200D\n",
    "election_2020[\"pergrad\"] = election_2020.EDU695209D/election_2020.population * 100"
   ]
  },
  {
   "cell_type": "markdown",
   "id": "097ebff3-dbcf-4f5e-b978-71bc26b18da8",
   "metadata": {},
   "source": [
    "#### 1.3.3. Are countries with younger population more or less democratic? Compute (estimate) yearly birth rate and death rate. This is normally done as as the number of births/deaths per 1000 people per year, please do the same!"
   ]
  },
  {
   "cell_type": "code",
   "execution_count": 8,
   "id": "a7f79eba-114d-4103-a230-db9a67ba441e",
   "metadata": {},
   "outputs": [
    {
     "name": "stdout",
     "output_type": "stream",
     "text": [
      "Number of NaN values in each column\n",
      "level_0             0\n",
      "index               0\n",
      "FIPS                0\n",
      "year                0\n",
      "state               0\n",
      "state2              0\n",
      "county              0\n",
      "office              0\n",
      "candidate           0\n",
      "party               0\n",
      "candidatevotes      0\n",
      "totalvotes          0\n",
      "income            104\n",
      "population        104\n",
      "LND010200D          0\n",
      "EDU695209D          0\n",
      "EDU600209D          0\n",
      "POP010210D          0\n",
      "POP220210D          0\n",
      "POP250210D          0\n",
      "POP320210D          0\n",
      "POP400210D          0\n",
      "PST110209D          0\n",
      "BIRTHS2020          0\n",
      "DEATHS2020          0\n",
      "region              0\n",
      "d_win               0\n",
      "popden            104\n",
      "pergrad           104\n",
      "birthRate           0\n",
      "deathRate           0\n",
      "per_older         104\n",
      "dtype: int64\n"
     ]
    }
   ],
   "source": [
    "election_2020[\"birthRate\"] = election_2020.BIRTHS2020/1000 * 4\n",
    "election_2020[\"deathRate\"] = election_2020.DEATHS2020/1000 * 4\n",
    "election_2020[\"per_older\"] = election_2020.EDU600209D/election_2020.population\n",
    "print(\"Number of NaN values in each column\")\n",
    "print(election_2020.isna().sum())\n",
    "top10 = election_2020.nsmallest(10, 'per_older')"
   ]
  },
  {
   "cell_type": "markdown",
   "id": "dec1297f-e63c-490e-a662-dfc4cb22b986",
   "metadata": {},
   "source": [
    "Of the top 10 smallest percentages of persons 25 and over, there are only 2 counties where the Democrats won, hence counties with younger population are less democratic"
   ]
  },
  {
   "cell_type": "markdown",
   "id": "a0a26e00-4829-40cf-96b9-219c01067027",
   "metadata": {},
   "source": [
    "#### 1.3.4. Ensure that the variables you are going to use are in a reasonable range!"
   ]
  },
  {
   "cell_type": "code",
   "execution_count": 9,
   "id": "ec8b8620-3e02-46e4-95bd-b077bf2e4efe",
   "metadata": {},
   "outputs": [
    {
     "name": "stdout",
     "output_type": "stream",
     "text": [
      "birthRate        0.000000\n",
      "deathRate        0.000000\n",
      "popden           0.000173\n",
      "pergrad          0.000000\n",
      "income       18183.000000\n",
      "dtype: float64\n",
      "birthRate        96.708000\n",
      "deathRate        83.128000\n",
      "popden           48.428872\n",
      "pergrad          26.305673\n",
      "income       205843.000000\n",
      "dtype: float64\n"
     ]
    }
   ],
   "source": [
    "election_2020 = election_2020.replace([np.inf, -np.inf], np.nan).dropna(axis=0)\n",
    "print(election_2020[[\"birthRate\", \"deathRate\", \"popden\", \"pergrad\", \"income\"]].min())\n",
    "print(election_2020[[\"birthRate\", \"deathRate\", \"popden\", \"pergrad\", \"income\"]].max())"
   ]
  },
  {
   "cell_type": "markdown",
   "id": "3b9856fc-a1ad-4b05-adad-9f4b75d4439a",
   "metadata": {},
   "source": [
    "### 1.4. Model"
   ]
  },
  {
   "cell_type": "markdown",
   "id": "e0ea231d-fa47-4ab0-aeeb-8ddc108c5337",
   "metadata": {},
   "source": [
    "#### 1.4.1. Estimate logistic regression model where you explain democrats’ winning with population density, education level, income, birth rate, death rate, and census region."
   ]
  },
  {
   "cell_type": "code",
   "execution_count": 10,
   "id": "de5d670c-c570-4ad0-8fd6-ba652de14c58",
   "metadata": {},
   "outputs": [
    {
     "data": {
      "text/html": [
       "<table class=\"simpletable\">\n",
       "<caption>OLS Regression Results</caption>\n",
       "<tr>\n",
       "  <th>Dep. Variable:</th>          <td>d_win</td>      <th>  R-squared:         </th> <td>   0.306</td>\n",
       "</tr>\n",
       "<tr>\n",
       "  <th>Model:</th>                   <td>OLS</td>       <th>  Adj. R-squared:    </th> <td>   0.305</td>\n",
       "</tr>\n",
       "<tr>\n",
       "  <th>Method:</th>             <td>Least Squares</td>  <th>  F-statistic:       </th> <td>   337.0</td>\n",
       "</tr>\n",
       "<tr>\n",
       "  <th>Date:</th>             <td>Mon, 22 May 2023</td> <th>  Prob (F-statistic):</th>  <td>  0.00</td> \n",
       "</tr>\n",
       "<tr>\n",
       "  <th>Time:</th>                 <td>09:33:28</td>     <th>  Log-Likelihood:    </th> <td> -1524.9</td>\n",
       "</tr>\n",
       "<tr>\n",
       "  <th>No. Observations:</th>      <td>  6116</td>      <th>  AIC:               </th> <td>   3068.</td>\n",
       "</tr>\n",
       "<tr>\n",
       "  <th>Df Residuals:</th>          <td>  6107</td>      <th>  BIC:               </th> <td>   3128.</td>\n",
       "</tr>\n",
       "<tr>\n",
       "  <th>Df Model:</th>              <td>     8</td>      <th>                     </th>     <td> </td>   \n",
       "</tr>\n",
       "<tr>\n",
       "  <th>Covariance Type:</th>      <td>nonrobust</td>    <th>                     </th>     <td> </td>   \n",
       "</tr>\n",
       "</table>\n",
       "<table class=\"simpletable\">\n",
       "<tr>\n",
       "           <td></td>              <th>coef</th>     <th>std err</th>      <th>t</th>      <th>P>|t|</th>  <th>[0.025</th>    <th>0.975]</th>  \n",
       "</tr>\n",
       "<tr>\n",
       "  <th>Intercept</th>           <td>   -0.1058</td> <td>    0.018</td> <td>   -5.885</td> <td> 0.000</td> <td>   -0.141</td> <td>   -0.071</td>\n",
       "</tr>\n",
       "<tr>\n",
       "  <th>region[T.northeast]</th> <td>    0.1372</td> <td>    0.018</td> <td>    7.750</td> <td> 0.000</td> <td>    0.103</td> <td>    0.172</td>\n",
       "</tr>\n",
       "<tr>\n",
       "  <th>region[T.south]</th>     <td>    0.0572</td> <td>    0.009</td> <td>    6.122</td> <td> 0.000</td> <td>    0.039</td> <td>    0.076</td>\n",
       "</tr>\n",
       "<tr>\n",
       "  <th>region[T.west]</th>      <td>    0.1161</td> <td>    0.013</td> <td>    8.982</td> <td> 0.000</td> <td>    0.091</td> <td>    0.141</td>\n",
       "</tr>\n",
       "<tr>\n",
       "  <th>birthRate</th>           <td>    0.0288</td> <td>    0.004</td> <td>    6.471</td> <td> 0.000</td> <td>    0.020</td> <td>    0.038</td>\n",
       "</tr>\n",
       "<tr>\n",
       "  <th>deathRate</th>           <td>   -0.0054</td> <td>    0.005</td> <td>   -1.001</td> <td> 0.317</td> <td>   -0.016</td> <td>    0.005</td>\n",
       "</tr>\n",
       "<tr>\n",
       "  <th>popden</th>              <td>    0.0054</td> <td>    0.004</td> <td>    1.505</td> <td> 0.132</td> <td>   -0.002</td> <td>    0.012</td>\n",
       "</tr>\n",
       "<tr>\n",
       "  <th>pergrad</th>             <td>    0.0708</td> <td>    0.002</td> <td>   29.057</td> <td> 0.000</td> <td>    0.066</td> <td>    0.076</td>\n",
       "</tr>\n",
       "<tr>\n",
       "  <th>incomeper1000</th>       <td>   -0.0022</td> <td>    0.000</td> <td>   -4.880</td> <td> 0.000</td> <td>   -0.003</td> <td>   -0.001</td>\n",
       "</tr>\n",
       "</table>\n",
       "<table class=\"simpletable\">\n",
       "<tr>\n",
       "  <th>Omnibus:</th>       <td>1690.122</td> <th>  Durbin-Watson:     </th> <td>   0.896</td>\n",
       "</tr>\n",
       "<tr>\n",
       "  <th>Prob(Omnibus):</th>  <td> 0.000</td>  <th>  Jarque-Bera (JB):  </th> <td>4064.690</td>\n",
       "</tr>\n",
       "<tr>\n",
       "  <th>Skew:</th>           <td> 1.539</td>  <th>  Prob(JB):          </th> <td>    0.00</td>\n",
       "</tr>\n",
       "<tr>\n",
       "  <th>Kurtosis:</th>       <td> 5.544</td>  <th>  Cond. No.          </th> <td>    216.</td>\n",
       "</tr>\n",
       "</table><br/><br/>Notes:<br/>[1] Standard Errors assume that the covariance matrix of the errors is correctly specified."
      ],
      "text/plain": [
       "<class 'statsmodels.iolib.summary.Summary'>\n",
       "\"\"\"\n",
       "                            OLS Regression Results                            \n",
       "==============================================================================\n",
       "Dep. Variable:                  d_win   R-squared:                       0.306\n",
       "Model:                            OLS   Adj. R-squared:                  0.305\n",
       "Method:                 Least Squares   F-statistic:                     337.0\n",
       "Date:                Mon, 22 May 2023   Prob (F-statistic):               0.00\n",
       "Time:                        09:33:28   Log-Likelihood:                -1524.9\n",
       "No. Observations:                6116   AIC:                             3068.\n",
       "Df Residuals:                    6107   BIC:                             3128.\n",
       "Df Model:                           8                                         \n",
       "Covariance Type:            nonrobust                                         \n",
       "=======================================================================================\n",
       "                          coef    std err          t      P>|t|      [0.025      0.975]\n",
       "---------------------------------------------------------------------------------------\n",
       "Intercept              -0.1058      0.018     -5.885      0.000      -0.141      -0.071\n",
       "region[T.northeast]     0.1372      0.018      7.750      0.000       0.103       0.172\n",
       "region[T.south]         0.0572      0.009      6.122      0.000       0.039       0.076\n",
       "region[T.west]          0.1161      0.013      8.982      0.000       0.091       0.141\n",
       "birthRate               0.0288      0.004      6.471      0.000       0.020       0.038\n",
       "deathRate              -0.0054      0.005     -1.001      0.317      -0.016       0.005\n",
       "popden                  0.0054      0.004      1.505      0.132      -0.002       0.012\n",
       "pergrad                 0.0708      0.002     29.057      0.000       0.066       0.076\n",
       "incomeper1000          -0.0022      0.000     -4.880      0.000      -0.003      -0.001\n",
       "==============================================================================\n",
       "Omnibus:                     1690.122   Durbin-Watson:                   0.896\n",
       "Prob(Omnibus):                  0.000   Jarque-Bera (JB):             4064.690\n",
       "Skew:                           1.539   Prob(JB):                         0.00\n",
       "Kurtosis:                       5.544   Cond. No.                         216.\n",
       "==============================================================================\n",
       "\n",
       "Notes:\n",
       "[1] Standard Errors assume that the covariance matrix of the errors is correctly specified.\n",
       "\"\"\""
      ]
     },
     "execution_count": 10,
     "metadata": {},
     "output_type": "execute_result"
    }
   ],
   "source": [
    "election_2020[\"incomeper1000\"] = election_2020.income/1000\n",
    "m = smf.ols(\"d_win ~ region + birthRate + deathRate + popden + pergrad + incomeper1000\", data = election_2020).fit()\n",
    "m.summary()"
   ]
  },
  {
   "cell_type": "markdown",
   "id": "153aa290-3288-4fb9-8ff1-1cd48deb32a0",
   "metadata": {},
   "source": [
    "#### 1.4.2. Why do we use logistic regression here, instead of linear regression?"
   ]
  },
  {
   "cell_type": "markdown",
   "id": "be2f0962-c14f-4a3e-8d28-87d32c97c22a",
   "metadata": {},
   "source": [
    "We use logistic regression here because our dependent variable is binary and not continuous, which is what linear regression is used for."
   ]
  },
  {
   "cell_type": "markdown",
   "id": "ea66a5d6-dea4-4ff7-8039-546f5a71f675",
   "metadata": {},
   "source": [
    "#### 1.4.3. Interpret the results. Which results are statistically significant?"
   ]
  },
  {
   "cell_type": "markdown",
   "id": "55dfc99f-1725-4126-8b69-3a41eec7b0e8",
   "metadata": {},
   "source": [
    "The intercept means that when birthRate, deathRate, population density (1000/sq mi), percent graduates, and income(1000 USD/capita) is equal to 0 then it is the starting point of counties in the midwest region, also known as the reference category. The coefficients for each region category is then the baseline for counties in those specific regions. The birthRate coef means that for every 1 births/1000 per year the county has, it becomes 0.0288 more to democratic win. While the deathRate means that for every 1 death/1000 per year, the county becomes 0.0054 less to democratic win. The popden coef means that for every 1 increase in population density (1000/sq mi) the county becomes 0.0054 more to democratic win. The pergrad coefficient means that for a 1 percent increase in the county's percent of college graduates, the county is 0.0708 more to democratic win. The incomper1000 coef means that for every 1 increase to income(1000 usd/capita) the county beomes 0.0022 less to democratic win. Of all the coefs all but deathRate and population density is statistcally significant since deathRate and popden's p value are both greater than 0.05."
   ]
  },
  {
   "cell_type": "markdown",
   "id": "1e6ffb4f-59ff-4f5b-a46b-e13d6ae52d10",
   "metadata": {},
   "source": [
    "## 2. Model AirBnB Price"
   ]
  },
  {
   "cell_type": "markdown",
   "id": "309ceb08-3a66-4d50-88e3-ebe5ea40c61a",
   "metadata": {},
   "source": [
    "### 2.1. Load and Clean"
   ]
  },
  {
   "cell_type": "markdown",
   "id": "64c01511-f300-4c42-bd48-b8e8502d5b44",
   "metadata": {},
   "source": [
    "#### 2.1.1. Load data. I recommend to select only the variables you need below, bedrooms, price, and accommodates. You may return here again and change the variable selection as you need. Even better, check out the usecols argument for read_csv"
   ]
  },
  {
   "cell_type": "code",
   "execution_count": 11,
   "id": "1e85647e-ecde-49fa-9e32-7be32b7a623f",
   "metadata": {},
   "outputs": [
    {
     "name": "stdout",
     "output_type": "stream",
     "text": [
      "       bedrooms      price  accommodates        room_type\n",
      "0           1.0  $1,845.00             3  Entire home/apt\n",
      "1           1.0  $1,275.00             2     Private room\n",
      "2           1.0    $800.00             2     Private room\n",
      "3           1.0    $800.00             2     Private room\n",
      "4           1.0  $1,845.00             2     Private room\n",
      "...         ...        ...           ...              ...\n",
      "17035       1.0    $664.00             4  Entire home/apt\n",
      "17036       1.0    $960.00             2  Entire home/apt\n",
      "17037       2.0  $3,500.00             5  Entire home/apt\n",
      "17038       1.0  $1,360.00             2  Entire home/apt\n",
      "17039       1.0  $1,280.00             3  Entire home/apt\n",
      "\n",
      "[17040 rows x 4 columns]\n"
     ]
    }
   ],
   "source": [
    "airbnb = pd.read_csv('airbnb-bangkok-listings.csv.bz2')\n",
    "airbnb = airbnb[[\"bedrooms\", \"price\", \"accommodates\", \"room_type\"]].copy()\n",
    "print(airbnb)"
   ]
  },
  {
   "cell_type": "markdown",
   "id": "ffbebab0-dc33-40a9-939c-13d70c3dd9c8",
   "metadata": {},
   "source": [
    "#### 2.1.2. Do the basic data cleaning:"
   ]
  },
  {
   "cell_type": "markdown",
   "id": "0a05450e-d0f4-4182-99b0-9b6a2aa40ddd",
   "metadata": {},
   "source": [
    "#### 2.1.2.a. convert price to numeric."
   ]
  },
  {
   "cell_type": "code",
   "execution_count": 12,
   "id": "dfeec901-e9ea-45f2-8d8e-2282ae4f82d8",
   "metadata": {},
   "outputs": [
    {
     "name": "stdout",
     "output_type": "stream",
     "text": [
      "       bedrooms   price  accommodates        room_type\n",
      "0           1.0  1845.0             3  Entire home/apt\n",
      "1           1.0  1275.0             2     Private room\n",
      "2           1.0   800.0             2     Private room\n",
      "3           1.0   800.0             2     Private room\n",
      "4           1.0  1845.0             2     Private room\n",
      "...         ...     ...           ...              ...\n",
      "17035       1.0   664.0             4  Entire home/apt\n",
      "17036       1.0   960.0             2  Entire home/apt\n",
      "17037       2.0  3500.0             5  Entire home/apt\n",
      "17038       1.0  1360.0             2  Entire home/apt\n",
      "17039       1.0  1280.0             3  Entire home/apt\n",
      "\n",
      "[17040 rows x 4 columns]\n"
     ]
    }
   ],
   "source": [
    "def convert_price(price):\n",
    "    num = price[1:].replace(',', '')\n",
    "    return float(num)\n",
    "\n",
    "airbnb[\"price\"] = airbnb[\"price\"].apply(convert_price)\n",
    "print(airbnb)"
   ]
  },
  {
   "cell_type": "markdown",
   "id": "174d4050-f409-46bc-81f4-5e050d67dd4f",
   "metadata": {},
   "source": [
    "#### 2.1.2.b. remove entries with missing or invalid price, bedrooms, and other variables you need below"
   ]
  },
  {
   "cell_type": "code",
   "execution_count": 13,
   "id": "20f456d6-3899-4f9a-ad82-88e79b2906c5",
   "metadata": {},
   "outputs": [],
   "source": [
    "airbnb = airbnb.dropna()"
   ]
  },
  {
   "cell_type": "markdown",
   "id": "9849bf38-c3e5-4d17-aab1-aa9b2e6a8df6",
   "metadata": {},
   "source": [
    "#### 2.1.3. Analyze the distribution of price. Does it look like normal? Does it look like something else? Does it suggest you should do a log-transformation?"
   ]
  },
  {
   "cell_type": "code",
   "execution_count": 14,
   "id": "4ffb72ff-ef0d-4389-9186-908d8eb4f5db",
   "metadata": {},
   "outputs": [
    {
     "data": {
      "image/png": "[encoded data removed]",
      "text/plain": [
       "<Figure size 432x288 with 1 Axes>"
      ]
     },
     "metadata": {
      "needs_background": "light"
     },
     "output_type": "display_data"
    },
    {
     "data": {
      "image/png": "[encoded data removed]",
      "text/plain": [
       "<Figure size 432x288 with 1 Axes>"
      ]
     },
     "metadata": {
      "needs_background": "light"
     },
     "output_type": "display_data"
    }
   ],
   "source": [
    "plt.hist(airbnb.price, bins = 15, edgecolor=\"w\")\n",
    "plt.xlabel(\"price\")\n",
    "plt.ylabel(\"number of occurance\")\n",
    "plt.title(label=\"Distribution of Price\")\n",
    "plt.show()\n",
    "plt.hist(np.log10(airbnb.price), bins = 15, edgecolor=\"w\")\n",
    "plt.xlabel(\"log10(price)\")\n",
    "plt.ylabel(\"number of occurance\")\n",
    "plt.title(label=\"Distribution of log10(Price)\")\n",
    "plt.show()"
   ]
  },
  {
   "cell_type": "markdown",
   "id": "cc317211-8562-4f24-a47e-3734eeee8352",
   "metadata": {},
   "source": [
    "Yes the distribution is extremely skewed so we should do a log transformation"
   ]
  },
  {
   "cell_type": "markdown",
   "id": "7dcc53db-af2d-43fb-8234-7aede7963826",
   "metadata": {},
   "source": [
    "#### 2.1.4. Convert the number of bedrooms into another variable with a limited number of categories only, such as 1, 2, 3, 4+, and use these categories in the models below."
   ]
  },
  {
   "cell_type": "code",
   "execution_count": 15,
   "id": "ba8ed3f7-8a26-4e03-8d6d-cdc3371e871b",
   "metadata": {},
   "outputs": [
    {
     "name": "stdout",
     "output_type": "stream",
     "text": [
      "0        1\n",
      "1        1\n",
      "2        1\n",
      "3        1\n",
      "4        1\n",
      "        ..\n",
      "17035    1\n",
      "17036    1\n",
      "17037    2\n",
      "17038    1\n",
      "17039    1\n",
      "Name: roomcat, Length: 15200, dtype: object\n"
     ]
    }
   ],
   "source": [
    "def room_category(room):\n",
    "    if room == 1:\n",
    "        return \"1\"\n",
    "    elif room == 2:\n",
    "        return \"2\"\n",
    "    elif room == 3:\n",
    "        return \"3\"\n",
    "    else:\n",
    "        return \"4+\"\n",
    "airbnb[\"roomcat\"] = airbnb[\"bedrooms\"]\n",
    "airbnb[\"roomcat\"] = airbnb[\"roomcat\"].apply(room_category)\n",
    "airbnb[\"logprice\"] = np.log(airbnb.price)\n",
    "print(airbnb.roomcat)"
   ]
  },
  {
   "cell_type": "markdown",
   "id": "dcaff8bb-e14e-45e9-8ccf-1ecfd7a08176",
   "metadata": {},
   "source": [
    "### 2.2. Model"
   ]
  },
  {
   "cell_type": "markdown",
   "id": "fa1ac8be-59c8-4678-b279-ea8c4aff0140",
   "metadata": {},
   "source": [
    "#### 2.2.1. Run a linear regression where you explain the listing price with number of bedrooms where bedrooms uses these categories. Interpret the results, including R2."
   ]
  },
  {
   "cell_type": "code",
   "execution_count": 16,
   "id": "45f3225f-1765-41db-b347-734686975a33",
   "metadata": {},
   "outputs": [
    {
     "data": {
      "text/html": [
       "<table class=\"simpletable\">\n",
       "<caption>OLS Regression Results</caption>\n",
       "<tr>\n",
       "  <th>Dep. Variable:</th>          <td>price</td>      <th>  R-squared:         </th>  <td>   0.036</td>  \n",
       "</tr>\n",
       "<tr>\n",
       "  <th>Model:</th>                   <td>OLS</td>       <th>  Adj. R-squared:    </th>  <td>   0.035</td>  \n",
       "</tr>\n",
       "<tr>\n",
       "  <th>Method:</th>             <td>Least Squares</td>  <th>  F-statistic:       </th>  <td>   186.5</td>  \n",
       "</tr>\n",
       "<tr>\n",
       "  <th>Date:</th>             <td>Mon, 22 May 2023</td> <th>  Prob (F-statistic):</th>  <td>9.32e-119</td> \n",
       "</tr>\n",
       "<tr>\n",
       "  <th>Time:</th>                 <td>09:33:32</td>     <th>  Log-Likelihood:    </th> <td>-1.5589e+05</td>\n",
       "</tr>\n",
       "<tr>\n",
       "  <th>No. Observations:</th>      <td> 15200</td>      <th>  AIC:               </th>  <td>3.118e+05</td> \n",
       "</tr>\n",
       "<tr>\n",
       "  <th>Df Residuals:</th>          <td> 15196</td>      <th>  BIC:               </th>  <td>3.118e+05</td> \n",
       "</tr>\n",
       "<tr>\n",
       "  <th>Df Model:</th>              <td>     3</td>      <th>                     </th>      <td> </td>     \n",
       "</tr>\n",
       "<tr>\n",
       "  <th>Covariance Type:</th>      <td>nonrobust</td>    <th>                     </th>      <td> </td>     \n",
       "</tr>\n",
       "</table>\n",
       "<table class=\"simpletable\">\n",
       "<tr>\n",
       "        <td></td>           <th>coef</th>     <th>std err</th>      <th>t</th>      <th>P>|t|</th>  <th>[0.025</th>    <th>0.975]</th>  \n",
       "</tr>\n",
       "<tr>\n",
       "  <th>Intercept</th>     <td> 1742.2689</td> <td>   63.041</td> <td>   27.637</td> <td> 0.000</td> <td> 1618.701</td> <td> 1865.836</td>\n",
       "</tr>\n",
       "<tr>\n",
       "  <th>roomcat[T.2]</th>  <td> 1481.0031</td> <td>  158.427</td> <td>    9.348</td> <td> 0.000</td> <td> 1170.466</td> <td> 1791.540</td>\n",
       "</tr>\n",
       "<tr>\n",
       "  <th>roomcat[T.3]</th>  <td> 3317.3668</td> <td>  292.214</td> <td>   11.353</td> <td> 0.000</td> <td> 2744.591</td> <td> 3890.142</td>\n",
       "</tr>\n",
       "<tr>\n",
       "  <th>roomcat[T.4+]</th> <td> 6592.1869</td> <td>  329.856</td> <td>   19.985</td> <td> 0.000</td> <td> 5945.629</td> <td> 7238.745</td>\n",
       "</tr>\n",
       "</table>\n",
       "<table class=\"simpletable\">\n",
       "<tr>\n",
       "  <th>Omnibus:</th>       <td>36718.532</td> <th>  Durbin-Watson:     </th>   <td>   1.874</td>   \n",
       "</tr>\n",
       "<tr>\n",
       "  <th>Prob(Omnibus):</th>  <td> 0.000</td>   <th>  Jarque-Bera (JB):  </th> <td>557010065.623</td>\n",
       "</tr>\n",
       "<tr>\n",
       "  <th>Skew:</th>           <td>25.064</td>   <th>  Prob(JB):          </th>   <td>    0.00</td>   \n",
       "</tr>\n",
       "<tr>\n",
       "  <th>Kurtosis:</th>       <td>939.470</td>  <th>  Cond. No.          </th>   <td>    6.02</td>   \n",
       "</tr>\n",
       "</table><br/><br/>Notes:<br/>[1] Standard Errors assume that the covariance matrix of the errors is correctly specified."
      ],
      "text/plain": [
       "<class 'statsmodels.iolib.summary.Summary'>\n",
       "\"\"\"\n",
       "                            OLS Regression Results                            \n",
       "==============================================================================\n",
       "Dep. Variable:                  price   R-squared:                       0.036\n",
       "Model:                            OLS   Adj. R-squared:                  0.035\n",
       "Method:                 Least Squares   F-statistic:                     186.5\n",
       "Date:                Mon, 22 May 2023   Prob (F-statistic):          9.32e-119\n",
       "Time:                        09:33:32   Log-Likelihood:            -1.5589e+05\n",
       "No. Observations:               15200   AIC:                         3.118e+05\n",
       "Df Residuals:                   15196   BIC:                         3.118e+05\n",
       "Df Model:                           3                                         \n",
       "Covariance Type:            nonrobust                                         \n",
       "=================================================================================\n",
       "                    coef    std err          t      P>|t|      [0.025      0.975]\n",
       "---------------------------------------------------------------------------------\n",
       "Intercept      1742.2689     63.041     27.637      0.000    1618.701    1865.836\n",
       "roomcat[T.2]   1481.0031    158.427      9.348      0.000    1170.466    1791.540\n",
       "roomcat[T.3]   3317.3668    292.214     11.353      0.000    2744.591    3890.142\n",
       "roomcat[T.4+]  6592.1869    329.856     19.985      0.000    5945.629    7238.745\n",
       "==============================================================================\n",
       "Omnibus:                    36718.532   Durbin-Watson:                   1.874\n",
       "Prob(Omnibus):                  0.000   Jarque-Bera (JB):        557010065.623\n",
       "Skew:                          25.064   Prob(JB):                         0.00\n",
       "Kurtosis:                     939.470   Cond. No.                         6.02\n",
       "==============================================================================\n",
       "\n",
       "Notes:\n",
       "[1] Standard Errors assume that the covariance matrix of the errors is correctly specified.\n",
       "\"\"\""
      ]
     },
     "execution_count": 16,
     "metadata": {},
     "output_type": "execute_result"
    }
   ],
   "source": [
    "m = smf.ols(\"price ~ roomcat\", data = airbnb).fit()\n",
    "m.summary()"
   ]
  },
  {
   "cell_type": "markdown",
   "id": "a59e95f4-b5a9-48f3-aa37-1abe2df5d367",
   "metadata": {},
   "source": [
    "The intercept is means the baseline for the reference category 1-BR, which means that 1-BR starts at 1742.2689 in Thai Baht. The T.2 coef means that rooms with 2 bedrooms starts as 1481.0031 Baht, T.3 means 3 bedroom starts as 3317.3668 baht, and T.4+ means that 4 and more bedrooms starts at 6592.1869 Baht. The R Squared value tell us how much of the variance in price is explanined by this model, a R squared of 0.036 means that only 3.6% of the variance in price is explained by the bedroom category, which is small."
   ]
  },
  {
   "cell_type": "markdown",
   "id": "02263fa2-4b67-4074-a150-72ffa85bcd6f",
   "metadata": {},
   "source": [
    "#### 2.2.2. Now repeat the process with the model where you analyze log price instead of price. Interpret the results. Which model behaves better in the sense of R2?"
   ]
  },
  {
   "cell_type": "code",
   "execution_count": 17,
   "id": "d3031623-9311-4d4d-853c-d740a7d1d92b",
   "metadata": {},
   "outputs": [
    {
     "data": {
      "text/html": [
       "<table class=\"simpletable\">\n",
       "<caption>OLS Regression Results</caption>\n",
       "<tr>\n",
       "  <th>Dep. Variable:</th>        <td>logprice</td>     <th>  R-squared:         </th> <td>   0.203</td> \n",
       "</tr>\n",
       "<tr>\n",
       "  <th>Model:</th>                   <td>OLS</td>       <th>  Adj. R-squared:    </th> <td>   0.203</td> \n",
       "</tr>\n",
       "<tr>\n",
       "  <th>Method:</th>             <td>Least Squares</td>  <th>  F-statistic:       </th> <td>   1293.</td> \n",
       "</tr>\n",
       "<tr>\n",
       "  <th>Date:</th>             <td>Mon, 22 May 2023</td> <th>  Prob (F-statistic):</th>  <td>  0.00</td>  \n",
       "</tr>\n",
       "<tr>\n",
       "  <th>Time:</th>                 <td>09:33:32</td>     <th>  Log-Likelihood:    </th> <td> -16912.</td> \n",
       "</tr>\n",
       "<tr>\n",
       "  <th>No. Observations:</th>      <td> 15200</td>      <th>  AIC:               </th> <td>3.383e+04</td>\n",
       "</tr>\n",
       "<tr>\n",
       "  <th>Df Residuals:</th>          <td> 15196</td>      <th>  BIC:               </th> <td>3.386e+04</td>\n",
       "</tr>\n",
       "<tr>\n",
       "  <th>Df Model:</th>              <td>     3</td>      <th>                     </th>     <td> </td>    \n",
       "</tr>\n",
       "<tr>\n",
       "  <th>Covariance Type:</th>      <td>nonrobust</td>    <th>                     </th>     <td> </td>    \n",
       "</tr>\n",
       "</table>\n",
       "<table class=\"simpletable\">\n",
       "<tr>\n",
       "        <td></td>           <th>coef</th>     <th>std err</th>      <th>t</th>      <th>P>|t|</th>  <th>[0.025</th>    <th>0.975]</th>  \n",
       "</tr>\n",
       "<tr>\n",
       "  <th>Intercept</th>     <td>    7.0150</td> <td>    0.007</td> <td> 1040.367</td> <td> 0.000</td> <td>    7.002</td> <td>    7.028</td>\n",
       "</tr>\n",
       "<tr>\n",
       "  <th>roomcat[T.2]</th>  <td>    0.6781</td> <td>    0.017</td> <td>   40.014</td> <td> 0.000</td> <td>    0.645</td> <td>    0.711</td>\n",
       "</tr>\n",
       "<tr>\n",
       "  <th>roomcat[T.3]</th>  <td>    1.1249</td> <td>    0.031</td> <td>   35.989</td> <td> 0.000</td> <td>    1.064</td> <td>    1.186</td>\n",
       "</tr>\n",
       "<tr>\n",
       "  <th>roomcat[T.4+]</th> <td>    1.3712</td> <td>    0.035</td> <td>   38.865</td> <td> 0.000</td> <td>    1.302</td> <td>    1.440</td>\n",
       "</tr>\n",
       "</table>\n",
       "<table class=\"simpletable\">\n",
       "<tr>\n",
       "  <th>Omnibus:</th>       <td>3643.283</td> <th>  Durbin-Watson:     </th> <td>   1.643</td> \n",
       "</tr>\n",
       "<tr>\n",
       "  <th>Prob(Omnibus):</th>  <td> 0.000</td>  <th>  Jarque-Bera (JB):  </th> <td>16193.066</td>\n",
       "</tr>\n",
       "<tr>\n",
       "  <th>Skew:</th>           <td> 1.108</td>  <th>  Prob(JB):          </th> <td>    0.00</td> \n",
       "</tr>\n",
       "<tr>\n",
       "  <th>Kurtosis:</th>       <td> 7.545</td>  <th>  Cond. No.          </th> <td>    6.02</td> \n",
       "</tr>\n",
       "</table><br/><br/>Notes:<br/>[1] Standard Errors assume that the covariance matrix of the errors is correctly specified."
      ],
      "text/plain": [
       "<class 'statsmodels.iolib.summary.Summary'>\n",
       "\"\"\"\n",
       "                            OLS Regression Results                            \n",
       "==============================================================================\n",
       "Dep. Variable:               logprice   R-squared:                       0.203\n",
       "Model:                            OLS   Adj. R-squared:                  0.203\n",
       "Method:                 Least Squares   F-statistic:                     1293.\n",
       "Date:                Mon, 22 May 2023   Prob (F-statistic):               0.00\n",
       "Time:                        09:33:32   Log-Likelihood:                -16912.\n",
       "No. Observations:               15200   AIC:                         3.383e+04\n",
       "Df Residuals:                   15196   BIC:                         3.386e+04\n",
       "Df Model:                           3                                         \n",
       "Covariance Type:            nonrobust                                         \n",
       "=================================================================================\n",
       "                    coef    std err          t      P>|t|      [0.025      0.975]\n",
       "---------------------------------------------------------------------------------\n",
       "Intercept         7.0150      0.007   1040.367      0.000       7.002       7.028\n",
       "roomcat[T.2]      0.6781      0.017     40.014      0.000       0.645       0.711\n",
       "roomcat[T.3]      1.1249      0.031     35.989      0.000       1.064       1.186\n",
       "roomcat[T.4+]     1.3712      0.035     38.865      0.000       1.302       1.440\n",
       "==============================================================================\n",
       "Omnibus:                     3643.283   Durbin-Watson:                   1.643\n",
       "Prob(Omnibus):                  0.000   Jarque-Bera (JB):            16193.066\n",
       "Skew:                           1.108   Prob(JB):                         0.00\n",
       "Kurtosis:                       7.545   Cond. No.                         6.02\n",
       "==============================================================================\n",
       "\n",
       "Notes:\n",
       "[1] Standard Errors assume that the covariance matrix of the errors is correctly specified.\n",
       "\"\"\""
      ]
     },
     "execution_count": 17,
     "metadata": {},
     "output_type": "execute_result"
    }
   ],
   "source": [
    "m = smf.ols(\"logprice ~ roomcat\", data = airbnb).fit()\n",
    "m.summary()"
   ]
  },
  {
   "cell_type": "markdown",
   "id": "c4422fd5-c865-4065-93d3-05622db7c59b",
   "metadata": {},
   "source": [
    "The intercept is means the baseline for the reference category 1-BR, which means that the log price of 1-BR starts at 7.0150 in Thai Baht. The T.2 coef means that the log price of rooms with 2 bedrooms starts as 0.6781 Baht, T.3 means the log price of 3 bedroom starts as 1.1249 baht, and T.4+ means that the log price of 4 and more bedrooms starts at 1.3712 Baht. The R Squared value tell us how much of the variance in price is explanined by this model, a R squared of 0.203 means that only 20.3% of the variance in log price is explained by the bedroom category, which is small, but better than the previous model, which means this model behaves better."
   ]
  },
  {
   "cell_type": "markdown",
   "id": "94086498-8910-450b-adc1-84f62fea9cd9",
   "metadata": {},
   "source": [
    "#### 2.2.3. Finally we just add two more variables to the model: room type and accommodates. While room type only contains three values, the other two contain many different categories. Recode these as • accommodates: “1”, “2”, “3”, “4 and more” Run this model. Interpret and comment the more interesting/important results. Do not forget to mention what are the relevant reference categories and R2"
   ]
  },
  {
   "cell_type": "code",
   "execution_count": 18,
   "id": "6e995711-38ba-4c7a-9ae8-353a09efb782",
   "metadata": {},
   "outputs": [
    {
     "name": "stdout",
     "output_type": "stream",
     "text": [
      "0                 3\n",
      "1                 2\n",
      "2                 2\n",
      "3                 2\n",
      "4                 2\n",
      "            ...    \n",
      "17035    4 and more\n",
      "17036             2\n",
      "17037    4 and more\n",
      "17038             2\n",
      "17039             3\n",
      "Name: acomcat, Length: 15200, dtype: object\n"
     ]
    }
   ],
   "source": [
    "def accom_category(accommodation):\n",
    "    if accommodation == 1:\n",
    "        return \"1\"\n",
    "    elif accommodation == 2:\n",
    "        return \"2\"\n",
    "    elif accommodation == 3:\n",
    "        return \"3\"\n",
    "    else:\n",
    "        return \"4 and more\"\n",
    "airbnb[\"acomcat\"] = airbnb[\"accommodates\"]\n",
    "airbnb[\"acomcat\"] = airbnb[\"acomcat\"].apply(accom_category)\n",
    "print(airbnb[\"acomcat\"])"
   ]
  },
  {
   "cell_type": "code",
   "execution_count": 19,
   "id": "4a4caa63-bf02-4531-b8c4-980c100dc588",
   "metadata": {},
   "outputs": [
    {
     "data": {
      "text/html": [
       "<table class=\"simpletable\">\n",
       "<caption>OLS Regression Results</caption>\n",
       "<tr>\n",
       "  <th>Dep. Variable:</th>        <td>logprice</td>     <th>  R-squared:         </th> <td>   0.242</td> \n",
       "</tr>\n",
       "<tr>\n",
       "  <th>Model:</th>                   <td>OLS</td>       <th>  Adj. R-squared:    </th> <td>   0.242</td> \n",
       "</tr>\n",
       "<tr>\n",
       "  <th>Method:</th>             <td>Least Squares</td>  <th>  F-statistic:       </th> <td>   539.9</td> \n",
       "</tr>\n",
       "<tr>\n",
       "  <th>Date:</th>             <td>Mon, 22 May 2023</td> <th>  Prob (F-statistic):</th>  <td>  0.00</td>  \n",
       "</tr>\n",
       "<tr>\n",
       "  <th>Time:</th>                 <td>09:33:33</td>     <th>  Log-Likelihood:    </th> <td> -16531.</td> \n",
       "</tr>\n",
       "<tr>\n",
       "  <th>No. Observations:</th>      <td> 15200</td>      <th>  AIC:               </th> <td>3.308e+04</td>\n",
       "</tr>\n",
       "<tr>\n",
       "  <th>Df Residuals:</th>          <td> 15190</td>      <th>  BIC:               </th> <td>3.316e+04</td>\n",
       "</tr>\n",
       "<tr>\n",
       "  <th>Df Model:</th>              <td>     9</td>      <th>                     </th>     <td> </td>    \n",
       "</tr>\n",
       "<tr>\n",
       "  <th>Covariance Type:</th>      <td>nonrobust</td>    <th>                     </th>     <td> </td>    \n",
       "</tr>\n",
       "</table>\n",
       "<table class=\"simpletable\">\n",
       "<tr>\n",
       "              <td></td>                 <th>coef</th>     <th>std err</th>      <th>t</th>      <th>P>|t|</th>  <th>[0.025</th>    <th>0.975]</th>  \n",
       "</tr>\n",
       "<tr>\n",
       "  <th>Intercept</th>                 <td>    6.9007</td> <td>    0.032</td> <td>  215.886</td> <td> 0.000</td> <td>    6.838</td> <td>    6.963</td>\n",
       "</tr>\n",
       "<tr>\n",
       "  <th>roomcat[T.2]</th>              <td>    0.5087</td> <td>    0.021</td> <td>   24.406</td> <td> 0.000</td> <td>    0.468</td> <td>    0.550</td>\n",
       "</tr>\n",
       "<tr>\n",
       "  <th>roomcat[T.3]</th>              <td>    0.9379</td> <td>    0.034</td> <td>   27.713</td> <td> 0.000</td> <td>    0.872</td> <td>    1.004</td>\n",
       "</tr>\n",
       "<tr>\n",
       "  <th>roomcat[T.4+]</th>             <td>    1.2097</td> <td>    0.037</td> <td>   32.816</td> <td> 0.000</td> <td>    1.137</td> <td>    1.282</td>\n",
       "</tr>\n",
       "<tr>\n",
       "  <th>acomcat[T.2]</th>              <td>    0.1417</td> <td>    0.032</td> <td>    4.466</td> <td> 0.000</td> <td>    0.080</td> <td>    0.204</td>\n",
       "</tr>\n",
       "<tr>\n",
       "  <th>acomcat[T.3]</th>              <td>    0.2048</td> <td>    0.035</td> <td>    5.904</td> <td> 0.000</td> <td>    0.137</td> <td>    0.273</td>\n",
       "</tr>\n",
       "<tr>\n",
       "  <th>acomcat[T.4 and more]</th>     <td>    0.3136</td> <td>    0.033</td> <td>    9.455</td> <td> 0.000</td> <td>    0.249</td> <td>    0.379</td>\n",
       "</tr>\n",
       "<tr>\n",
       "  <th>room_type[T.Hotel room]</th>   <td>    0.1332</td> <td>    0.028</td> <td>    4.827</td> <td> 0.000</td> <td>    0.079</td> <td>    0.187</td>\n",
       "</tr>\n",
       "<tr>\n",
       "  <th>room_type[T.Private room]</th> <td>   -0.0583</td> <td>    0.013</td> <td>   -4.528</td> <td> 0.000</td> <td>   -0.084</td> <td>   -0.033</td>\n",
       "</tr>\n",
       "<tr>\n",
       "  <th>room_type[T.Shared room]</th>  <td>   -0.6869</td> <td>    0.033</td> <td>  -20.786</td> <td> 0.000</td> <td>   -0.752</td> <td>   -0.622</td>\n",
       "</tr>\n",
       "</table>\n",
       "<table class=\"simpletable\">\n",
       "<tr>\n",
       "  <th>Omnibus:</th>       <td>4377.153</td> <th>  Durbin-Watson:     </th> <td>   1.642</td> \n",
       "</tr>\n",
       "<tr>\n",
       "  <th>Prob(Omnibus):</th>  <td> 0.000</td>  <th>  Jarque-Bera (JB):  </th> <td>22672.783</td>\n",
       "</tr>\n",
       "<tr>\n",
       "  <th>Skew:</th>           <td> 1.295</td>  <th>  Prob(JB):          </th> <td>    0.00</td> \n",
       "</tr>\n",
       "<tr>\n",
       "  <th>Kurtosis:</th>       <td> 8.394</td>  <th>  Cond. No.          </th> <td>    13.9</td> \n",
       "</tr>\n",
       "</table><br/><br/>Notes:<br/>[1] Standard Errors assume that the covariance matrix of the errors is correctly specified."
      ],
      "text/plain": [
       "<class 'statsmodels.iolib.summary.Summary'>\n",
       "\"\"\"\n",
       "                            OLS Regression Results                            \n",
       "==============================================================================\n",
       "Dep. Variable:               logprice   R-squared:                       0.242\n",
       "Model:                            OLS   Adj. R-squared:                  0.242\n",
       "Method:                 Least Squares   F-statistic:                     539.9\n",
       "Date:                Mon, 22 May 2023   Prob (F-statistic):               0.00\n",
       "Time:                        09:33:33   Log-Likelihood:                -16531.\n",
       "No. Observations:               15200   AIC:                         3.308e+04\n",
       "Df Residuals:                   15190   BIC:                         3.316e+04\n",
       "Df Model:                           9                                         \n",
       "Covariance Type:            nonrobust                                         \n",
       "=============================================================================================\n",
       "                                coef    std err          t      P>|t|      [0.025      0.975]\n",
       "---------------------------------------------------------------------------------------------\n",
       "Intercept                     6.9007      0.032    215.886      0.000       6.838       6.963\n",
       "roomcat[T.2]                  0.5087      0.021     24.406      0.000       0.468       0.550\n",
       "roomcat[T.3]                  0.9379      0.034     27.713      0.000       0.872       1.004\n",
       "roomcat[T.4+]                 1.2097      0.037     32.816      0.000       1.137       1.282\n",
       "acomcat[T.2]                  0.1417      0.032      4.466      0.000       0.080       0.204\n",
       "acomcat[T.3]                  0.2048      0.035      5.904      0.000       0.137       0.273\n",
       "acomcat[T.4 and more]         0.3136      0.033      9.455      0.000       0.249       0.379\n",
       "room_type[T.Hotel room]       0.1332      0.028      4.827      0.000       0.079       0.187\n",
       "room_type[T.Private room]    -0.0583      0.013     -4.528      0.000      -0.084      -0.033\n",
       "room_type[T.Shared room]     -0.6869      0.033    -20.786      0.000      -0.752      -0.622\n",
       "==============================================================================\n",
       "Omnibus:                     4377.153   Durbin-Watson:                   1.642\n",
       "Prob(Omnibus):                  0.000   Jarque-Bera (JB):            22672.783\n",
       "Skew:                           1.295   Prob(JB):                         0.00\n",
       "Kurtosis:                       8.394   Cond. No.                         13.9\n",
       "==============================================================================\n",
       "\n",
       "Notes:\n",
       "[1] Standard Errors assume that the covariance matrix of the errors is correctly specified.\n",
       "\"\"\""
      ]
     },
     "execution_count": 19,
     "metadata": {},
     "output_type": "execute_result"
    }
   ],
   "source": [
    "m = smf.ols(\"logprice ~ roomcat + acomcat + room_type\", data = airbnb).fit()\n",
    "m.summary()"
   ]
  },
  {
   "cell_type": "markdown",
   "id": "a9dacf4e-7388-4a8c-a9a3-e119c44eb035",
   "metadata": {},
   "source": [
    "The reference category for this model is a 1 bedroom, 1 accommodate, entire home/apt, which will have its log price at 6.9007 baht which isthe intercept. If the room ends up having 2 br, its log price will increase by 0.5087 baht, increase by 0.9379 baht for 3 bedrooms, and 1.2097 baht for 4+ bedrooms. If the room ends up wih 2 accommodates the log price will increase by 0.1417 baht, 0.2048 baht for 3 accommodates, and 0.3136 baht for 4 and more accomodates. If the room ends up being a hotel room, the log price will increase by 0.1332 baht, decrease by 0.0583 baht if its a private room, and decrease by 0.6869 baht if its a shared room. The R squared is 0.242, which means that this model can explain the variance in log prices by 24.2%. Also all coef are statistically significant since their p values are less than 0.05."
   ]
  },
  {
   "cell_type": "markdown",
   "id": "e44e1662-d37d-4a9e-be5c-21112cabe385",
   "metadata": {},
   "source": [
    "### 2.3. Predict"
   ]
  },
  {
   "cell_type": "markdown",
   "id": "8f54d112-fe05-47cf-a93d-830145102388",
   "metadata": {},
   "source": [
    "#### 2.3.1. Now use the model above to predict (log) price for each listing in your data."
   ]
  },
  {
   "cell_type": "code",
   "execution_count": 20,
   "id": "651e61e0-9263-4013-8d25-eedca45af9e5",
   "metadata": {},
   "outputs": [
    {
     "name": "stdout",
     "output_type": "stream",
     "text": [
      "0        7.105497\n",
      "1        6.984033\n",
      "2        6.984033\n",
      "3        6.984033\n",
      "4        6.984033\n",
      "           ...   \n",
      "17035    7.214234\n",
      "17036    7.042362\n",
      "17037    7.722903\n",
      "17038    7.042362\n",
      "17039    7.105497\n",
      "Length: 15200, dtype: float64\n"
     ]
    }
   ],
   "source": [
    "predictions = m.predict(airbnb)\n",
    "print(predictions)"
   ]
  },
  {
   "cell_type": "markdown",
   "id": "ebcc5871-93b9-4d11-b578-b69078232f92",
   "metadata": {},
   "source": [
    " #### 2.3.2. Compute root-mean-squared-error (RMSE) of this prediction."
   ]
  },
  {
   "cell_type": "code",
   "execution_count": 28,
   "id": "0aa2caee-6b96-4b0e-b951-4f88228031e4",
   "metadata": {},
   "outputs": [
    {
     "name": "stdout",
     "output_type": "stream",
     "text": [
      "MSE: 0.5154473379771107\n",
      "RMSE: 0.7179466122053302\n"
     ]
    }
   ],
   "source": [
    "squarediff = np.square(airbnb.logprice - predictions)\n",
    "MSE = np.sum(squarediff)/len(squarediff)\n",
    "print(f\"MSE: {MSE}\")\n",
    "print(f\"RMSE: {np.sqrt(MSE)}\")"
   ]
  },
  {
   "cell_type": "markdown",
   "id": "bc373ad0-2a7a-4206-879d-3e53553554c6",
   "metadata": {},
   "source": [
    "#### 2.3.3. Now use your model to predict the price for a 2-bedroom apartment that accommodates 4. You can either leave out the variables that are not specified from your model, or choose reasonable values for those, and explain your reasoning."
   ]
  },
  {
   "cell_type": "markdown",
   "id": "f8042769-a4a7-4e06-b8be-f699eeb471b7",
   "metadata": {},
   "source": [
    "I expect the the Airbnb to be an entire home/apt because you can't have 2 rooms with shared and with private room. A hotel room is unlikely to split into two rooms for 4 travellers  \n",
    "predict = intercept + 2bedroom + 4accomodate"
   ]
  },
  {
   "cell_type": "code",
   "execution_count": 32,
   "id": "e19031e2-ffee-4186-8116-8dcec5d921a7",
   "metadata": {},
   "outputs": [
    {
     "name": "stdout",
     "output_type": "stream",
     "text": [
      "Prediction: 7.723 baht\n"
     ]
    }
   ],
   "source": [
    "predict = 6.9007 + 0.5087 + 0.3136\n",
    "print(f\"Prediction: {predict} baht\")"
   ]
  },
  {
   "cell_type": "markdown",
   "id": "3db9db98-65ac-4f86-8146-1aaf1d016dfe",
   "metadata": {},
   "source": [
    "#### 2.3.4. Compute the average log price for all listings in this group (2BR apartment that accommodates 4). Compare the result with your prediction. How close did you get?"
   ]
  },
  {
   "cell_type": "code",
   "execution_count": 40,
   "id": "608032dc-3f5b-4e94-a021-5d305345336e",
   "metadata": {},
   "outputs": [
    {
     "name": "stdout",
     "output_type": "stream",
     "text": [
      "Average price: 7.728450922007445\n",
      "Difference = 0.005450922007445236\n"
     ]
    }
   ],
   "source": [
    "avg = np.mean(airbnb[(airbnb.bedrooms == 2) & (airbnb.accommodates == 4)].logprice)\n",
    "print(f\"Average price: {avg}\")\n",
    "print(f\"Difference = {avg - predict}\")"
   ]
  },
  {
   "cell_type": "markdown",
   "id": "5f56feff-29ad-4a4f-a7a4-36bc56fc6ece",
   "metadata": {},
   "source": [
    "My prediction was close just a difference of 0.00545 baht."
   ]
  },
  {
   "cell_type": "markdown",
   "id": "797c9232-5317-42d8-a060-c4a947d635c5",
   "metadata": {},
   "source": [
    "Spent around 3 hrs."
   ]
  },
  {
   "cell_type": "code",
   "execution_count": null,
   "id": "41ccebef-5d83-41f4-85a2-b67baaddf5de",
   "metadata": {},
   "outputs": [],
   "source": []
  }
 ],
 "metadata": {
  "kernelspec": {
   "display_name": "Python 3 (ipykernel)",
   "language": "python",
   "name": "python3"
  },
  "language_info": {
   "codemirror_mode": {
    "name": "ipython",
    "version": 3
   },
   "file_extension": ".py",
   "mimetype": "text/x-python",
   "name": "python",
   "nbconvert_exporter": "python",
   "pygments_lexer": "ipython3",
   "version": "3.9.7"
  }
 },
 "nbformat": 4,
 "nbformat_minor": 5
}
