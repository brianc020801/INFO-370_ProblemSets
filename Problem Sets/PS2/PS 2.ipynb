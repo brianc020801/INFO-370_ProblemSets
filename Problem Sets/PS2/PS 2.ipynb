{
 "cells": [
  {
   "cell_type": "code",
   "execution_count": 1,
   "id": "c1896669-457f-42e2-adac-5d47d468595d",
   "metadata": {},
   "outputs": [],
   "source": [
    "import numpy as np\n",
    "import pandas as pd\n",
    "import matplotlib.pyplot as plt\n",
    "import seaborn as sns"
   ]
  },
  {
   "cell_type": "markdown",
   "id": "77bdcca1-4d9f-4f22-8e5a-deeb760242b3",
   "metadata": {},
   "source": [
    "## 1. Cleaning Data"
   ]
  },
  {
   "cell_type": "markdown",
   "id": "d8295c27-7e3d-48a2-ac74-b006f916289a",
   "metadata": {},
   "source": [
    "#### 1.1. Load the “gapminder” dataset (the same we used in class)"
   ]
  },
  {
   "cell_type": "code",
   "execution_count": 2,
   "id": "b3eb50fd-596f-4a26-8541-d8cb9a489f36",
   "metadata": {},
   "outputs": [],
   "source": [
    "gapminder = pd.read_csv('gapminder.csv.bz2', sep=\"\\t\")"
   ]
  },
  {
   "cell_type": "markdown",
   "id": "24dd3668-598c-44bd-bd55-8f103aed1717",
   "metadata": {},
   "source": [
    "#### 1.2. Do a quick check: how many rows and columns do you have? Does the first few lines of data look reasonable?"
   ]
  },
  {
   "cell_type": "code",
   "execution_count": 3,
   "id": "1bcaba35-1520-4d8b-8ad3-f65923b99953",
   "metadata": {},
   "outputs": [
    {
     "name": "stdout",
     "output_type": "stream",
     "text": [
      "(13055, 25)\n"
     ]
    }
   ],
   "source": [
    "print(gapminder.shape)"
   ]
  },
  {
   "cell_type": "markdown",
   "id": "409ef869-da2a-44bf-abd5-ae58bd59ffea",
   "metadata": {},
   "source": [
    "There are 13055 rows and 25 columns"
   ]
  },
  {
   "cell_type": "code",
   "execution_count": 4,
   "id": "8bab382c-8a8f-49a6-9e2c-16b803b8432d",
   "metadata": {},
   "outputs": [
    {
     "name": "stdout",
     "output_type": "stream",
     "text": [
      "     iso3                    name iso2    region  \\\n",
      "3234  DOM      Dominican Republic   DO  Americas   \n",
      "1308  BIH  Bosnia and Herzegovina   BA    Europe   \n",
      "304   ARE    United Arab Emirates   AE      Asia   \n",
      "\n",
      "                           sub-region intermediate-region    time  \\\n",
      "3234  Latin America and the Caribbean           Caribbean  2003.0   \n",
      "1308                  Southern Europe                 NaN  2003.0   \n",
      "304                      Western Asia                 NaN  1962.0   \n",
      "\n",
      "      totalPopulation  fertilityRate  lifeExpectancy  ...  accessElectricity  \\\n",
      "3234        8850317.0          2.725          70.227  ...           89.17381   \n",
      "1308        3762173.0          1.330          74.941  ...          100.00000   \n",
      "304          112118.0          6.892          53.573  ...                NaN   \n",
      "\n",
      "      agriculturalLand  agricultureTractors  cerealProduction  fertilizerHa  \\\n",
      "3234           24350.0                  NaN          656277.0      52.24268   \n",
      "1308           21690.0                  NaN          793364.0      17.65683   \n",
      "304             2080.0                124.0               NaN           NaN   \n",
      "\n",
      "            co2  greenhouseGases   co2_PC  pm2.5_35  battleDeaths  \n",
      "3234  21514.289       28367.1271  2.43091       NaN           NaN  \n",
      "1308  14488.317       18645.7857  3.85105       NaN           NaN  \n",
      "304      18.335              NaN  0.16353       NaN           NaN  \n",
      "\n",
      "[3 rows x 25 columns]\n"
     ]
    }
   ],
   "source": [
    "print(gapminder.sample(3))"
   ]
  },
  {
   "cell_type": "markdown",
   "id": "330523a5-7999-4573-a8b9-e60e2544d351",
   "metadata": {},
   "source": [
    "The first few rows looks fine, although there is a bit of data with NaN values"
   ]
  },
  {
   "cell_type": "markdown",
   "id": "0788a3bd-55d9-4f04-b016-309783ea714c",
   "metadata": {},
   "source": [
    "#### 1.3. How many missing values are there in each variable? Comment the results–which variables are good, which ones nearly unusable?"
   ]
  },
  {
   "cell_type": "code",
   "execution_count": 5,
   "id": "ccaa49db-a8d7-45bd-8cc8-498efc2b2471",
   "metadata": {},
   "outputs": [
    {
     "name": "stdout",
     "output_type": "stream",
     "text": [
      "iso3                       0\n",
      "time                      36\n",
      "totalPopulation           76\n",
      "name                     240\n",
      "region                   241\n",
      "sub-region               241\n",
      "iso2                     300\n",
      "fertilityRate           1307\n",
      "lifeExpectancy          1325\n",
      "agriculturalLand        1910\n",
      "childMortality          2600\n",
      "co2                     2658\n",
      "co2_PC                  2661\n",
      "GDP_PC                  3585\n",
      "cerealProduction        3606\n",
      "fertilizerHa            4929\n",
      "greenhouseGases         4994\n",
      "agricultureTractors     6947\n",
      "accessElectricity       7608\n",
      "intermediate-region     7697\n",
      "pm2.5_35               10727\n",
      "battleDeaths           12051\n",
      "adultLiteracy          12118\n",
      "youthFemaleLiteracy    12134\n",
      "youthMaleLiteracy      12134\n",
      "dtype: int64\n"
     ]
    }
   ],
   "source": [
    "print(gapminder.isna().sum().sort_values())"
   ]
  },
  {
   "cell_type": "markdown",
   "id": "c84bbcce-1d4a-4501-8bda-5b7577638274",
   "metadata": {},
   "source": [
    "Variables that are good are iso3, time, totalPopulation, name, region, sub-region, iso2  \n",
    "\n",
    "Variables that are are usable but not as good are fertilityRate, lifeExpectancy, agriculturalLand, childMortality, co2, co2_PC, GDP_PC, cerealProduction, fertilizerHa, greenhouseGases, agricultureTractors, accessElectricity, intermediate-region  \n",
    "\n",
    "Variables that are nearly unusable are pm2.5_35, battleDeaths, adultLiteracy, youthFemaleLiteracy, youthMaleLiteracy"
   ]
  },
  {
   "cell_type": "markdown",
   "id": "3a263b4b-2022-4856-bd3c-d0bbbc03eb75",
   "metadata": {},
   "source": [
    "#### 1.4. You should notice that “time” is missing in a number of cases. This seems surprising–who on earth does not know which year is it? Analyze the cases with missing time.\n"
   ]
  },
  {
   "cell_type": "code",
   "execution_count": 6,
   "id": "9b264d10-acef-40a5-b9ec-d61798895e88",
   "metadata": {},
   "outputs": [
    {
     "name": "stdout",
     "output_type": "stream",
     "text": [
      "                                               name iso2  totalPopulation\n",
      "3491                                 Western Sahara   EH              NaN\n",
      "5779                                         Jersey   JE              NaN\n",
      "11610                                       Tokelau   TK              NaN\n",
      "5297                                    Isle of Man   IM              NaN\n",
      "1325                               Saint Barthélemy   BL              NaN\n",
      "2468                                   Cook Islands   CK              NaN\n",
      "964                Bonaire, Sint Eustatius and Saba   BQ              NaN\n",
      "10346  South Georgia and the South Sandwich Islands   GS              NaN\n",
      "8181                                     Martinique   MQ              NaN\n",
      "4996              Heard Island and McDonald Islands   HM              NaN\n"
     ]
    }
   ],
   "source": [
    "print(gapminder[[\"name\", \"iso2\", \"totalPopulation\"]][gapminder.time.isna()].sample(10))"
   ]
  },
  {
   "cell_type": "markdown",
   "id": "cb193df4-9deb-415b-ba02-9251c48f4211",
   "metadata": {},
   "source": [
    "#### 1.5. Describe what you see there. Why do you think these observations are missing?"
   ]
  },
  {
   "cell_type": "markdown",
   "id": "d9147c4a-133f-414f-8ce2-4b6f715a60dd",
   "metadata": {},
   "source": [
    "I see that the totalPopulation is also NaN for these countries, which I think a possibility of why totalPopulationa and time would both be NaN is because the dataset did not manage to collect the data for these countries."
   ]
  },
  {
   "cell_type": "markdown",
   "id": "ea97b53f-8e7a-45ed-965a-fd11046db5b6",
   "metadata": {},
   "source": [
    "#### 1.6. You may also be surprised that “names” and “iso-2” codes have a different numberof missing cases. How many cases do you find where\n",
    "#### • name is missing but iso-2 code is there?  \n",
    "#### • iso-2 code is missing but name is there?"
   ]
  },
  {
   "cell_type": "code",
   "execution_count": 7,
   "id": "38bd644d-1792-48ad-9941-5df4b929ff66",
   "metadata": {},
   "outputs": [
    {
     "name": "stdout",
     "output_type": "stream",
     "text": [
      "name    0\n",
      "iso2    0\n",
      "dtype: int64\n",
      "name    60\n",
      "iso2     0\n",
      "dtype: int64\n",
      "         name iso2\n",
      "8421  Namibia  NaN\n",
      "8364  Namibia  NaN\n",
      "8380  Namibia  NaN\n",
      "8363  Namibia  NaN\n",
      "8385  Namibia  NaN\n",
      "8410  Namibia  NaN\n",
      "8396  Namibia  NaN\n",
      "8377  Namibia  NaN\n",
      "8408  Namibia  NaN\n",
      "8391  Namibia  NaN\n"
     ]
    }
   ],
   "source": [
    "print(gapminder[[\"name\", \"iso2\"]][(gapminder.name.isna()) & (gapminder.iso2.notna())].count())\n",
    "print(gapminder[[\"name\", \"iso2\"]][(gapminder.name.notna()) & (gapminder.iso2.isna())].count())\n",
    "print(gapminder[[\"name\", \"iso2\"]][(gapminder.name.notna()) & (gapminder.iso2.isna())].sample(10))"
   ]
  },
  {
   "cell_type": "markdown",
   "id": "a2f609a7-3568-4cd9-8c95-3f04f5e6a567",
   "metadata": {},
   "source": [
    "There are 0 cases where the name is missing but the code is there and there are 60 cases where the code is missing but the name is there"
   ]
  },
  {
   "cell_type": "markdown",
   "id": "0ebed871-622a-41dc-b503-bc6faeb78892",
   "metadata": {},
   "source": [
    "#### 1.7. If you did the previous question correctly, then you saw that one of the countries with missing iso-2 is Namibia. Can you figure out what is two-letter country code for Namibia? Why do you think, out of all countries, it is Namibia that has its iso-2 code missing?"
   ]
  },
  {
   "cell_type": "markdown",
   "id": "a1e0aba7-3f04-4c1d-941a-0af12559539d",
   "metadata": {},
   "source": [
    "The two letter country code for Namibia is NA, which can can interpretted as the Null Value for some languages, which can explain why Namibia has its iso-2 code missing."
   ]
  },
  {
   "cell_type": "markdown",
   "id": "de378207-cfad-4653-a0fd-5c685f023c84",
   "metadata": {},
   "source": [
    "#### 1.8. How many different countries are there in these data?"
   ]
  },
  {
   "cell_type": "code",
   "execution_count": 8,
   "id": "0dc242e3-062d-4eb6-90e4-44e679ef898c",
   "metadata": {},
   "outputs": [
    {
     "name": "stdout",
     "output_type": "stream",
     "text": [
      "253\n"
     ]
    }
   ],
   "source": [
    "print(len(gapminder.iso3.unique()))"
   ]
  },
  {
   "cell_type": "markdown",
   "id": "a8d0e032-aaae-4d1c-a1c6-41eab7bcc846",
   "metadata": {},
   "source": [
    "There are 253 different countries in these data."
   ]
  },
  {
   "cell_type": "markdown",
   "id": "508a7bbc-d544-41f5-9dc7-27854f0a38cb",
   "metadata": {},
   "source": [
    "#### 1.9. What is the earliest and the most recent year in the dataset?"
   ]
  },
  {
   "cell_type": "code",
   "execution_count": 9,
   "id": "ef2769cf-bf70-45b7-bc4f-edec88f61d07",
   "metadata": {},
   "outputs": [
    {
     "name": "stdout",
     "output_type": "stream",
     "text": [
      "1960.0\n",
      "2019.0\n"
     ]
    }
   ],
   "source": [
    "print(min(gapminder.time))\n",
    "print(max(gapminder.time))"
   ]
  },
  {
   "cell_type": "markdown",
   "id": "315215b6-5583-40bd-8ade-19b5c6f6f677",
   "metadata": {},
   "source": [
    "The earliest year is 1960 and the most recent year is 2019"
   ]
  },
  {
   "cell_type": "markdown",
   "id": "65def56e-9299-48d2-bb5a-ef8d03dc39eb",
   "metadata": {},
   "source": [
    "## 2. Wealth"
   ]
  },
  {
   "cell_type": "markdown",
   "id": "fa4a5b16-54f3-4468-ac59-278284e69099",
   "metadata": {},
   "source": [
    "#### 2.1. Find the most recent year in the data set that includes GDP data."
   ]
  },
  {
   "cell_type": "code",
   "execution_count": 10,
   "id": "b89a1583-8a9b-4930-9ae3-fd188863b1ca",
   "metadata": {},
   "outputs": [
    {
     "name": "stdout",
     "output_type": "stream",
     "text": [
      "2019.0\n"
     ]
    }
   ],
   "source": [
    "dropGDPNA = gapminder.dropna(subset = [\"GDP_PC\"])\n",
    "print(max(dropGDPNA.time))"
   ]
  },
  {
   "cell_type": "markdown",
   "id": "6850654e-10ff-4c53-9bfd-8c4479d200e5",
   "metadata": {},
   "source": [
    "The most recent year that includes GDP data is 2019"
   ]
  },
  {
   "cell_type": "markdown",
   "id": "9840a25a-adb4-4a49-aaea-2ccf489f580b",
   "metadata": {},
   "source": [
    "#### 2.2. What is the average wealth on this planet as of 2019? Let’s just compute average GDP per capita across all countries in 2019 and ignore the fact that countries are of different size, and the fact that some of those are not countries at all."
   ]
  },
  {
   "cell_type": "code",
   "execution_count": 11,
   "id": "895c93b8-adb1-46df-acc6-51a765fb3202",
   "metadata": {},
   "outputs": [
    {
     "name": "stdout",
     "output_type": "stream",
     "text": [
      "15055.352217243239\n"
     ]
    }
   ],
   "source": [
    "print(dropGDPNA[dropGDPNA.time == 2019].GDP_PC.mean())"
   ]
  },
  {
   "cell_type": "markdown",
   "id": "60630b84-b3b2-466d-aca6-a7d6fe8ff85a",
   "metadata": {},
   "source": [
    "The average GDP per captica for all countries in 2019 is \\$15055.35"
   ]
  },
  {
   "cell_type": "markdown",
   "id": "359414a5-9177-4b26-963a-029df59d4133",
   "metadata": {},
   "source": [
    "#### 2.3. But not all countries may have the same most recent year where GDP data is present. Which 5 countries countries have the largest number of the most recent years missing?"
   ]
  },
  {
   "cell_type": "code",
   "execution_count": 12,
   "id": "4639090d-ad98-4b33-951b-ba4c27a43ff3",
   "metadata": {},
   "outputs": [
    {
     "name": "stdout",
     "output_type": "stream",
     "text": [
      "    iso2                      name    time\n",
      "47    DJ                  Djibouti  2010.0\n",
      "61    FO             Faroe Islands  2010.0\n",
      "106   LI             Liechtenstein  2010.0\n",
      "175   TC  Turks and Caicos Islands  2010.0\n",
      "55    ER                   Eritrea  2011.0\n"
     ]
    }
   ],
   "source": [
    "recentYearsGDP = dropGDPNA.groupby([\"iso2\", \"name\"], as_index = False).time.max().nsmallest(5, 'time')\n",
    "print(recentYearsGDP)"
   ]
  },
  {
   "cell_type": "markdown",
   "id": "679db80b-0749-47d9-bade-ded70e965fcc",
   "metadata": {},
   "source": [
    "The 5 countries with the most recent years missing is Liechtenstein, Djibouti, Turks and Caicos Islands, Faroe Islands with 9 years missing at ending at 2010, and Eritrea with 8 years missing at ending at 2011. (Calculated using 2019 as the most recent baseline)"
   ]
  },
  {
   "cell_type": "code",
   "execution_count": 13,
   "id": "aaed3303-f133-4370-835d-729445397307",
   "metadata": {},
   "outputs": [
    {
     "name": "stdout",
     "output_type": "stream",
     "text": [
      "[1343.26873, 48530.23385, 141200.38001, 21028.40784, 537.49137]\n"
     ]
    }
   ],
   "source": [
    "gdp = []\n",
    "for i in range(len(recentYearsGDP.name)):\n",
    "    gdp.append(dropGDPNA[\"GDP_PC\"][(dropGDPNA.name == recentYearsGDP.name.iloc[i]) & (dropGDPNA.time == recentYearsGDP.time.iloc[i])].iloc[0])\n",
    "print(gdp)"
   ]
  },
  {
   "cell_type": "markdown",
   "id": "f2ed4c58-e50f-4bbf-8b60-62c3b3a955eb",
   "metadata": {},
   "source": [
    "The GDP in 2010 is about 1343.27 dollars for Dijibouti, 48530.23 dollars for Faroe Islands, 141200.38 dollars for Liechtenstein, 21028.41 dollars for Turks and Caicos Islands, and 537.49 dollars in 2011 for Eritrea.  \n",
    "\n",
    "I think some of these countries didn't report to the agencies responsible for collecting these data or did not disclose their GDP to the general public, which is why the newer data has not been collected"
   ]
  },
  {
   "cell_type": "markdown",
   "id": "4ea82db2-8765-4bce-be37-3d1d412bd1f8",
   "metadata": {},
   "source": [
    "#### 2.4. Now let’s compare the continents. We’ll make it easy again and just compute the average wealth (i.e. average GDP per capita) for each continent in 2019, and we use region as continent. We disregard the fact that countries are of different size. Print the continents, and the corresponding average GDP per capita. Order the continents by wealth so that the richest one is at top. Do you think this order is reasonable?"
   ]
  },
  {
   "cell_type": "code",
   "execution_count": 14,
   "id": "59343849-6503-4898-a2f1-f62f06bb45dd",
   "metadata": {},
   "outputs": [
    {
     "name": "stdout",
     "output_type": "stream",
     "text": [
      "region\n",
      "Europe      33227.983767\n",
      "Americas    14516.826303\n",
      "Asia        14116.124163\n",
      "Oceania     11817.735554\n",
      "Africa       2765.708956\n",
      "Name: GDP_PC, dtype: float64\n"
     ]
    }
   ],
   "source": [
    "print(dropGDPNA[dropGDPNA.time == 2019].groupby(\"region\").GDP_PC.mean().sort_values(ascending = False))"
   ]
  },
  {
   "cell_type": "markdown",
   "id": "5d4974e7-2fff-45fd-8d34-41e66f5d00ce",
   "metadata": {},
   "source": [
    "I do think this order is resasonable, Americas and Asia have similar economic strength while European countries tend to be more economically stronger than most countries, while countries in Africa tend to be poorer compared to the rest of the world."
   ]
  },
  {
   "cell_type": "markdown",
   "id": "88594da9-7891-4ae8-a3a8-2e6db1907353",
   "metadata": {},
   "source": [
    "## 3. Descriptive Stats"
   ]
  },
  {
   "cell_type": "markdown",
   "id": "dca61a07-d0d2-452c-8e6f-44663c9ad5cc",
   "metadata": {},
   "source": [
    "#### 3.1. First the simple descriptive statistics: compute minimum, maximum, median and mean wealth both in 1960 and 2019."
   ]
  },
  {
   "cell_type": "code",
   "execution_count": 15,
   "id": "2338d9a4-38ef-47f5-9475-4d25c05337de",
   "metadata": {},
   "outputs": [
    {
     "name": "stdout",
     "output_type": "stream",
     "text": [
      "             GDP_PC\n",
      "amin      153.34393\n",
      "amax    33362.70762\n",
      "median   1751.86291\n",
      "mean     5050.29504\n",
      "               GDP_PC\n",
      "amin       208.074730\n",
      "amax    111043.531700\n",
      "median    5922.527590\n",
      "mean     15055.352217\n"
     ]
    }
   ],
   "source": [
    "des1960 = dropGDPNA[dropGDPNA.time == 1960].agg({\"GDP_PC\":[np.min, np.max, np.median, np.mean]})\n",
    "print(des1960)\n",
    "des2019 = dropGDPNA[dropGDPNA.time == 2019].agg({\"GDP_PC\":[np.min, np.max, np.median, np.mean]})\n",
    "print(des2019)"
   ]
  },
  {
   "cell_type": "markdown",
   "id": "f6a2f598-5cd4-4553-8060-855e9e17bf50",
   "metadata": {},
   "source": [
    "#### 3.2. What do these figures suggest? Has the world become richer? Has it become more equal/inequal? Anything else you notice here?"
   ]
  },
  {
   "cell_type": "markdown",
   "id": "136d06bd-c990-4574-9ef2-7b234bce51c6",
   "metadata": {},
   "source": [
    "The world has become richer overall, but it has also became more inequal. All the values increased fro 1960 to 2019, but the minimum increased barely by 50 while the maximum grew more than 3 times. The mean also tripled and the median is close to increasing by 4 times."
   ]
  },
  {
   "cell_type": "markdown",
   "id": "79f95e8d-67b5-4b94-b171-bd521d73ac1a",
   "metadata": {},
   "source": [
    "#### 3.3. Plot histograms of world wealth for 1960 and 2019."
   ]
  },
  {
   "cell_type": "markdown",
   "id": "d180e4ed-e1af-4d04-ac39-a3d29eddb22f",
   "metadata": {},
   "source": [
    "plt1960 = plt.hist(dropGDPNA[dropGDPNA.time == 1960].GDP_PC)\n",
    "plt1960 = plt.show()\n",
    "plt2019 = plt.hist(dropGDPNA[dropGDPNA.time == 2019].GDP_PC)\n",
    "plt2019 = plt.show()"
   ]
  },
  {
   "cell_type": "markdown",
   "id": "96c55e8f-1137-4d87-bb23-c153c61b440b",
   "metadata": {},
   "source": [
    "#### 3.4. Compare these histograms. Comment what do you see."
   ]
  },
  {
   "cell_type": "markdown",
   "id": "3900147e-82df-46cf-a179-5612b1af02a5",
   "metadata": {},
   "source": [
    "The range of poor countries GDP per capita went from 0 - 5000 in 1960 to 0 - 20000 in 2019. The shape of the graph didn't change too much, it is still extremely right skewed."
   ]
  },
  {
   "cell_type": "markdown",
   "id": "b6366712-41f0-42f5-8729-b8e73ad92dec",
   "metadata": {},
   "source": [
    "#### 3.5. Compute the quintile share ratio of GDP per capita for 1960 and 2019. What does it tell you–has inequality grown over time?"
   ]
  },
  {
   "cell_type": "code",
   "execution_count": 16,
   "id": "436f545c-c9dc-44af-a625-87ca77a3be1e",
   "metadata": {},
   "outputs": [
    {
     "name": "stdout",
     "output_type": "stream",
     "text": [
      "qsr1960: 48.44796581082919\n",
      "qsr2019: 57.22513517688509\n"
     ]
    }
   ],
   "source": [
    "gdp1960 = dropGDPNA[dropGDPNA.time == 1960].GDP_PC\n",
    "q20_1960, q80_1960 = np.percentile(gdp1960, [20, 80])\n",
    "qsr1960 = np.sum(gdp1960[gdp1960 > q80_1960])/np.sum(gdp1960[gdp1960 < q20_1960])\n",
    "print(\"qsr1960: \" + str(qsr1960))\n",
    "\n",
    "gdp2019 = dropGDPNA[dropGDPNA.time == 2019].GDP_PC\n",
    "q20_2019, q80_2019 = np.percentile(gdp2019, [20, 80])\n",
    "qsr2019 = np.sum(gdp2019[gdp2019 > q80_2019])/np.sum(gdp2019[gdp2019 < q20_2019])\n",
    "print(\"qsr2019: \" + str(qsr2019))"
   ]
  },
  {
   "cell_type": "markdown",
   "id": "3bcc70f6-4a4d-42d4-a579-8777d0461766",
   "metadata": {},
   "source": [
    "The world has gotten more unequal, the top 20% countries used to be 48 times more rich than the bottom 20% and now they are 57 times more rich."
   ]
  },
  {
   "cell_type": "markdown",
   "id": "11c7f94e-d109-4670-99e3-bfa21109e0bf",
   "metadata": {},
   "source": [
    "#### 3.6. Now compute the Pareto ratio for the same two years. Will your conclusion be the same?"
   ]
  },
  {
   "cell_type": "code",
   "execution_count": 17,
   "id": "10dc3503-35b9-429b-b16d-7f3189338095",
   "metadata": {},
   "outputs": [
    {
     "name": "stdout",
     "output_type": "stream",
     "text": [
      "share_1960: 0.6737449798652131\n",
      "share_2019: 0.6708162826334317\n"
     ]
    }
   ],
   "source": [
    "totalGDP1960 = gdp1960.sum()\n",
    "threshold1960 = np.percentile(gdp1960, 80)\n",
    "top20_1960 = gdp1960[gdp1960 > threshold1960].sum()\n",
    "share_1960 = top20_1960/totalGDP1960\n",
    "print(\"share_1960: \" + str(share_1960))\n",
    "\n",
    "totalGDP2019 = gdp2019.sum()\n",
    "threshold2019 = np.percentile(gdp2019, 80)\n",
    "top20_2019 = gdp2019[gdp2019 > threshold2019].sum()\n",
    "share_2019 = top20_2019/totalGDP2019\n",
    "print(\"share_2019: \" + str(share_2019))"
   ]
  },
  {
   "cell_type": "markdown",
   "id": "b93cdfd6-458e-48b4-b8db-096df75204b1",
   "metadata": {},
   "source": [
    "The outcome didn't match the 80/20 rule of the Pareto ration, bu it shows that the rich isn't getting richer but rather stayed the same as the rich owned about 67.38 percent of the GDP in 1960 but went down a it to 67.08 percent in 2019."
   ]
  },
  {
   "cell_type": "markdown",
   "id": "444a199e-302c-471b-bf7a-86ee33676c98",
   "metadata": {},
   "source": [
    "#### 3.7. What do you think–are these data useful to tell something about how the world inequality has changed over the last 60 years?"
   ]
  },
  {
   "cell_type": "markdown",
   "id": "8d396e15-b4d0-42d5-a17e-db5c6692581a",
   "metadata": {},
   "source": [
    "I think these data is useful to tell us about the world changing by telling us the difference between their inequality because we can tell how much the richer of the world owns compared to the poorer of the world. It showed that despite not owning the same percent of the total, the top 20 countries still owned more."
   ]
  },
  {
   "cell_type": "markdown",
   "id": "c5c46291-f0f0-435d-9871-f9425c2f5a9d",
   "metadata": {},
   "source": [
    "## 4. Health"
   ]
  },
  {
   "cell_type": "markdown",
   "id": "e11c3901-2ad2-455c-aff6-0c9a6033cddb",
   "metadata": {},
   "source": [
    "#### 4.1. How many countries do not have CM data for year 1960? How many countries do not have this information for year 2019? So is data improving over time?"
   ]
  },
  {
   "cell_type": "code",
   "execution_count": 18,
   "id": "659c19f7-1c4e-4ede-be35-4ca99902b3f2",
   "metadata": {},
   "outputs": [
    {
     "name": "stdout",
     "output_type": "stream",
     "text": [
      "100\n",
      "21\n"
     ]
    }
   ],
   "source": [
    "cmDataNa1960 = gapminder[(gapminder.childMortality.isna()) & (gapminder.time == 1960)].iso2.unique()\n",
    "print(len(cmDataNa1960))\n",
    "cmDataNa2019 = gapminder[(gapminder.childMortality.isna()) & (gapminder.time == 2019)].iso2.unique()\n",
    "print(len(cmDataNa2019))"
   ]
  },
  {
   "cell_type": "markdown",
   "id": "c4e7f234-1ad8-4097-901f-7656180cdb7e",
   "metadata": {},
   "source": [
    "Yes there are less countries without child mortality data, in 1960 there are 100, in 2019 there are 21, which means more countries are collecting and recording data."
   ]
  },
  {
   "cell_type": "markdown",
   "id": "3d6d636d-4e9f-4667-9dae-fff0b9a7a3e4",
   "metadata": {},
   "source": [
    "#### 4.2. What is the largest and smallest CM in data? Which years/countries does this correspond to?"
   ]
  },
  {
   "cell_type": "code",
   "execution_count": 19,
   "id": "18a71306-f68f-4155-b7d6-8a2c833df035",
   "metadata": {},
   "outputs": [
    {
     "name": "stdout",
     "output_type": "stream",
     "text": [
      "        name    time  childMortality\n",
      "7703    Mali  1963.0           420.6\n",
      "7704    Mali  1964.0           413.5\n",
      "12817  Yemen  1962.0           409.8\n",
      "             name    time  childMortality\n",
      "10587  San Marino  2018.0             1.7\n",
      "10588  San Marino  2019.0             1.7\n",
      "10586  San Marino  2017.0             1.8\n"
     ]
    }
   ],
   "source": [
    "print(gapminder[[\"name\", \"time\", \"childMortality\"]].nlargest(3, \"childMortality\"))\n",
    "print(gapminder[[\"name\", \"time\", \"childMortality\"]].nsmallest(3, \"childMortality\"))"
   ]
  },
  {
   "cell_type": "markdown",
   "id": "92b924e6-7880-4550-aa07-ac5ba7455cda",
   "metadata": {},
   "source": [
    "The largest CM data is Mali in 1963 with 420.6 and the smallest is San Marino in 2018 and 2019 with 1.7."
   ]
  },
  {
   "cell_type": "markdown",
   "id": "6eb24098-6b60-46ea-b07a-8b6f26d85a55",
   "metadata": {},
   "source": [
    "#### 4.3. For each continent, which country has the smallest and the largest CM (in 2019)."
   ]
  },
  {
   "cell_type": "code",
   "execution_count": 20,
   "id": "a8997b09-8e4d-4d51-a879-a92dbf3717d5",
   "metadata": {},
   "outputs": [
    {
     "name": "stdout",
     "output_type": "stream",
     "text": [
      "region\n",
      "Africa      8603\n",
      "Americas    5176\n",
      "Asia        9144\n",
      "Europe      7399\n",
      "Oceania     6199\n",
      "Name: childMortality, dtype: int64\n",
      "region\n",
      "Africa       6679\n",
      "Americas     1986\n",
      "Asia         2890\n",
      "Europe      10588\n",
      "Oceania       663\n",
      "Name: childMortality, dtype: int64\n"
     ]
    }
   ],
   "source": [
    "cmDropNa = gapminder.dropna(subset = [\"childMortality\"])\n",
    "cm2019Max = cmDropNa[cmDropNa.time == 2019].groupby(\"region\")[\"childMortality\"].idxmax()\n",
    "print(cm2019Max)\n",
    "cm2019Min = cmDropNa[cmDropNa.time == 2019].groupby(\"region\")[\"childMortality\"].idxmin()\n",
    "print(cm2019Min)"
   ]
  },
  {
   "cell_type": "code",
   "execution_count": 21,
   "id": "948bda9f-8f02-4de3-ba71-c135f4621045",
   "metadata": {},
   "outputs": [
    {
     "name": "stdout",
     "output_type": "stream",
     "text": [
      "Largest CM Country 2019\n",
      "Africa: Nigeria\n",
      "Americas: Haiti\n",
      "Asia: Pakistan\n",
      "Europe: Moldova, Republic of\n",
      "Oceania: Kiribati\n",
      "\n",
      "\n",
      "Smallest CM Country 2019\n",
      "Africa: Libya\n",
      "Americas: Canada\n",
      "Asia: Cyprus\n",
      "Europe: San Marino\n",
      "Oceania: Australia\n"
     ]
    }
   ],
   "source": [
    "print(\"Largest CM Country 2019\")\n",
    "for i in cm2019Max:\n",
    "    print(gapminder.region.loc[i] + \": \" + gapminder.name.loc[i])\n",
    "print(\"\\n\")\n",
    "print(\"Smallest CM Country 2019\")\n",
    "for i in cm2019Min:\n",
    "    print(gapminder.region.loc[i] + \": \" + gapminder.name.loc[i])"
   ]
  },
  {
   "cell_type": "markdown",
   "id": "c41f6196-9ef4-4323-925b-a03849306c32",
   "metadata": {},
   "source": [
    "## 5. Graphical Analysis"
   ]
  },
  {
   "cell_type": "code",
   "execution_count": 22,
   "id": "88868af6-c576-4c1c-b8ea-d060da54b23d",
   "metadata": {},
   "outputs": [
    {
     "data": {
      "image/png": "[encoded data removed]",
      "text/plain": [
       "<Figure size 432x288 with 1 Axes>"
      ]
     },
     "metadata": {
      "needs_background": "light"
     },
     "output_type": "display_data"
    }
   ],
   "source": [
    "countryName = [\"Mali\", \"San Marino\", \"Turkey\", \"China\", \"United States of America\"]\n",
    "lineplt = sns.lineplot(x = \"time\", y = \"childMortality\", hue = \"name\", palette = ['red', 'green', 'blue', 'black', 'pink'],\n",
    "                       data=cmDropNa[cmDropNa.name.isin(countryName)])\n",
    "lineplt = plt.title(\"Child Mortality Rate over Years\")\n",
    "lineplt = plt.xlabel(\"Year\")\n",
    "lineplt = plt.ylabel(\"Child Mortality\")\n",
    "lineplt = plt.legend(title = \"Country\")\n",
    "lineplt = plt.show()"
   ]
  },
  {
   "cell_type": "markdown",
   "id": "a8691b42-ccc8-460f-a3b2-654a1cd9c78d",
   "metadata": {},
   "source": [
    "Mali is still the highest of the 5 countries in child mortality rate, while Turkey decreased a lot and is approaching the same number as the other 4 countries (excluding Mali). Mali, Turkey and the US started recodrding the data earlier than the other two countries. The US started out the lowest of the 5 countries but eventually San Marino became the lowest."
   ]
  },
  {
   "cell_type": "markdown",
   "id": "f2118e36-25e7-4d48-97d0-c227a3975eab",
   "metadata": {},
   "source": [
    "Took about 2 hrs"
   ]
  }
 ],
 "metadata": {
  "kernelspec": {
   "display_name": "Python 3 (ipykernel)",
   "language": "python",
   "name": "python3"
  },
  "language_info": {
   "codemirror_mode": {
    "name": "ipython",
    "version": 3
   },
   "file_extension": ".py",
   "mimetype": "text/x-python",
   "name": "python",
   "nbconvert_exporter": "python",
   "pygments_lexer": "ipython3",
   "version": "3.9.7"
  }
 },
 "nbformat": 4,
 "nbformat_minor": 5
}
